{
  "nbformat": 4,
  "nbformat_minor": 0,
  "metadata": {
    "colab": {
      "provenance": [],
      "include_colab_link": true
    },
    "kernelspec": {
      "name": "python3",
      "display_name": "Python 3"
    }
  },
  "cells": [
    {
      "cell_type": "markdown",
      "metadata": {
        "id": "view-in-github",
        "colab_type": "text"
      },
      "source": [
        "<a href=\"https://colab.research.google.com/github/DIFACQUIM/Cursos/blob/main/2_1_Programming__fundamentals.ipynb\" target=\"_parent\"><img src=\"https://colab.research.google.com/assets/colab-badge.svg\" alt=\"Open In Colab\"/></a>"
      ]
    },
    {
      "cell_type": "markdown",
      "metadata": {
        "id": "GYJlZ0ig2o32"
      },
      "source": [
        "# **Programming fundamentals - Introduction to Python**\n",
        "\n",
        "---\n",
        "Made by: Fernanda Saldivar, Diana Prado and Karen Pelcastre\n",
        "\n",
        "Contact: fer.saldivarg@gmail.com, pradodiana93@gmail.com\n",
        "\n",
        "**Last Update:** March 2025\n",
        "\n"
      ]
    },
    {
      "cell_type": "markdown",
      "metadata": {
        "id": "li3hHeuCFhKi"
      },
      "source": [
        "# Contents\n",
        "\n",
        "---\n",
        "\n",
        "\n",
        "\n",
        "\n",
        "\n",
        "\n"
      ]
    },
    {
      "cell_type": "markdown",
      "source": [
        ">[Programming fundamentals - Introduction to Python](#scrollTo=GYJlZ0ig2o32)\n",
        "\n",
        ">[Contents](#scrollTo=li3hHeuCFhKi)\n",
        "\n",
        ">[Objectives](#scrollTo=rsaQsNSIFVz-)\n",
        "\n",
        ">[Introduction:](#scrollTo=NiHvaOvAxd-s)\n",
        "\n",
        ">[1. Data](#scrollTo=t0tkuKAVRHqb)\n",
        "\n",
        ">[2. Variables](#scrollTo=cih8ETmIQldB)\n",
        "\n",
        ">[3. Operators](#scrollTo=quX8B8VP6ouV)\n",
        "\n",
        ">>[3.1 Conversion of data types](#scrollTo=QBDASRQ5i5zq)\n",
        "\n",
        ">[4. Functions](#scrollTo=LsNkaeDYRLOK)\n",
        "\n",
        ">[5. Libraries/Packages](#scrollTo=UdCaoRaEQq1U)\n",
        "\n",
        ">>[5.1 Selecting a singular column](#scrollTo=ZybtR09Gs17w)\n",
        "\n",
        ">>[5.2 Example of a function](#scrollTo=CB0qr6203P7e)\n",
        "\n",
        ">[6. Upload data to Google Colab](#scrollTo=if00xi5q_Afm)\n",
        "\n",
        ">>[6.1 Upload a file from the PC to Google Colab](#scrollTo=SYk_rHtewAbv)\n",
        "\n",
        ">>[6.2 Upload a file that is in Google Drive](#scrollTo=8PehLTtxO42j)\n",
        "\n",
        ">[For more information:](#scrollTo=jycieF8orBA5)\n",
        "\n"
      ],
      "metadata": {
        "colab_type": "toc",
        "id": "TfXedUNiPJPl"
      }
    },
    {
      "cell_type": "markdown",
      "source": [
        "# Objectives\n",
        "\n",
        "---\n",
        "\n",
        "* Introduce basic Python definitions and functions.\n",
        "* Introduce the concept of libreries/packages\n",
        "* Import existing databases"
      ],
      "metadata": {
        "id": "rsaQsNSIFVz-"
      }
    },
    {
      "cell_type": "markdown",
      "source": [
        "# Introduction:\n",
        "---\n",
        "\n",
        "[Python](https://docs.python.org/3/) is an interpreted, object-oriented programing language. It has a broad applicability and package support, allowing highly adaptable and scalable products and software to be built in the real world.\n",
        "In science, is becoming more recurring the use of Python in areas like Chemoinformatics and Bioinformatics for the management and analysis of complex data, for example, genomic data, medical images, electronic medical records and data bases of thousands (even millions) of chemical compounds.\n",
        "\n",
        "Python has become an attractive programming language in the bioinformatics and chemoiformatics fields due to its fast learning curve and it easy integration into multiple applications.\n"
      ],
      "metadata": {
        "id": "NiHvaOvAxd-s"
      }
    },
    {
      "cell_type": "markdown",
      "source": [
        "Before beginning it is important to verify the version of Python we are working with, this way we ensure we are using the correct syntax. Also, it is an important data for when we share the code and our results so they can be reproducible. To find out the version of Python we are working with, we run the following code:"
      ],
      "metadata": {
        "id": "vXQWFwpQ-iDh"
      }
    },
    {
      "cell_type": "code",
      "source": [
        "!python --version"
      ],
      "metadata": {
        "colab": {
          "base_uri": "https://localhost:8080/"
        },
        "id": "ZfEAyO9QhAhp",
        "outputId": "4c7de7eb-126d-404b-b7fb-32a189b0f89b"
      },
      "execution_count": null,
      "outputs": [
        {
          "output_type": "stream",
          "name": "stdout",
          "text": [
            "Python 3.11.11\n"
          ]
        }
      ]
    },
    {
      "cell_type": "markdown",
      "metadata": {
        "id": "t0tkuKAVRHqb"
      },
      "source": [
        "# *1. Data* <a class=\"anchor\" id=\"Datos\"></a>\n",
        "---\n",
        "In Python there are specific types of values that we can use. Below we mention the different types of data in Python with some examples:\n",
        "\n",
        "*   *Boolean* (bool): Is a variable that can be  _true_ or _false_.\n",
        "\n",
        "*   *Integer* (int): Represents positive or negative integers, e.g., 8 or -678.\n",
        "\n",
        "*   *Floating point number* (float): Represents real numbers, e.g., 3.14159 or -6.5.\n",
        "\n",
        "*    *String* (str) : Are strings of characters, meaning, text values, e.g., “Hello” or “Banana”.\n",
        "\n",
        "*   Lists (list) : This type of value is a list, either from integers or float values. E.g.,  [1,2,3,4] or [1.23, 2, 3.54, 4].\n",
        "\n",
        "To confirm the type of value which we are working with we can use **type( )** and write the name of the variable inside the parenthesis.\n",
        "\n",
        "For more information, visit [documentation](https://docs.python.org/3/library/stdtypes.html \"Python's Built-in Types\").\n",
        "\n"
      ]
    },
    {
      "cell_type": "code",
      "source": [
        "#Example of the type() function\n",
        "type(0.8)"
      ],
      "metadata": {
        "id": "wCOHw2kQtPkb",
        "colab": {
          "base_uri": "https://localhost:8080/"
        },
        "outputId": "423b7237-13ee-4344-b871-f975c833928f"
      },
      "execution_count": null,
      "outputs": [
        {
          "output_type": "execute_result",
          "data": {
            "text/plain": [
              "float"
            ]
          },
          "metadata": {},
          "execution_count": 2
        }
      ]
    },
    {
      "cell_type": "code",
      "metadata": {
        "id": "7q4Uw8X9LRgf",
        "colab": {
          "base_uri": "https://localhost:8080/"
        },
        "outputId": "fb2c52fb-d331-414b-be5d-f2d20404e133"
      },
      "source": [
        "type(5)"
      ],
      "execution_count": null,
      "outputs": [
        {
          "output_type": "execute_result",
          "data": {
            "text/plain": [
              "int"
            ]
          },
          "metadata": {},
          "execution_count": 3
        }
      ]
    },
    {
      "cell_type": "markdown",
      "metadata": {
        "id": "QBuGVFyXlame"
      },
      "source": [
        "The comparison operator **==** compares if two values are the same. It returns a type of variable called *boolean* that can be *true* or *false*.\n"
      ]
    },
    {
      "cell_type": "code",
      "source": [
        "#Asign value 3 to variable \"a\"\n",
        "a= 3"
      ],
      "metadata": {
        "id": "bIWRcSFEVt4A"
      },
      "execution_count": null,
      "outputs": []
    },
    {
      "cell_type": "code",
      "metadata": {
        "id": "QJV984oSla95",
        "colab": {
          "base_uri": "https://localhost:8080/"
        },
        "outputId": "598dc896-96fb-434f-e597-a2b4f108d699"
      },
      "source": [
        "#Compare the actual value of \"a\" with number 2\n",
        "a == 2"
      ],
      "execution_count": null,
      "outputs": [
        {
          "output_type": "execute_result",
          "data": {
            "text/plain": [
              "False"
            ]
          },
          "metadata": {},
          "execution_count": 5
        }
      ]
    },
    {
      "cell_type": "markdown",
      "metadata": {
        "id": "f0IomoI3pVTo"
      },
      "source": [
        "As mentioned above, a text value is a *string*. To give the instruction that we want to print text, we use single or double quotation marks (“ “ or ' ')"
      ]
    },
    {
      "cell_type": "code",
      "source": [
        "\"This is a string\""
      ],
      "metadata": {
        "colab": {
          "base_uri": "https://localhost:8080/"
        },
        "id": "Q2s2ukcFhF91",
        "outputId": "80bb41f6-86bf-4cd4-d2e3-8f1fc8f9e4f1"
      },
      "execution_count": null,
      "outputs": [
        {
          "output_type": "execute_result",
          "data": {
            "text/plain": [
              "'This is a string'"
            ],
            "application/vnd.google.colaboratory.intrinsic+json": {
              "type": "string"
            }
          },
          "metadata": {},
          "execution_count": 6
        }
      ]
    },
    {
      "cell_type": "markdown",
      "metadata": {
        "id": "l6E6KqusbS5a"
      },
      "source": [
        "A string is a group of characters that can or cannot contain numbers, but if it has them, it won’t follow any known mathematical axiom. Let’s check what happens when we try to add 50, 25 and X. This will concatenate strings.\n"
      ]
    },
    {
      "cell_type": "code",
      "metadata": {
        "id": "ouI30KRhLENk",
        "colab": {
          "base_uri": "https://localhost:8080/"
        },
        "outputId": "904a7fd4-c803-453e-873f-d10d23dc73a0"
      },
      "source": [
        "'50'+'25'+'X'"
      ],
      "execution_count": null,
      "outputs": [
        {
          "output_type": "execute_result",
          "data": {
            "text/plain": [
              "'5025X'"
            ],
            "application/vnd.google.colaboratory.intrinsic+json": {
              "type": "string"
            }
          },
          "metadata": {},
          "execution_count": 7
        }
      ]
    },
    {
      "cell_type": "markdown",
      "metadata": {
        "id": "mycMQv_7eyXZ"
      },
      "source": [
        "Lists are an important type of data that allows us to store multiple elements in a singular variable. The elements are ordered and can be changed after the creation of the list."
      ]
    },
    {
      "cell_type": "code",
      "source": [
        "# creation of a list without values\n",
        "empty_list = []"
      ],
      "metadata": {
        "id": "HKmlKl6PzBGj"
      },
      "execution_count": null,
      "outputs": []
    },
    {
      "cell_type": "code",
      "source": [
        "empty_list"
      ],
      "metadata": {
        "colab": {
          "base_uri": "https://localhost:8080/"
        },
        "id": "Isp8t07ezFnm",
        "outputId": "d9d23388-3bc6-4c74-b0e6-ce07c58e0125"
      },
      "execution_count": null,
      "outputs": [
        {
          "output_type": "execute_result",
          "data": {
            "text/plain": [
              "[]"
            ]
          },
          "metadata": {},
          "execution_count": 9
        }
      ]
    },
    {
      "cell_type": "code",
      "source": [
        "# examples of programming languages\n",
        "languages = ['Python', 'Ruby', 'Javascript']"
      ],
      "metadata": {
        "id": "iI_4f8eOzJGq"
      },
      "execution_count": null,
      "outputs": []
    },
    {
      "cell_type": "code",
      "source": [
        "languages"
      ],
      "metadata": {
        "colab": {
          "base_uri": "https://localhost:8080/"
        },
        "id": "Vb57tTzrzVpv",
        "outputId": "12ccbb7b-b603-4d12-e0cb-b9bddf3cdeb6"
      },
      "execution_count": null,
      "outputs": [
        {
          "output_type": "execute_result",
          "data": {
            "text/plain": [
              "['Python', 'Ruby', 'Javascript']"
            ]
          },
          "metadata": {},
          "execution_count": 11
        }
      ]
    },
    {
      "cell_type": "markdown",
      "source": [
        "Each element has an index, the first element has an [0] index, the second element has [1] index, etc.  "
      ],
      "metadata": {
        "id": "y5eLKAODzquI"
      }
    },
    {
      "cell_type": "code",
      "metadata": {
        "id": "O90VrVUVRG_O"
      },
      "source": [
        "list = [\"element1\", 2, 3.14]"
      ],
      "execution_count": null,
      "outputs": []
    },
    {
      "cell_type": "code",
      "source": [
        "list[0]"
      ],
      "metadata": {
        "colab": {
          "base_uri": "https://localhost:8080/"
        },
        "id": "VRLHHwNRzac7",
        "outputId": "37c2e12d-8e8e-46e4-c735-786e09cd8bcf"
      },
      "execution_count": null,
      "outputs": [
        {
          "output_type": "execute_result",
          "data": {
            "text/plain": [
              "'element1'"
            ],
            "application/vnd.google.colaboratory.intrinsic+json": {
              "type": "string"
            }
          },
          "metadata": {},
          "execution_count": 13
        }
      ]
    },
    {
      "cell_type": "code",
      "source": [
        " # access with negative index\n",
        " list[-1]"
      ],
      "metadata": {
        "colab": {
          "base_uri": "https://localhost:8080/"
        },
        "id": "P_FBqnrdz2x8",
        "outputId": "f8bf7fe4-e701-4059-e168-b6b03bc0fea1"
      },
      "execution_count": null,
      "outputs": [
        {
          "output_type": "execute_result",
          "data": {
            "text/plain": [
              "3.14"
            ]
          },
          "metadata": {},
          "execution_count": 14
        }
      ]
    },
    {
      "cell_type": "markdown",
      "source": [
        "The tuple concept is similar to the list. Although there´s some minor differences, mainly that while a list is mutable and can be modified, a tuple does not accept changes meaning it is immutable."
      ],
      "metadata": {
        "id": "VPW1idB60L1_"
      }
    },
    {
      "cell_type": "code",
      "source": [
        "#Creation of a tuple\n",
        "elements = (\"Hydrogen\", \"Lithium\", \"Aluminum\")\n",
        "elements"
      ],
      "metadata": {
        "colab": {
          "base_uri": "https://localhost:8080/"
        },
        "id": "XGYxs6LS04JG",
        "outputId": "9f19edd0-613a-48c7-bf6a-04958c2a8416"
      },
      "execution_count": null,
      "outputs": [
        {
          "output_type": "execute_result",
          "data": {
            "text/plain": [
              "('Hydrogen', 'Lithium', 'Aluminum')"
            ]
          },
          "metadata": {},
          "execution_count": 15
        }
      ]
    },
    {
      "cell_type": "markdown",
      "source": [],
      "metadata": {
        "id": "poX5V2M-puDz"
      }
    },
    {
      "cell_type": "markdown",
      "source": [
        "\n",
        "The dictionary concept can be translated from the real life one to the Python one. At the end a dictionary is an object that contains words, and each word is associated with a meaning. Doing the parallelism, we can say that in Python a dictionary is also an object indexed by **keys** (the words) that are associated with a **value** (the meaning)."
      ],
      "metadata": {
        "id": "fS7gJU2H1GC0"
      }
    },
    {
      "cell_type": "code",
      "source": [
        "# Creation of an empty dictionary\n",
        "dic_empty = {}\n",
        "dic_empty"
      ],
      "metadata": {
        "colab": {
          "base_uri": "https://localhost:8080/"
        },
        "id": "gNKNoac-1kly",
        "outputId": "1228bc2e-f731-4ecf-bb7f-5cff9a9d6240"
      },
      "execution_count": null,
      "outputs": [
        {
          "output_type": "execute_result",
          "data": {
            "text/plain": [
              "{}"
            ]
          },
          "metadata": {},
          "execution_count": 16
        }
      ]
    },
    {
      "cell_type": "code",
      "source": [
        "# Creation of a dictionary with elements\n",
        "elements_1 = { \"Hydrogen\": 1,\n",
        "                 \"Carbon\":  12,\n",
        "                 \"Sulfur\":   32,\n",
        "                 }\n",
        "elements_1"
      ],
      "metadata": {
        "colab": {
          "base_uri": "https://localhost:8080/"
        },
        "id": "eEM7zW_f1nT4",
        "outputId": "9c5bf121-f4fa-440c-ab7f-63f653d1fc6f"
      },
      "execution_count": null,
      "outputs": [
        {
          "output_type": "execute_result",
          "data": {
            "text/plain": [
              "{'Hydrogen': 1, 'Carbon': 12, 'Sulfur': 32}"
            ]
          },
          "metadata": {},
          "execution_count": 17
        }
      ]
    },
    {
      "cell_type": "markdown",
      "metadata": {
        "id": "cih8ETmIQldB"
      },
      "source": [
        "#*2. Variables* <a class=\"anchor\" id=\"Variables\"></a>\n",
        "---\n",
        "\n",
        "The variables are names given to data elements that can take one or more values during the runtime of a program. The following are nomenclature convections of Python variables:\n",
        "* It cannot begin with a number.\n",
        "* It must be a single word.\n",
        "* It must contain only letters and symbols.\n",
        "* The Python variables that begin with _(underscore) are considered useless.\n",
        "* It cannot be a word from the **keywords** language.\n"
      ]
    },
    {
      "cell_type": "code",
      "source": [
        "help('keywords')"
      ],
      "metadata": {
        "colab": {
          "base_uri": "https://localhost:8080/"
        },
        "id": "wa7AmwVoG8d4",
        "outputId": "00661540-67c4-401d-fbaa-b4f8cd59e45d"
      },
      "execution_count": null,
      "outputs": [
        {
          "output_type": "stream",
          "name": "stdout",
          "text": [
            "\n",
            "Here is a list of the Python keywords.  Enter any keyword to get more help.\n",
            "\n",
            "False               class               from                or\n",
            "None                continue            global              pass\n",
            "True                def                 if                  raise\n",
            "and                 del                 import              return\n",
            "as                  elif                in                  try\n",
            "assert              else                is                  while\n",
            "async               except              lambda              with\n",
            "await               finally             nonlocal            yield\n",
            "break               for                 not                 \n",
            "\n"
          ]
        }
      ]
    },
    {
      "cell_type": "code",
      "metadata": {
        "id": "ovwylM5j2y5a"
      },
      "source": [
        "#Define variables \"a\" and \"b\"\n",
        "a = 1\n",
        "b = 2"
      ],
      "execution_count": null,
      "outputs": []
    },
    {
      "cell_type": "code",
      "source": [
        "a"
      ],
      "metadata": {
        "colab": {
          "base_uri": "https://localhost:8080/"
        },
        "id": "w5g0s8ESrPk0",
        "outputId": "c252b1b6-d1e1-4036-86c7-728a1e12dc2a"
      },
      "execution_count": null,
      "outputs": [
        {
          "output_type": "execute_result",
          "data": {
            "text/plain": [
              "1"
            ]
          },
          "metadata": {},
          "execution_count": 20
        }
      ]
    },
    {
      "cell_type": "markdown",
      "source": [
        "#*3. Operators* <a class=\"anchor\" id=\"Variables\"></a>\n",
        "---\n",
        "\n",
        "It is possible to make multiple operations with Python. In the case of arithmetic operators, it is important to consider the priority."
      ],
      "metadata": {
        "id": "quX8B8VP6ouV"
      }
    },
    {
      "cell_type": "markdown",
      "source": [
        "![Colab 2.1.png](data:image/png;base64,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)"
      ],
      "metadata": {
        "id": "hJBb-owQqnzM"
      }
    },
    {
      "cell_type": "markdown",
      "source": [
        "![Colab 2.11.png](data:image/png;base64,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)"
      ],
      "metadata": {
        "id": "_oaCcxSerT9l"
      }
    },
    {
      "cell_type": "code",
      "source": [
        "sum = a + b\n",
        "exponent = sum ** b"
      ],
      "metadata": {
        "id": "NeHmnjKR3euS"
      },
      "execution_count": null,
      "outputs": []
    },
    {
      "cell_type": "code",
      "metadata": {
        "id": "zcIss8eSWqhy",
        "colab": {
          "base_uri": "https://localhost:8080/"
        },
        "outputId": "a46b0bfa-4d89-4243-f610-d3b18bbcc625"
      },
      "source": [
        "sum"
      ],
      "execution_count": null,
      "outputs": [
        {
          "output_type": "execute_result",
          "data": {
            "text/plain": [
              "3"
            ]
          },
          "metadata": {},
          "execution_count": 48
        }
      ]
    },
    {
      "cell_type": "code",
      "metadata": {
        "id": "i0Lcuu7CWsky",
        "colab": {
          "base_uri": "https://localhost:8080/"
        },
        "outputId": "36d8c0c5-c7ce-4927-e6fe-68b762672428"
      },
      "source": [
        "exponent"
      ],
      "execution_count": null,
      "outputs": [
        {
          "output_type": "execute_result",
          "data": {
            "text/plain": [
              "9"
            ]
          },
          "metadata": {},
          "execution_count": 23
        }
      ]
    },
    {
      "cell_type": "markdown",
      "source": [
        "We can also use other comparision operators:"
      ],
      "metadata": {
        "id": "r3VNeUJJ9GmO"
      }
    },
    {
      "cell_type": "code",
      "source": [
        "5 != 3"
      ],
      "metadata": {
        "colab": {
          "base_uri": "https://localhost:8080/"
        },
        "id": "XLB17QQR9MZs",
        "outputId": "91f8e1e7-c2ed-416f-e553-18534013e1e8"
      },
      "execution_count": null,
      "outputs": [
        {
          "output_type": "execute_result",
          "data": {
            "text/plain": [
              "True"
            ]
          },
          "metadata": {},
          "execution_count": 24
        }
      ]
    },
    {
      "cell_type": "code",
      "source": [
        "5 > 3"
      ],
      "metadata": {
        "colab": {
          "base_uri": "https://localhost:8080/"
        },
        "id": "qdRHdras9K6Z",
        "outputId": "612c039a-e71c-4725-b5ff-f880c67d9478"
      },
      "execution_count": null,
      "outputs": [
        {
          "output_type": "execute_result",
          "data": {
            "text/plain": [
              "True"
            ]
          },
          "metadata": {},
          "execution_count": 25
        }
      ]
    },
    {
      "cell_type": "code",
      "source": [
        "5 <= 3"
      ],
      "metadata": {
        "colab": {
          "base_uri": "https://localhost:8080/"
        },
        "id": "u76LLnhW9TJR",
        "outputId": "3959fe20-14af-4c2f-9c25-310533724916"
      },
      "execution_count": null,
      "outputs": [
        {
          "output_type": "execute_result",
          "data": {
            "text/plain": [
              "False"
            ]
          },
          "metadata": {},
          "execution_count": 26
        }
      ]
    },
    {
      "cell_type": "markdown",
      "source": [
        "For logical operators such as conjunction and disjunction we have to take into account truth tables:"
      ],
      "metadata": {
        "id": "n5OIrbf2rV1j"
      }
    },
    {
      "cell_type": "markdown",
      "source": [
        "![image.png](data:image/png;base64,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)"
      ],
      "metadata": {
        "id": "iABiYZW7-xCP"
      }
    },
    {
      "cell_type": "code",
      "source": [
        "x = True\n",
        "y = False"
      ],
      "metadata": {
        "id": "LzYuzDjS-02u"
      },
      "execution_count": null,
      "outputs": []
    },
    {
      "cell_type": "code",
      "source": [
        "x or y"
      ],
      "metadata": {
        "colab": {
          "base_uri": "https://localhost:8080/"
        },
        "id": "HTLEccUU-60s",
        "outputId": "221c51da-afc3-4d68-cb3e-8e08b068a5c4"
      },
      "execution_count": null,
      "outputs": [
        {
          "output_type": "execute_result",
          "data": {
            "text/plain": [
              "True"
            ]
          },
          "metadata": {},
          "execution_count": 28
        }
      ]
    },
    {
      "cell_type": "code",
      "source": [
        "x and y"
      ],
      "metadata": {
        "colab": {
          "base_uri": "https://localhost:8080/"
        },
        "id": "Yf1JhX9P--wU",
        "outputId": "85533158-cbf7-475f-c23e-caf4d8c64586"
      },
      "execution_count": null,
      "outputs": [
        {
          "output_type": "execute_result",
          "data": {
            "text/plain": [
              "False"
            ]
          },
          "metadata": {},
          "execution_count": 29
        }
      ]
    },
    {
      "cell_type": "markdown",
      "source": [
        "\n",
        "We can also use membership operators to know if an element contains another and identity operators to know if we are referring to the same object:"
      ],
      "metadata": {
        "id": "nA_Qguk2_yv-"
      }
    },
    {
      "cell_type": "code",
      "source": [
        "Metals = [\"Gold\", \"Silver\"]"
      ],
      "metadata": {
        "id": "LdHJP0qtADoi"
      },
      "execution_count": null,
      "outputs": []
    },
    {
      "cell_type": "code",
      "source": [
        "\"Nickel\" in Metals"
      ],
      "metadata": {
        "colab": {
          "base_uri": "https://localhost:8080/"
        },
        "id": "sgoPrsM8AIKm",
        "outputId": "dbe5c0ae-543a-4b3e-860d-ae16007a3fb9"
      },
      "execution_count": null,
      "outputs": [
        {
          "output_type": "execute_result",
          "data": {
            "text/plain": [
              "False"
            ]
          },
          "metadata": {},
          "execution_count": 31
        }
      ]
    },
    {
      "cell_type": "code",
      "source": [
        "x = 4\n",
        "list = [1, 6]"
      ],
      "metadata": {
        "id": "MHayrC8BAQlM"
      },
      "execution_count": null,
      "outputs": []
    },
    {
      "cell_type": "code",
      "source": [
        "x is list"
      ],
      "metadata": {
        "colab": {
          "base_uri": "https://localhost:8080/"
        },
        "id": "yNMf2RQWAXjv",
        "outputId": "242d4909-a782-4943-c45a-a396a67d2530"
      },
      "execution_count": null,
      "outputs": [
        {
          "output_type": "execute_result",
          "data": {
            "text/plain": [
              "False"
            ]
          },
          "metadata": {},
          "execution_count": 33
        }
      ]
    },
    {
      "cell_type": "markdown",
      "source": [
        "Finally, it is possible to modify the order in which the program is executed. Any informatic software is built from instructions sequentially from «top» to «bottom». This order constitutes the so-called program flow. It is possible to modify this sequential flow so that it takes branches or repeats certain instructions. The statements that allow us to make these modifications are included in the **flow control**."
      ],
      "metadata": {
        "id": "uiO06N7YAsi4"
      }
    },
    {
      "cell_type": "code",
      "source": [
        "# \"if\" Statement\n",
        "temperature = 36\n",
        "if temperature > 35:   # colon at the end of the code line\n",
        "  print(\"High Temperature\")   # indentation after the colon"
      ],
      "metadata": {
        "colab": {
          "base_uri": "https://localhost:8080/"
        },
        "id": "X3Vqu8RHBJPy",
        "outputId": "501745ec-30f1-403a-96e4-7c056962c562"
      },
      "execution_count": null,
      "outputs": [
        {
          "output_type": "stream",
          "name": "stdout",
          "text": [
            "High Temperature\n"
          ]
        }
      ]
    },
    {
      "cell_type": "code",
      "source": [
        "# \"else\" Statement\n",
        "temperature = 30\n",
        "if temperature > 35:   # colon at the end of the code line\n",
        "  print(\"High Temperature\")\n",
        "else:\n",
        "  print(\"Normal Temperature\")"
      ],
      "metadata": {
        "colab": {
          "base_uri": "https://localhost:8080/"
        },
        "id": "5BVzt1BqBrGt",
        "outputId": "a704309e-9aad-4383-96fd-34b9d11bf713"
      },
      "execution_count": null,
      "outputs": [
        {
          "output_type": "stream",
          "name": "stdout",
          "text": [
            "Normal Temperature\n"
          ]
        }
      ]
    },
    {
      "cell_type": "code",
      "source": [
        "# \"elif\" Statement\n",
        "# Nested loops with \"elif\"\n",
        "T_1 = 28\n",
        "if T_1 < 20:\n",
        "  if   T_1 < 10:\n",
        "    print(\"Blue level\")\n",
        "  else:\n",
        "    print(\"Green level\")\n",
        "elif T_1 < 30:\n",
        "  print(\"Orange level\")\n",
        "else:\n",
        "  print(\"Red level\")"
      ],
      "metadata": {
        "colab": {
          "base_uri": "https://localhost:8080/"
        },
        "id": "kCiLXtJ1DOXa",
        "outputId": "8ba7949c-f969-4c68-e740-f1f866f0083e"
      },
      "execution_count": null,
      "outputs": [
        {
          "output_type": "stream",
          "name": "stdout",
          "text": [
            "Orange level\n"
          ]
        }
      ]
    },
    {
      "cell_type": "markdown",
      "source": [
        "The first mechanism that exists in Python to repeat instructions is the statement **while**. The semantic behind this statement is:«As long as the condition is met, do something».\n"
      ],
      "metadata": {
        "id": "ejFcbLgzD2KK"
      }
    },
    {
      "cell_type": "code",
      "source": [
        "# \"while\" Statement\n",
        "count = 0\n",
        "while count < 5:\n",
        "  count += 1\n",
        "  print(count)"
      ],
      "metadata": {
        "colab": {
          "base_uri": "https://localhost:8080/"
        },
        "id": "sG1cQTsuDoO-",
        "outputId": "844f3541-5230-464a-fc90-7c899fee565e"
      },
      "execution_count": null,
      "outputs": [
        {
          "output_type": "stream",
          "name": "stdout",
          "text": [
            "1\n",
            "2\n",
            "3\n",
            "4\n",
            "5\n"
          ]
        }
      ]
    },
    {
      "cell_type": "markdown",
      "source": [
        "Python offers the possibility to break or end a loop before it meets the **break** statement."
      ],
      "metadata": {
        "id": "ENgbHAbAD0rH"
      }
    },
    {
      "cell_type": "code",
      "source": [
        "count = 0\n",
        "while count < 5:\n",
        "  count += 1\n",
        "  if count == 3:\n",
        "    break\n",
        "print(\"The loop ended in the value:\", count)"
      ],
      "metadata": {
        "colab": {
          "base_uri": "https://localhost:8080/"
        },
        "id": "su5upJOQDwF8",
        "outputId": "1955246c-8c87-4721-b2df-3e8a015a65f1"
      },
      "execution_count": null,
      "outputs": [
        {
          "output_type": "stream",
          "name": "stdout",
          "text": [
            "The loop ended in the value: 3\n"
          ]
        }
      ]
    },
    {
      "cell_type": "markdown",
      "source": [
        "Pyhton allows browsing iterable data types. Examples of data types and structures that can be iterated are text strings, lists or dictionaries."
      ],
      "metadata": {
        "id": "-WWTAbu2EqF8"
      }
    },
    {
      "cell_type": "code",
      "source": [
        "# \"for\" Statement\n",
        "word = \"element\"\n",
        "for letter in word:\n",
        "  print(letter)"
      ],
      "metadata": {
        "colab": {
          "base_uri": "https://localhost:8080/"
        },
        "id": "15CD_Dk0EobG",
        "outputId": "7672a42c-2788-4f33-bea6-b972efe86d4c"
      },
      "execution_count": null,
      "outputs": [
        {
          "output_type": "stream",
          "name": "stdout",
          "text": [
            "e\n",
            "l\n",
            "e\n",
            "m\n",
            "e\n",
            "n\n",
            "t\n"
          ]
        }
      ]
    },
    {
      "cell_type": "markdown",
      "source": [
        "## 3.1 Conversion of data types\n",
        "\n",
        "The conversion of data types is basically a variable conversion from a type of particular data to another type, so that the conversion is valid. The conversion can be in two ways: implicit or explicit.\n",
        "\n",
        "\n"
      ],
      "metadata": {
        "id": "QBDASRQ5i5zq"
      }
    },
    {
      "cell_type": "markdown",
      "source": [
        "![Conversion of data types.png](data:image/png;base64,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)"
      ],
      "metadata": {
        "id": "ohNJ4i4TuzjJ"
      }
    },
    {
      "cell_type": "markdown",
      "source": [
        "**Implicit conversion data types**: in the implicit conversion, the Python compilator internally converts a variable to another type, without an action from the user.\n",
        "Example:\n"
      ],
      "metadata": {
        "id": "Hb_65TNSlGuY"
      }
    },
    {
      "cell_type": "code",
      "source": [
        "int_num = 100\n",
        "float_num = 1.01\n",
        "ans = int_num + float_num\n",
        "print(type(int_num))\n",
        "print(type(float_num))\n",
        "# ans was converted to float\n",
        "print(type(ans))"
      ],
      "metadata": {
        "id": "bt9PQE25jteI",
        "colab": {
          "base_uri": "https://localhost:8080/"
        },
        "outputId": "b0562c88-9a46-4f48-c0e7-f4c8421abf7b"
      },
      "execution_count": null,
      "outputs": [
        {
          "output_type": "stream",
          "name": "stdout",
          "text": [
            "<class 'int'>\n",
            "<class 'float'>\n",
            "<class 'float'>\n"
          ]
        }
      ]
    },
    {
      "cell_type": "markdown",
      "source": [
        "**Explicit conversion data types:** in the explicit conversion the user obliges the compilator to convert a variable to another type. Some of the different ways of explicit conversion are shown below:\n"
      ],
      "metadata": {
        "id": "C5cLe1whn9mS"
      }
    },
    {
      "cell_type": "markdown",
      "source": [
        "* *int* to *string* or *float*:"
      ],
      "metadata": {
        "id": "bjruhFg8v8kW"
      }
    },
    {
      "cell_type": "code",
      "source": [
        "var = 123\n",
        "str(var)"
      ],
      "metadata": {
        "id": "JEOqm4pwv6SO",
        "colab": {
          "base_uri": "https://localhost:8080/",
          "height": 36
        },
        "outputId": "aa259db9-dc67-42ad-dab8-beecff7eb69c"
      },
      "execution_count": null,
      "outputs": [
        {
          "output_type": "execute_result",
          "data": {
            "text/plain": [
              "'123'"
            ],
            "application/vnd.google.colaboratory.intrinsic+json": {
              "type": "string"
            }
          },
          "metadata": {},
          "execution_count": 41
        }
      ]
    },
    {
      "cell_type": "code",
      "source": [
        "var = 123\n",
        "float(var)"
      ],
      "metadata": {
        "id": "PigGf0odrsEQ",
        "colab": {
          "base_uri": "https://localhost:8080/"
        },
        "outputId": "210e3afa-0437-4908-da7a-8a0fdc54ec54"
      },
      "execution_count": null,
      "outputs": [
        {
          "output_type": "execute_result",
          "data": {
            "text/plain": [
              "123.0"
            ]
          },
          "metadata": {},
          "execution_count": 42
        }
      ]
    },
    {
      "cell_type": "markdown",
      "source": [
        "* *float* to *int*"
      ],
      "metadata": {
        "id": "dxYM-m4Ow3PX"
      }
    },
    {
      "cell_type": "code",
      "source": [
        "var = 7.8\n",
        "print(int(var))"
      ],
      "metadata": {
        "id": "e1e6ZtYAw1IY",
        "colab": {
          "base_uri": "https://localhost:8080/"
        },
        "outputId": "3ec5905e-af9f-4e49-95f8-f699b9b37c44"
      },
      "execution_count": null,
      "outputs": [
        {
          "output_type": "stream",
          "name": "stdout",
          "text": [
            "7\n"
          ]
        }
      ]
    },
    {
      "cell_type": "markdown",
      "metadata": {
        "id": "LsNkaeDYRLOK"
      },
      "source": [
        "# *4. Functions*\n",
        "---\n",
        "Let’s start by defining a **function** as a reusable piece of code, that is only executed when it's called. Python has some integrated functions, such as  **print()** (that we previously used , **sum()** and **pow()**.\n",
        "\n",
        "The **print()** function of Python allows us to visualize the value of a variable after calculating it.\n",
        "\n",
        "For more information about the integrated funcitons of Python, go to [Python documentation](https://docs.python.org/3/library/functions.html \"Python's Built-in Functions\").\n",
        "\n",
        "\n"
      ]
    },
    {
      "cell_type": "code",
      "metadata": {
        "id": "NpKM3o2GWWas",
        "colab": {
          "base_uri": "https://localhost:8080/"
        },
        "outputId": "52a76cf6-070d-4d88-87e0-1575f53bd90f"
      },
      "source": [
        "print(\"Hello World!\")"
      ],
      "execution_count": null,
      "outputs": [
        {
          "output_type": "stream",
          "name": "stdout",
          "text": [
            "Hello World!\n"
          ]
        }
      ]
    },
    {
      "cell_type": "code",
      "metadata": {
        "id": "GvkOVTp4qB2O",
        "colab": {
          "base_uri": "https://localhost:8080/"
        },
        "outputId": "f2dab194-641b-41cd-ca2c-2f03a5fff266"
      },
      "source": [
        "del sum\n",
        "sum([1,2])"
      ],
      "execution_count": null,
      "outputs": [
        {
          "output_type": "execute_result",
          "data": {
            "text/plain": [
              "3"
            ]
          },
          "metadata": {},
          "execution_count": 54
        }
      ]
    },
    {
      "cell_type": "code",
      "metadata": {
        "id": "BuRsD2dFqEtS",
        "colab": {
          "base_uri": "https://localhost:8080/"
        },
        "outputId": "786baae9-f74a-42c1-a506-7fb2ab013ab2"
      },
      "source": [
        "pow(3,2)"
      ],
      "execution_count": null,
      "outputs": [
        {
          "output_type": "execute_result",
          "data": {
            "text/plain": [
              "9"
            ]
          },
          "metadata": {},
          "execution_count": 55
        }
      ]
    },
    {
      "cell_type": "markdown",
      "metadata": {
        "id": "Sq4KIMndWZ2A"
      },
      "source": [
        "In addition to these integrated functions, it is possible to define our own functions. Sometimes we want to reuse a code to calculate results based on different data. Which is why it's common to condense this code in the form of **functions**.\n",
        "\n",
        "\n",
        "To write a function, we start writing the word *\"def\"*, followed by an indentation (blank spaces or tabs), so it is easier to recognize.\n",
        "\n",
        "To have a better understanding of functions, we must introduce the concepts of **parameter** and **argument**. A **parameter** is a variable that is defined when declaring a function, the parameters are written into parentheses. The *argument* of a given parameter is the real value of the parameter that is passed to the function.\n",
        "\n",
        "Also, we need to specify which are the **returns** of our function so we can call them individually when needed. These returns are defined as new variables that depend on our previously defined parameters. These are determined by the \"_return_\" word.\n",
        "\n",
        "\n",
        "\n",
        "\n"
      ]
    },
    {
      "cell_type": "markdown",
      "source": [
        "![GitBook_english.png](data:image/png;base64,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)\n",
        "Figure adapted from [InterviewBit](https://www.interviewbit.com/python-cheat-sheet/), recovered july 2022."
      ],
      "metadata": {
        "id": "La8GQ3v53AQ6"
      }
    },
    {
      "cell_type": "markdown",
      "source": [
        "Let's rewrite our previous code in a *function*:"
      ],
      "metadata": {
        "id": "X9UxBGCYzdhV"
      }
    },
    {
      "cell_type": "code",
      "metadata": {
        "id": "9bZqlk5VXnS1"
      },
      "source": [
        "def sum_multiplication (arg1,arg2):\n",
        "    result = arg1 + arg2\n",
        "    result2= arg1*arg2\n",
        "    return result, result2"
      ],
      "execution_count": null,
      "outputs": []
    },
    {
      "cell_type": "code",
      "source": [
        "sum_multiplication(4,2)"
      ],
      "metadata": {
        "id": "v_jbPaCxIuIC",
        "colab": {
          "base_uri": "https://localhost:8080/"
        },
        "outputId": "067fc689-57ef-4bc6-a824-e62b5f4962a7"
      },
      "execution_count": null,
      "outputs": [
        {
          "output_type": "execute_result",
          "data": {
            "text/plain": [
              "(6, 8)"
            ]
          },
          "metadata": {},
          "execution_count": 57
        }
      ]
    },
    {
      "cell_type": "markdown",
      "metadata": {
        "id": "UdCaoRaEQq1U"
      },
      "source": [
        "# *5. Libraries/Packages*\n",
        "---\n",
        "\n"
      ]
    },
    {
      "cell_type": "markdown",
      "metadata": {
        "id": "PIp2idj6Pl96"
      },
      "source": [
        "Libraries are a group of functionalities that allow the user to carry out specific actions that are not in Python beforehand. To make use of these libraries we need to import them. In this section we will import the following modules for data management\n",
        "\n",
        "`Pandas` Gives functions that generate tables and allow us to make different types of data processing [ Pandas Documentation](https://pandas.pydata.org/docs/)\n",
        "\n",
        "`Seaborn ` Allows us to work with statistical functions and graphically visualize large sets of data with a simple syntax. To work with Seaborn, we also need to import the graphic library  `matplotlib`. [Seaborn Documentation](https://seaborn.pydata.org/)\n",
        "\n",
        "With the *import* command we can import the modules that we need and are saved on our computer, since this is an *online codebook* the modules are already installed on an external computer.\n",
        "\n",
        "\n",
        "Pandas and Seaborn work together with sets of data in tables called *dataframes*. These *dataframes* are essentially tables of data aligned in labeled rows and columns\n"
      ]
    },
    {
      "cell_type": "code",
      "metadata": {
        "id": "4VBTMM6-5u3H"
      },
      "source": [
        "import pandas as pd\n",
        "import seaborn as sns\n",
        "#The \"as\" comand says the name we are giving the module."
      ],
      "execution_count": null,
      "outputs": []
    },
    {
      "cell_type": "markdown",
      "source": [
        "Below, we show an example of how to install and import the `matplotlib`library:"
      ],
      "metadata": {
        "id": "FAZX4VukK3PP"
      }
    },
    {
      "cell_type": "code",
      "source": [
        "!pip install matplotlib\n",
        "import matplotlib.pyplot as plt"
      ],
      "metadata": {
        "id": "kqXo7v17Kx2n",
        "colab": {
          "base_uri": "https://localhost:8080/"
        },
        "outputId": "f8473f2c-ece0-408a-e1c9-dc94e1a19dce"
      },
      "execution_count": null,
      "outputs": [
        {
          "output_type": "stream",
          "name": "stdout",
          "text": [
            "Requirement already satisfied: matplotlib in /usr/local/lib/python3.11/dist-packages (3.10.0)\n",
            "Requirement already satisfied: contourpy>=1.0.1 in /usr/local/lib/python3.11/dist-packages (from matplotlib) (1.3.1)\n",
            "Requirement already satisfied: cycler>=0.10 in /usr/local/lib/python3.11/dist-packages (from matplotlib) (0.12.1)\n",
            "Requirement already satisfied: fonttools>=4.22.0 in /usr/local/lib/python3.11/dist-packages (from matplotlib) (4.56.0)\n",
            "Requirement already satisfied: kiwisolver>=1.3.1 in /usr/local/lib/python3.11/dist-packages (from matplotlib) (1.4.8)\n",
            "Requirement already satisfied: numpy>=1.23 in /usr/local/lib/python3.11/dist-packages (from matplotlib) (2.0.2)\n",
            "Requirement already satisfied: packaging>=20.0 in /usr/local/lib/python3.11/dist-packages (from matplotlib) (24.2)\n",
            "Requirement already satisfied: pillow>=8 in /usr/local/lib/python3.11/dist-packages (from matplotlib) (11.1.0)\n",
            "Requirement already satisfied: pyparsing>=2.3.1 in /usr/local/lib/python3.11/dist-packages (from matplotlib) (3.2.1)\n",
            "Requirement already satisfied: python-dateutil>=2.7 in /usr/local/lib/python3.11/dist-packages (from matplotlib) (2.8.2)\n",
            "Requirement already satisfied: six>=1.5 in /usr/local/lib/python3.11/dist-packages (from python-dateutil>=2.7->matplotlib) (1.17.0)\n"
          ]
        }
      ]
    },
    {
      "cell_type": "markdown",
      "source": [
        "We are going to upload a set of preexisting data inside of the Seaborn module. The set of data we are going to work with is called  \"anscombe\":"
      ],
      "metadata": {
        "id": "a0-aCSkKm_fU"
      }
    },
    {
      "cell_type": "code",
      "metadata": {
        "id": "cF7DoNAg5xue"
      },
      "source": [
        "df = sns.load_dataset('anscombe')"
      ],
      "execution_count": null,
      "outputs": []
    },
    {
      "cell_type": "code",
      "metadata": {
        "id": "egHj1uEJEeE-",
        "colab": {
          "base_uri": "https://localhost:8080/"
        },
        "outputId": "d316d0ad-a351-4600-b01b-9df3f76715e4"
      },
      "source": [
        "# See the imported data, codebooks print data as tables\n",
        "df"
      ],
      "execution_count": null,
      "outputs": [
        {
          "output_type": "execute_result",
          "data": {
            "text/plain": [
              "   dataset     x      y\n",
              "0        I  10.0   8.04\n",
              "1        I   8.0   6.95\n",
              "2        I  13.0   7.58\n",
              "3        I   9.0   8.81\n",
              "4        I  11.0   8.33\n",
              "5        I  14.0   9.96\n",
              "6        I   6.0   7.24\n",
              "7        I   4.0   4.26\n",
              "8        I  12.0  10.84\n",
              "9        I   7.0   4.82\n",
              "10       I   5.0   5.68\n",
              "11      II  10.0   9.14\n",
              "12      II   8.0   8.14\n",
              "13      II  13.0   8.74\n",
              "14      II   9.0   8.77\n",
              "15      II  11.0   9.26\n",
              "16      II  14.0   8.10\n",
              "17      II   6.0   6.13\n",
              "18      II   4.0   3.10\n",
              "19      II  12.0   9.13\n",
              "20      II   7.0   7.26\n",
              "21      II   5.0   4.74\n",
              "22     III  10.0   7.46\n",
              "23     III   8.0   6.77\n",
              "24     III  13.0  12.74\n",
              "25     III   9.0   7.11\n",
              "26     III  11.0   7.81\n",
              "27     III  14.0   8.84\n",
              "28     III   6.0   6.08\n",
              "29     III   4.0   5.39\n",
              "30     III  12.0   8.15\n",
              "31     III   7.0   6.42\n",
              "32     III   5.0   5.73\n",
              "33      IV   8.0   6.58\n",
              "34      IV   8.0   5.76\n",
              "35      IV   8.0   7.71\n",
              "36      IV   8.0   8.84\n",
              "37      IV   8.0   8.47\n",
              "38      IV   8.0   7.04\n",
              "39      IV   8.0   5.25\n",
              "40      IV  19.0  12.50\n",
              "41      IV   8.0   5.56\n",
              "42      IV   8.0   7.91\n",
              "43      IV   8.0   6.89"
            ],
            "text/html": [
              "\n",
              "  <div id=\"df-72599a2d-6b10-4ff7-8b87-698ad830fc79\" class=\"colab-df-container\">\n",
              "    <div>\n",
              "<style scoped>\n",
              "    .dataframe tbody tr th:only-of-type {\n",
              "        vertical-align: middle;\n",
              "    }\n",
              "\n",
              "    .dataframe tbody tr th {\n",
              "        vertical-align: top;\n",
              "    }\n",
              "\n",
              "    .dataframe thead th {\n",
              "        text-align: right;\n",
              "    }\n",
              "</style>\n",
              "<table border=\"1\" class=\"dataframe\">\n",
              "  <thead>\n",
              "    <tr style=\"text-align: right;\">\n",
              "      <th></th>\n",
              "      <th>dataset</th>\n",
              "      <th>x</th>\n",
              "      <th>y</th>\n",
              "    </tr>\n",
              "  </thead>\n",
              "  <tbody>\n",
              "    <tr>\n",
              "      <th>0</th>\n",
              "      <td>I</td>\n",
              "      <td>10.0</td>\n",
              "      <td>8.04</td>\n",
              "    </tr>\n",
              "    <tr>\n",
              "      <th>1</th>\n",
              "      <td>I</td>\n",
              "      <td>8.0</td>\n",
              "      <td>6.95</td>\n",
              "    </tr>\n",
              "    <tr>\n",
              "      <th>2</th>\n",
              "      <td>I</td>\n",
              "      <td>13.0</td>\n",
              "      <td>7.58</td>\n",
              "    </tr>\n",
              "    <tr>\n",
              "      <th>3</th>\n",
              "      <td>I</td>\n",
              "      <td>9.0</td>\n",
              "      <td>8.81</td>\n",
              "    </tr>\n",
              "    <tr>\n",
              "      <th>4</th>\n",
              "      <td>I</td>\n",
              "      <td>11.0</td>\n",
              "      <td>8.33</td>\n",
              "    </tr>\n",
              "    <tr>\n",
              "      <th>5</th>\n",
              "      <td>I</td>\n",
              "      <td>14.0</td>\n",
              "      <td>9.96</td>\n",
              "    </tr>\n",
              "    <tr>\n",
              "      <th>6</th>\n",
              "      <td>I</td>\n",
              "      <td>6.0</td>\n",
              "      <td>7.24</td>\n",
              "    </tr>\n",
              "    <tr>\n",
              "      <th>7</th>\n",
              "      <td>I</td>\n",
              "      <td>4.0</td>\n",
              "      <td>4.26</td>\n",
              "    </tr>\n",
              "    <tr>\n",
              "      <th>8</th>\n",
              "      <td>I</td>\n",
              "      <td>12.0</td>\n",
              "      <td>10.84</td>\n",
              "    </tr>\n",
              "    <tr>\n",
              "      <th>9</th>\n",
              "      <td>I</td>\n",
              "      <td>7.0</td>\n",
              "      <td>4.82</td>\n",
              "    </tr>\n",
              "    <tr>\n",
              "      <th>10</th>\n",
              "      <td>I</td>\n",
              "      <td>5.0</td>\n",
              "      <td>5.68</td>\n",
              "    </tr>\n",
              "    <tr>\n",
              "      <th>11</th>\n",
              "      <td>II</td>\n",
              "      <td>10.0</td>\n",
              "      <td>9.14</td>\n",
              "    </tr>\n",
              "    <tr>\n",
              "      <th>12</th>\n",
              "      <td>II</td>\n",
              "      <td>8.0</td>\n",
              "      <td>8.14</td>\n",
              "    </tr>\n",
              "    <tr>\n",
              "      <th>13</th>\n",
              "      <td>II</td>\n",
              "      <td>13.0</td>\n",
              "      <td>8.74</td>\n",
              "    </tr>\n",
              "    <tr>\n",
              "      <th>14</th>\n",
              "      <td>II</td>\n",
              "      <td>9.0</td>\n",
              "      <td>8.77</td>\n",
              "    </tr>\n",
              "    <tr>\n",
              "      <th>15</th>\n",
              "      <td>II</td>\n",
              "      <td>11.0</td>\n",
              "      <td>9.26</td>\n",
              "    </tr>\n",
              "    <tr>\n",
              "      <th>16</th>\n",
              "      <td>II</td>\n",
              "      <td>14.0</td>\n",
              "      <td>8.10</td>\n",
              "    </tr>\n",
              "    <tr>\n",
              "      <th>17</th>\n",
              "      <td>II</td>\n",
              "      <td>6.0</td>\n",
              "      <td>6.13</td>\n",
              "    </tr>\n",
              "    <tr>\n",
              "      <th>18</th>\n",
              "      <td>II</td>\n",
              "      <td>4.0</td>\n",
              "      <td>3.10</td>\n",
              "    </tr>\n",
              "    <tr>\n",
              "      <th>19</th>\n",
              "      <td>II</td>\n",
              "      <td>12.0</td>\n",
              "      <td>9.13</td>\n",
              "    </tr>\n",
              "    <tr>\n",
              "      <th>20</th>\n",
              "      <td>II</td>\n",
              "      <td>7.0</td>\n",
              "      <td>7.26</td>\n",
              "    </tr>\n",
              "    <tr>\n",
              "      <th>21</th>\n",
              "      <td>II</td>\n",
              "      <td>5.0</td>\n",
              "      <td>4.74</td>\n",
              "    </tr>\n",
              "    <tr>\n",
              "      <th>22</th>\n",
              "      <td>III</td>\n",
              "      <td>10.0</td>\n",
              "      <td>7.46</td>\n",
              "    </tr>\n",
              "    <tr>\n",
              "      <th>23</th>\n",
              "      <td>III</td>\n",
              "      <td>8.0</td>\n",
              "      <td>6.77</td>\n",
              "    </tr>\n",
              "    <tr>\n",
              "      <th>24</th>\n",
              "      <td>III</td>\n",
              "      <td>13.0</td>\n",
              "      <td>12.74</td>\n",
              "    </tr>\n",
              "    <tr>\n",
              "      <th>25</th>\n",
              "      <td>III</td>\n",
              "      <td>9.0</td>\n",
              "      <td>7.11</td>\n",
              "    </tr>\n",
              "    <tr>\n",
              "      <th>26</th>\n",
              "      <td>III</td>\n",
              "      <td>11.0</td>\n",
              "      <td>7.81</td>\n",
              "    </tr>\n",
              "    <tr>\n",
              "      <th>27</th>\n",
              "      <td>III</td>\n",
              "      <td>14.0</td>\n",
              "      <td>8.84</td>\n",
              "    </tr>\n",
              "    <tr>\n",
              "      <th>28</th>\n",
              "      <td>III</td>\n",
              "      <td>6.0</td>\n",
              "      <td>6.08</td>\n",
              "    </tr>\n",
              "    <tr>\n",
              "      <th>29</th>\n",
              "      <td>III</td>\n",
              "      <td>4.0</td>\n",
              "      <td>5.39</td>\n",
              "    </tr>\n",
              "    <tr>\n",
              "      <th>30</th>\n",
              "      <td>III</td>\n",
              "      <td>12.0</td>\n",
              "      <td>8.15</td>\n",
              "    </tr>\n",
              "    <tr>\n",
              "      <th>31</th>\n",
              "      <td>III</td>\n",
              "      <td>7.0</td>\n",
              "      <td>6.42</td>\n",
              "    </tr>\n",
              "    <tr>\n",
              "      <th>32</th>\n",
              "      <td>III</td>\n",
              "      <td>5.0</td>\n",
              "      <td>5.73</td>\n",
              "    </tr>\n",
              "    <tr>\n",
              "      <th>33</th>\n",
              "      <td>IV</td>\n",
              "      <td>8.0</td>\n",
              "      <td>6.58</td>\n",
              "    </tr>\n",
              "    <tr>\n",
              "      <th>34</th>\n",
              "      <td>IV</td>\n",
              "      <td>8.0</td>\n",
              "      <td>5.76</td>\n",
              "    </tr>\n",
              "    <tr>\n",
              "      <th>35</th>\n",
              "      <td>IV</td>\n",
              "      <td>8.0</td>\n",
              "      <td>7.71</td>\n",
              "    </tr>\n",
              "    <tr>\n",
              "      <th>36</th>\n",
              "      <td>IV</td>\n",
              "      <td>8.0</td>\n",
              "      <td>8.84</td>\n",
              "    </tr>\n",
              "    <tr>\n",
              "      <th>37</th>\n",
              "      <td>IV</td>\n",
              "      <td>8.0</td>\n",
              "      <td>8.47</td>\n",
              "    </tr>\n",
              "    <tr>\n",
              "      <th>38</th>\n",
              "      <td>IV</td>\n",
              "      <td>8.0</td>\n",
              "      <td>7.04</td>\n",
              "    </tr>\n",
              "    <tr>\n",
              "      <th>39</th>\n",
              "      <td>IV</td>\n",
              "      <td>8.0</td>\n",
              "      <td>5.25</td>\n",
              "    </tr>\n",
              "    <tr>\n",
              "      <th>40</th>\n",
              "      <td>IV</td>\n",
              "      <td>19.0</td>\n",
              "      <td>12.50</td>\n",
              "    </tr>\n",
              "    <tr>\n",
              "      <th>41</th>\n",
              "      <td>IV</td>\n",
              "      <td>8.0</td>\n",
              "      <td>5.56</td>\n",
              "    </tr>\n",
              "    <tr>\n",
              "      <th>42</th>\n",
              "      <td>IV</td>\n",
              "      <td>8.0</td>\n",
              "      <td>7.91</td>\n",
              "    </tr>\n",
              "    <tr>\n",
              "      <th>43</th>\n",
              "      <td>IV</td>\n",
              "      <td>8.0</td>\n",
              "      <td>6.89</td>\n",
              "    </tr>\n",
              "  </tbody>\n",
              "</table>\n",
              "</div>\n",
              "    <div class=\"colab-df-buttons\">\n",
              "\n",
              "  <div class=\"colab-df-container\">\n",
              "    <button class=\"colab-df-convert\" onclick=\"convertToInteractive('df-72599a2d-6b10-4ff7-8b87-698ad830fc79')\"\n",
              "            title=\"Convert this dataframe to an interactive table.\"\n",
              "            style=\"display:none;\">\n",
              "\n",
              "  <svg xmlns=\"http://www.w3.org/2000/svg\" height=\"24px\" viewBox=\"0 -960 960 960\">\n",
              "    <path d=\"M120-120v-720h720v720H120Zm60-500h600v-160H180v160Zm220 220h160v-160H400v160Zm0 220h160v-160H400v160ZM180-400h160v-160H180v160Zm440 0h160v-160H620v160ZM180-180h160v-160H180v160Zm440 0h160v-160H620v160Z\"/>\n",
              "  </svg>\n",
              "    </button>\n",
              "\n",
              "  <style>\n",
              "    .colab-df-container {\n",
              "      display:flex;\n",
              "      gap: 12px;\n",
              "    }\n",
              "\n",
              "    .colab-df-convert {\n",
              "      background-color: #E8F0FE;\n",
              "      border: none;\n",
              "      border-radius: 50%;\n",
              "      cursor: pointer;\n",
              "      display: none;\n",
              "      fill: #1967D2;\n",
              "      height: 32px;\n",
              "      padding: 0 0 0 0;\n",
              "      width: 32px;\n",
              "    }\n",
              "\n",
              "    .colab-df-convert:hover {\n",
              "      background-color: #E2EBFA;\n",
              "      box-shadow: 0px 1px 2px rgba(60, 64, 67, 0.3), 0px 1px 3px 1px rgba(60, 64, 67, 0.15);\n",
              "      fill: #174EA6;\n",
              "    }\n",
              "\n",
              "    .colab-df-buttons div {\n",
              "      margin-bottom: 4px;\n",
              "    }\n",
              "\n",
              "    [theme=dark] .colab-df-convert {\n",
              "      background-color: #3B4455;\n",
              "      fill: #D2E3FC;\n",
              "    }\n",
              "\n",
              "    [theme=dark] .colab-df-convert:hover {\n",
              "      background-color: #434B5C;\n",
              "      box-shadow: 0px 1px 3px 1px rgba(0, 0, 0, 0.15);\n",
              "      filter: drop-shadow(0px 1px 2px rgba(0, 0, 0, 0.3));\n",
              "      fill: #FFFFFF;\n",
              "    }\n",
              "  </style>\n",
              "\n",
              "    <script>\n",
              "      const buttonEl =\n",
              "        document.querySelector('#df-72599a2d-6b10-4ff7-8b87-698ad830fc79 button.colab-df-convert');\n",
              "      buttonEl.style.display =\n",
              "        google.colab.kernel.accessAllowed ? 'block' : 'none';\n",
              "\n",
              "      async function convertToInteractive(key) {\n",
              "        const element = document.querySelector('#df-72599a2d-6b10-4ff7-8b87-698ad830fc79');\n",
              "        const dataTable =\n",
              "          await google.colab.kernel.invokeFunction('convertToInteractive',\n",
              "                                                    [key], {});\n",
              "        if (!dataTable) return;\n",
              "\n",
              "        const docLinkHtml = 'Like what you see? Visit the ' +\n",
              "          '<a target=\"_blank\" href=https://colab.research.google.com/notebooks/data_table.ipynb>data table notebook</a>'\n",
              "          + ' to learn more about interactive tables.';\n",
              "        element.innerHTML = '';\n",
              "        dataTable['output_type'] = 'display_data';\n",
              "        await google.colab.output.renderOutput(dataTable, element);\n",
              "        const docLink = document.createElement('div');\n",
              "        docLink.innerHTML = docLinkHtml;\n",
              "        element.appendChild(docLink);\n",
              "      }\n",
              "    </script>\n",
              "  </div>\n",
              "\n",
              "\n",
              "<div id=\"df-101ab38a-3e8c-4226-8c70-2e0811f690f4\">\n",
              "  <button class=\"colab-df-quickchart\" onclick=\"quickchart('df-101ab38a-3e8c-4226-8c70-2e0811f690f4')\"\n",
              "            title=\"Suggest charts\"\n",
              "            style=\"display:none;\">\n",
              "\n",
              "<svg xmlns=\"http://www.w3.org/2000/svg\" height=\"24px\"viewBox=\"0 0 24 24\"\n",
              "     width=\"24px\">\n",
              "    <g>\n",
              "        <path d=\"M19 3H5c-1.1 0-2 .9-2 2v14c0 1.1.9 2 2 2h14c1.1 0 2-.9 2-2V5c0-1.1-.9-2-2-2zM9 17H7v-7h2v7zm4 0h-2V7h2v10zm4 0h-2v-4h2v4z\"/>\n",
              "    </g>\n",
              "</svg>\n",
              "  </button>\n",
              "\n",
              "<style>\n",
              "  .colab-df-quickchart {\n",
              "      --bg-color: #E8F0FE;\n",
              "      --fill-color: #1967D2;\n",
              "      --hover-bg-color: #E2EBFA;\n",
              "      --hover-fill-color: #174EA6;\n",
              "      --disabled-fill-color: #AAA;\n",
              "      --disabled-bg-color: #DDD;\n",
              "  }\n",
              "\n",
              "  [theme=dark] .colab-df-quickchart {\n",
              "      --bg-color: #3B4455;\n",
              "      --fill-color: #D2E3FC;\n",
              "      --hover-bg-color: #434B5C;\n",
              "      --hover-fill-color: #FFFFFF;\n",
              "      --disabled-bg-color: #3B4455;\n",
              "      --disabled-fill-color: #666;\n",
              "  }\n",
              "\n",
              "  .colab-df-quickchart {\n",
              "    background-color: var(--bg-color);\n",
              "    border: none;\n",
              "    border-radius: 50%;\n",
              "    cursor: pointer;\n",
              "    display: none;\n",
              "    fill: var(--fill-color);\n",
              "    height: 32px;\n",
              "    padding: 0;\n",
              "    width: 32px;\n",
              "  }\n",
              "\n",
              "  .colab-df-quickchart:hover {\n",
              "    background-color: var(--hover-bg-color);\n",
              "    box-shadow: 0 1px 2px rgba(60, 64, 67, 0.3), 0 1px 3px 1px rgba(60, 64, 67, 0.15);\n",
              "    fill: var(--button-hover-fill-color);\n",
              "  }\n",
              "\n",
              "  .colab-df-quickchart-complete:disabled,\n",
              "  .colab-df-quickchart-complete:disabled:hover {\n",
              "    background-color: var(--disabled-bg-color);\n",
              "    fill: var(--disabled-fill-color);\n",
              "    box-shadow: none;\n",
              "  }\n",
              "\n",
              "  .colab-df-spinner {\n",
              "    border: 2px solid var(--fill-color);\n",
              "    border-color: transparent;\n",
              "    border-bottom-color: var(--fill-color);\n",
              "    animation:\n",
              "      spin 1s steps(1) infinite;\n",
              "  }\n",
              "\n",
              "  @keyframes spin {\n",
              "    0% {\n",
              "      border-color: transparent;\n",
              "      border-bottom-color: var(--fill-color);\n",
              "      border-left-color: var(--fill-color);\n",
              "    }\n",
              "    20% {\n",
              "      border-color: transparent;\n",
              "      border-left-color: var(--fill-color);\n",
              "      border-top-color: var(--fill-color);\n",
              "    }\n",
              "    30% {\n",
              "      border-color: transparent;\n",
              "      border-left-color: var(--fill-color);\n",
              "      border-top-color: var(--fill-color);\n",
              "      border-right-color: var(--fill-color);\n",
              "    }\n",
              "    40% {\n",
              "      border-color: transparent;\n",
              "      border-right-color: var(--fill-color);\n",
              "      border-top-color: var(--fill-color);\n",
              "    }\n",
              "    60% {\n",
              "      border-color: transparent;\n",
              "      border-right-color: var(--fill-color);\n",
              "    }\n",
              "    80% {\n",
              "      border-color: transparent;\n",
              "      border-right-color: var(--fill-color);\n",
              "      border-bottom-color: var(--fill-color);\n",
              "    }\n",
              "    90% {\n",
              "      border-color: transparent;\n",
              "      border-bottom-color: var(--fill-color);\n",
              "    }\n",
              "  }\n",
              "</style>\n",
              "\n",
              "  <script>\n",
              "    async function quickchart(key) {\n",
              "      const quickchartButtonEl =\n",
              "        document.querySelector('#' + key + ' button');\n",
              "      quickchartButtonEl.disabled = true;  // To prevent multiple clicks.\n",
              "      quickchartButtonEl.classList.add('colab-df-spinner');\n",
              "      try {\n",
              "        const charts = await google.colab.kernel.invokeFunction(\n",
              "            'suggestCharts', [key], {});\n",
              "      } catch (error) {\n",
              "        console.error('Error during call to suggestCharts:', error);\n",
              "      }\n",
              "      quickchartButtonEl.classList.remove('colab-df-spinner');\n",
              "      quickchartButtonEl.classList.add('colab-df-quickchart-complete');\n",
              "    }\n",
              "    (() => {\n",
              "      let quickchartButtonEl =\n",
              "        document.querySelector('#df-101ab38a-3e8c-4226-8c70-2e0811f690f4 button');\n",
              "      quickchartButtonEl.style.display =\n",
              "        google.colab.kernel.accessAllowed ? 'block' : 'none';\n",
              "    })();\n",
              "  </script>\n",
              "</div>\n",
              "\n",
              "  <div id=\"id_bc4b23dd-d757-4d54-b6bb-1e16dc95bfb8\">\n",
              "    <style>\n",
              "      .colab-df-generate {\n",
              "        background-color: #E8F0FE;\n",
              "        border: none;\n",
              "        border-radius: 50%;\n",
              "        cursor: pointer;\n",
              "        display: none;\n",
              "        fill: #1967D2;\n",
              "        height: 32px;\n",
              "        padding: 0 0 0 0;\n",
              "        width: 32px;\n",
              "      }\n",
              "\n",
              "      .colab-df-generate:hover {\n",
              "        background-color: #E2EBFA;\n",
              "        box-shadow: 0px 1px 2px rgba(60, 64, 67, 0.3), 0px 1px 3px 1px rgba(60, 64, 67, 0.15);\n",
              "        fill: #174EA6;\n",
              "      }\n",
              "\n",
              "      [theme=dark] .colab-df-generate {\n",
              "        background-color: #3B4455;\n",
              "        fill: #D2E3FC;\n",
              "      }\n",
              "\n",
              "      [theme=dark] .colab-df-generate:hover {\n",
              "        background-color: #434B5C;\n",
              "        box-shadow: 0px 1px 3px 1px rgba(0, 0, 0, 0.15);\n",
              "        filter: drop-shadow(0px 1px 2px rgba(0, 0, 0, 0.3));\n",
              "        fill: #FFFFFF;\n",
              "      }\n",
              "    </style>\n",
              "    <button class=\"colab-df-generate\" onclick=\"generateWithVariable('df')\"\n",
              "            title=\"Generate code using this dataframe.\"\n",
              "            style=\"display:none;\">\n",
              "\n",
              "  <svg xmlns=\"http://www.w3.org/2000/svg\" height=\"24px\"viewBox=\"0 0 24 24\"\n",
              "       width=\"24px\">\n",
              "    <path d=\"M7,19H8.4L18.45,9,17,7.55,7,17.6ZM5,21V16.75L18.45,3.32a2,2,0,0,1,2.83,0l1.4,1.43a1.91,1.91,0,0,1,.58,1.4,1.91,1.91,0,0,1-.58,1.4L9.25,21ZM18.45,9,17,7.55Zm-12,3A5.31,5.31,0,0,0,4.9,8.1,5.31,5.31,0,0,0,1,6.5,5.31,5.31,0,0,0,4.9,4.9,5.31,5.31,0,0,0,6.5,1,5.31,5.31,0,0,0,8.1,4.9,5.31,5.31,0,0,0,12,6.5,5.46,5.46,0,0,0,6.5,12Z\"/>\n",
              "  </svg>\n",
              "    </button>\n",
              "    <script>\n",
              "      (() => {\n",
              "      const buttonEl =\n",
              "        document.querySelector('#id_bc4b23dd-d757-4d54-b6bb-1e16dc95bfb8 button.colab-df-generate');\n",
              "      buttonEl.style.display =\n",
              "        google.colab.kernel.accessAllowed ? 'block' : 'none';\n",
              "\n",
              "      buttonEl.onclick = () => {\n",
              "        google.colab.notebook.generateWithVariable('df');\n",
              "      }\n",
              "      })();\n",
              "    </script>\n",
              "  </div>\n",
              "\n",
              "    </div>\n",
              "  </div>\n"
            ],
            "application/vnd.google.colaboratory.intrinsic+json": {
              "type": "dataframe",
              "variable_name": "df",
              "summary": "{\n  \"name\": \"df\",\n  \"rows\": 44,\n  \"fields\": [\n    {\n      \"column\": \"dataset\",\n      \"properties\": {\n        \"dtype\": \"category\",\n        \"num_unique_values\": 4,\n        \"samples\": [\n          \"II\",\n          \"IV\",\n          \"I\"\n        ],\n        \"semantic_type\": \"\",\n        \"description\": \"\"\n      }\n    },\n    {\n      \"column\": \"x\",\n      \"properties\": {\n        \"dtype\": \"number\",\n        \"std\": 3.198836997962679,\n        \"min\": 4.0,\n        \"max\": 19.0,\n        \"num_unique_values\": 12,\n        \"samples\": [\n          5.0,\n          7.0,\n          10.0\n        ],\n        \"semantic_type\": \"\",\n        \"description\": \"\"\n      }\n    },\n    {\n      \"column\": \"y\",\n      \"properties\": {\n        \"dtype\": \"number\",\n        \"std\": 1.9589251890784192,\n        \"min\": 3.1,\n        \"max\": 12.74,\n        \"num_unique_values\": 43,\n        \"samples\": [\n          7.04,\n          12.74,\n          7.11\n        ],\n        \"semantic_type\": \"\",\n        \"description\": \"\"\n      }\n    }\n  ]\n}"
            }
          },
          "metadata": {},
          "execution_count": 61
        }
      ]
    },
    {
      "cell_type": "markdown",
      "metadata": {
        "id": "VG8b-xGk5wfy"
      },
      "source": [
        "In our table we will have four columns. The first column is called *index*, and it enumerates the data. The rest of the columns are specific for the set of data we chose."
      ]
    },
    {
      "cell_type": "markdown",
      "metadata": {
        "id": "M_O8d04JwfFw"
      },
      "source": [
        "In programming, any value, function or *dataframe* is called **object**, and each has a **class**. Dataframes are a type of \"class\", essentially because all *dataframes* can make the same type of things.\n",
        "\n",
        "We can say that every time we call the `type()` function to any Python object we are asking for its class.\n"
      ]
    },
    {
      "cell_type": "code",
      "metadata": {
        "id": "DBF2kVvDu3ne",
        "colab": {
          "base_uri": "https://localhost:8080/"
        },
        "outputId": "c3d99bf5-a1ec-4206-8df6-96ffa5116e75"
      },
      "source": [
        "type(df)"
      ],
      "execution_count": null,
      "outputs": [
        {
          "output_type": "execute_result",
          "data": {
            "text/plain": [
              "pandas.core.frame.DataFrame"
            ],
            "text/html": [
              "<div style=\"max-width:800px; border: 1px solid var(--colab-border-color);\"><style>\n",
              "      pre.function-repr-contents {\n",
              "        overflow-x: auto;\n",
              "        padding: 8px 12px;\n",
              "        max-height: 500px;\n",
              "      }\n",
              "\n",
              "      pre.function-repr-contents.function-repr-contents-collapsed {\n",
              "        cursor: pointer;\n",
              "        max-height: 100px;\n",
              "      }\n",
              "    </style>\n",
              "    <pre style=\"white-space: initial; background:\n",
              "         var(--colab-secondary-surface-color); padding: 8px 12px;\n",
              "         border-bottom: 1px solid var(--colab-border-color);\"><b>pandas.core.frame.DataFrame</b><br/>def __init__(data=None, index: Axes | None=None, columns: Axes | None=None, dtype: Dtype | None=None, copy: bool | None=None) -&gt; None</pre><pre class=\"function-repr-contents function-repr-contents-collapsed\" style=\"\"><a class=\"filepath\" style=\"display:none\" href=\"#\">/usr/local/lib/python3.11/dist-packages/pandas/core/frame.py</a>Two-dimensional, size-mutable, potentially heterogeneous tabular data.\n",
              "\n",
              "Data structure also contains labeled axes (rows and columns).\n",
              "Arithmetic operations align on both row and column labels. Can be\n",
              "thought of as a dict-like container for Series objects. The primary\n",
              "pandas data structure.\n",
              "\n",
              "Parameters\n",
              "----------\n",
              "data : ndarray (structured or homogeneous), Iterable, dict, or DataFrame\n",
              "    Dict can contain Series, arrays, constants, dataclass or list-like objects. If\n",
              "    data is a dict, column order follows insertion-order. If a dict contains Series\n",
              "    which have an index defined, it is aligned by its index. This alignment also\n",
              "    occurs if data is a Series or a DataFrame itself. Alignment is done on\n",
              "    Series/DataFrame inputs.\n",
              "\n",
              "    If data is a list of dicts, column order follows insertion-order.\n",
              "\n",
              "index : Index or array-like\n",
              "    Index to use for resulting frame. Will default to RangeIndex if\n",
              "    no indexing information part of input data and no index provided.\n",
              "columns : Index or array-like\n",
              "    Column labels to use for resulting frame when data does not have them,\n",
              "    defaulting to RangeIndex(0, 1, 2, ..., n). If data contains column labels,\n",
              "    will perform column selection instead.\n",
              "dtype : dtype, default None\n",
              "    Data type to force. Only a single dtype is allowed. If None, infer.\n",
              "copy : bool or None, default None\n",
              "    Copy data from inputs.\n",
              "    For dict data, the default of None behaves like ``copy=True``.  For DataFrame\n",
              "    or 2d ndarray input, the default of None behaves like ``copy=False``.\n",
              "    If data is a dict containing one or more Series (possibly of different dtypes),\n",
              "    ``copy=False`` will ensure that these inputs are not copied.\n",
              "\n",
              "    .. versionchanged:: 1.3.0\n",
              "\n",
              "See Also\n",
              "--------\n",
              "DataFrame.from_records : Constructor from tuples, also record arrays.\n",
              "DataFrame.from_dict : From dicts of Series, arrays, or dicts.\n",
              "read_csv : Read a comma-separated values (csv) file into DataFrame.\n",
              "read_table : Read general delimited file into DataFrame.\n",
              "read_clipboard : Read text from clipboard into DataFrame.\n",
              "\n",
              "Notes\n",
              "-----\n",
              "Please reference the :ref:`User Guide &lt;basics.dataframe&gt;` for more information.\n",
              "\n",
              "Examples\n",
              "--------\n",
              "Constructing DataFrame from a dictionary.\n",
              "\n",
              "&gt;&gt;&gt; d = {&#x27;col1&#x27;: [1, 2], &#x27;col2&#x27;: [3, 4]}\n",
              "&gt;&gt;&gt; df = pd.DataFrame(data=d)\n",
              "&gt;&gt;&gt; df\n",
              "   col1  col2\n",
              "0     1     3\n",
              "1     2     4\n",
              "\n",
              "Notice that the inferred dtype is int64.\n",
              "\n",
              "&gt;&gt;&gt; df.dtypes\n",
              "col1    int64\n",
              "col2    int64\n",
              "dtype: object\n",
              "\n",
              "To enforce a single dtype:\n",
              "\n",
              "&gt;&gt;&gt; df = pd.DataFrame(data=d, dtype=np.int8)\n",
              "&gt;&gt;&gt; df.dtypes\n",
              "col1    int8\n",
              "col2    int8\n",
              "dtype: object\n",
              "\n",
              "Constructing DataFrame from a dictionary including Series:\n",
              "\n",
              "&gt;&gt;&gt; d = {&#x27;col1&#x27;: [0, 1, 2, 3], &#x27;col2&#x27;: pd.Series([2, 3], index=[2, 3])}\n",
              "&gt;&gt;&gt; pd.DataFrame(data=d, index=[0, 1, 2, 3])\n",
              "   col1  col2\n",
              "0     0   NaN\n",
              "1     1   NaN\n",
              "2     2   2.0\n",
              "3     3   3.0\n",
              "\n",
              "Constructing DataFrame from numpy ndarray:\n",
              "\n",
              "&gt;&gt;&gt; df2 = pd.DataFrame(np.array([[1, 2, 3], [4, 5, 6], [7, 8, 9]]),\n",
              "...                    columns=[&#x27;a&#x27;, &#x27;b&#x27;, &#x27;c&#x27;])\n",
              "&gt;&gt;&gt; df2\n",
              "   a  b  c\n",
              "0  1  2  3\n",
              "1  4  5  6\n",
              "2  7  8  9\n",
              "\n",
              "Constructing DataFrame from a numpy ndarray that has labeled columns:\n",
              "\n",
              "&gt;&gt;&gt; data = np.array([(1, 2, 3), (4, 5, 6), (7, 8, 9)],\n",
              "...                 dtype=[(&quot;a&quot;, &quot;i4&quot;), (&quot;b&quot;, &quot;i4&quot;), (&quot;c&quot;, &quot;i4&quot;)])\n",
              "&gt;&gt;&gt; df3 = pd.DataFrame(data, columns=[&#x27;c&#x27;, &#x27;a&#x27;])\n",
              "...\n",
              "&gt;&gt;&gt; df3\n",
              "   c  a\n",
              "0  3  1\n",
              "1  6  4\n",
              "2  9  7\n",
              "\n",
              "Constructing DataFrame from dataclass:\n",
              "\n",
              "&gt;&gt;&gt; from dataclasses import make_dataclass\n",
              "&gt;&gt;&gt; Point = make_dataclass(&quot;Point&quot;, [(&quot;x&quot;, int), (&quot;y&quot;, int)])\n",
              "&gt;&gt;&gt; pd.DataFrame([Point(0, 0), Point(0, 3), Point(2, 3)])\n",
              "   x  y\n",
              "0  0  0\n",
              "1  0  3\n",
              "2  2  3\n",
              "\n",
              "Constructing DataFrame from Series/DataFrame:\n",
              "\n",
              "&gt;&gt;&gt; ser = pd.Series([1, 2, 3], index=[&quot;a&quot;, &quot;b&quot;, &quot;c&quot;])\n",
              "&gt;&gt;&gt; df = pd.DataFrame(data=ser, index=[&quot;a&quot;, &quot;c&quot;])\n",
              "&gt;&gt;&gt; df\n",
              "   0\n",
              "a  1\n",
              "c  3\n",
              "\n",
              "&gt;&gt;&gt; df1 = pd.DataFrame([1, 2, 3], index=[&quot;a&quot;, &quot;b&quot;, &quot;c&quot;], columns=[&quot;x&quot;])\n",
              "&gt;&gt;&gt; df2 = pd.DataFrame(data=df1, index=[&quot;a&quot;, &quot;c&quot;])\n",
              "&gt;&gt;&gt; df2\n",
              "   x\n",
              "a  1\n",
              "c  3</pre>\n",
              "      <script>\n",
              "      if (google.colab.kernel.accessAllowed && google.colab.files && google.colab.files.view) {\n",
              "        for (const element of document.querySelectorAll('.filepath')) {\n",
              "          element.style.display = 'block'\n",
              "          element.onclick = (event) => {\n",
              "            event.preventDefault();\n",
              "            event.stopPropagation();\n",
              "            google.colab.files.view(element.textContent, 509);\n",
              "          };\n",
              "        }\n",
              "      }\n",
              "      for (const element of document.querySelectorAll('.function-repr-contents')) {\n",
              "        element.onclick = (event) => {\n",
              "          event.preventDefault();\n",
              "          event.stopPropagation();\n",
              "          element.classList.toggle('function-repr-contents-collapsed');\n",
              "        };\n",
              "      }\n",
              "      </script>\n",
              "      </div>"
            ]
          },
          "metadata": {},
          "execution_count": 62
        }
      ]
    },
    {
      "cell_type": "markdown",
      "metadata": {
        "id": "lWJ9AJMw28Fd"
      },
      "source": [
        "Classes incorporate behavioral information. This information is contained in **methods**. In this sense, columns are a method of the *dataframe* class.\n"
      ]
    },
    {
      "cell_type": "markdown",
      "metadata": {
        "id": "4bEgaAtmqqYu"
      },
      "source": [
        "Show columns\n",
        "\n",
        "---\n",
        "Some Pandas integrated functions allow us to visualize some characteristics of our *dataframe*, e.g., the `columns`function prints the labels of all the existing columns in the table.\n",
        "\n",
        "\n",
        "\n"
      ]
    },
    {
      "cell_type": "code",
      "metadata": {
        "id": "KEOcj-OIqsPr",
        "colab": {
          "base_uri": "https://localhost:8080/"
        },
        "outputId": "7c2362b6-72a1-4d8b-faae-adfe50a189d0"
      },
      "source": [
        "#The columns function prints the name of all the columns\n",
        "df.columns"
      ],
      "execution_count": null,
      "outputs": [
        {
          "output_type": "execute_result",
          "data": {
            "text/plain": [
              "Index(['dataset', 'x', 'y'], dtype='object')"
            ]
          },
          "metadata": {},
          "execution_count": 63
        }
      ]
    },
    {
      "cell_type": "markdown",
      "metadata": {
        "id": "49SjG4MxsTU5"
      },
      "source": [
        "We can also transpose rows and columns using:"
      ]
    },
    {
      "cell_type": "code",
      "metadata": {
        "id": "KzqXDDbzsTfY",
        "colab": {
          "base_uri": "https://localhost:8080/"
        },
        "outputId": "10dd2f9a-29a3-4838-924b-460c275822d3"
      },
      "source": [
        "df.T"
      ],
      "execution_count": null,
      "outputs": [
        {
          "output_type": "execute_result",
          "data": {
            "text/plain": [
              "           0     1     2     3     4     5     6     7      8     9   ...  \\\n",
              "dataset     I     I     I     I     I     I     I     I      I     I  ...   \n",
              "x        10.0   8.0  13.0   9.0  11.0  14.0   6.0   4.0   12.0   7.0  ...   \n",
              "y        8.04  6.95  7.58  8.81  8.33  9.96  7.24  4.26  10.84  4.82  ...   \n",
              "\n",
              "           34    35    36    37    38    39    40    41    42    43  \n",
              "dataset    IV    IV    IV    IV    IV    IV    IV    IV    IV    IV  \n",
              "x         8.0   8.0   8.0   8.0   8.0   8.0  19.0   8.0   8.0   8.0  \n",
              "y        5.76  7.71  8.84  8.47  7.04  5.25  12.5  5.56  7.91  6.89  \n",
              "\n",
              "[3 rows x 44 columns]"
            ],
            "text/html": [
              "\n",
              "  <div id=\"df-80119eb9-a766-4df0-bca8-31ad239be6f6\" class=\"colab-df-container\">\n",
              "    <div>\n",
              "<style scoped>\n",
              "    .dataframe tbody tr th:only-of-type {\n",
              "        vertical-align: middle;\n",
              "    }\n",
              "\n",
              "    .dataframe tbody tr th {\n",
              "        vertical-align: top;\n",
              "    }\n",
              "\n",
              "    .dataframe thead th {\n",
              "        text-align: right;\n",
              "    }\n",
              "</style>\n",
              "<table border=\"1\" class=\"dataframe\">\n",
              "  <thead>\n",
              "    <tr style=\"text-align: right;\">\n",
              "      <th></th>\n",
              "      <th>0</th>\n",
              "      <th>1</th>\n",
              "      <th>2</th>\n",
              "      <th>3</th>\n",
              "      <th>4</th>\n",
              "      <th>5</th>\n",
              "      <th>6</th>\n",
              "      <th>7</th>\n",
              "      <th>8</th>\n",
              "      <th>9</th>\n",
              "      <th>...</th>\n",
              "      <th>34</th>\n",
              "      <th>35</th>\n",
              "      <th>36</th>\n",
              "      <th>37</th>\n",
              "      <th>38</th>\n",
              "      <th>39</th>\n",
              "      <th>40</th>\n",
              "      <th>41</th>\n",
              "      <th>42</th>\n",
              "      <th>43</th>\n",
              "    </tr>\n",
              "  </thead>\n",
              "  <tbody>\n",
              "    <tr>\n",
              "      <th>dataset</th>\n",
              "      <td>I</td>\n",
              "      <td>I</td>\n",
              "      <td>I</td>\n",
              "      <td>I</td>\n",
              "      <td>I</td>\n",
              "      <td>I</td>\n",
              "      <td>I</td>\n",
              "      <td>I</td>\n",
              "      <td>I</td>\n",
              "      <td>I</td>\n",
              "      <td>...</td>\n",
              "      <td>IV</td>\n",
              "      <td>IV</td>\n",
              "      <td>IV</td>\n",
              "      <td>IV</td>\n",
              "      <td>IV</td>\n",
              "      <td>IV</td>\n",
              "      <td>IV</td>\n",
              "      <td>IV</td>\n",
              "      <td>IV</td>\n",
              "      <td>IV</td>\n",
              "    </tr>\n",
              "    <tr>\n",
              "      <th>x</th>\n",
              "      <td>10.0</td>\n",
              "      <td>8.0</td>\n",
              "      <td>13.0</td>\n",
              "      <td>9.0</td>\n",
              "      <td>11.0</td>\n",
              "      <td>14.0</td>\n",
              "      <td>6.0</td>\n",
              "      <td>4.0</td>\n",
              "      <td>12.0</td>\n",
              "      <td>7.0</td>\n",
              "      <td>...</td>\n",
              "      <td>8.0</td>\n",
              "      <td>8.0</td>\n",
              "      <td>8.0</td>\n",
              "      <td>8.0</td>\n",
              "      <td>8.0</td>\n",
              "      <td>8.0</td>\n",
              "      <td>19.0</td>\n",
              "      <td>8.0</td>\n",
              "      <td>8.0</td>\n",
              "      <td>8.0</td>\n",
              "    </tr>\n",
              "    <tr>\n",
              "      <th>y</th>\n",
              "      <td>8.04</td>\n",
              "      <td>6.95</td>\n",
              "      <td>7.58</td>\n",
              "      <td>8.81</td>\n",
              "      <td>8.33</td>\n",
              "      <td>9.96</td>\n",
              "      <td>7.24</td>\n",
              "      <td>4.26</td>\n",
              "      <td>10.84</td>\n",
              "      <td>4.82</td>\n",
              "      <td>...</td>\n",
              "      <td>5.76</td>\n",
              "      <td>7.71</td>\n",
              "      <td>8.84</td>\n",
              "      <td>8.47</td>\n",
              "      <td>7.04</td>\n",
              "      <td>5.25</td>\n",
              "      <td>12.5</td>\n",
              "      <td>5.56</td>\n",
              "      <td>7.91</td>\n",
              "      <td>6.89</td>\n",
              "    </tr>\n",
              "  </tbody>\n",
              "</table>\n",
              "<p>3 rows × 44 columns</p>\n",
              "</div>\n",
              "    <div class=\"colab-df-buttons\">\n",
              "\n",
              "  <div class=\"colab-df-container\">\n",
              "    <button class=\"colab-df-convert\" onclick=\"convertToInteractive('df-80119eb9-a766-4df0-bca8-31ad239be6f6')\"\n",
              "            title=\"Convert this dataframe to an interactive table.\"\n",
              "            style=\"display:none;\">\n",
              "\n",
              "  <svg xmlns=\"http://www.w3.org/2000/svg\" height=\"24px\" viewBox=\"0 -960 960 960\">\n",
              "    <path d=\"M120-120v-720h720v720H120Zm60-500h600v-160H180v160Zm220 220h160v-160H400v160Zm0 220h160v-160H400v160ZM180-400h160v-160H180v160Zm440 0h160v-160H620v160ZM180-180h160v-160H180v160Zm440 0h160v-160H620v160Z\"/>\n",
              "  </svg>\n",
              "    </button>\n",
              "\n",
              "  <style>\n",
              "    .colab-df-container {\n",
              "      display:flex;\n",
              "      gap: 12px;\n",
              "    }\n",
              "\n",
              "    .colab-df-convert {\n",
              "      background-color: #E8F0FE;\n",
              "      border: none;\n",
              "      border-radius: 50%;\n",
              "      cursor: pointer;\n",
              "      display: none;\n",
              "      fill: #1967D2;\n",
              "      height: 32px;\n",
              "      padding: 0 0 0 0;\n",
              "      width: 32px;\n",
              "    }\n",
              "\n",
              "    .colab-df-convert:hover {\n",
              "      background-color: #E2EBFA;\n",
              "      box-shadow: 0px 1px 2px rgba(60, 64, 67, 0.3), 0px 1px 3px 1px rgba(60, 64, 67, 0.15);\n",
              "      fill: #174EA6;\n",
              "    }\n",
              "\n",
              "    .colab-df-buttons div {\n",
              "      margin-bottom: 4px;\n",
              "    }\n",
              "\n",
              "    [theme=dark] .colab-df-convert {\n",
              "      background-color: #3B4455;\n",
              "      fill: #D2E3FC;\n",
              "    }\n",
              "\n",
              "    [theme=dark] .colab-df-convert:hover {\n",
              "      background-color: #434B5C;\n",
              "      box-shadow: 0px 1px 3px 1px rgba(0, 0, 0, 0.15);\n",
              "      filter: drop-shadow(0px 1px 2px rgba(0, 0, 0, 0.3));\n",
              "      fill: #FFFFFF;\n",
              "    }\n",
              "  </style>\n",
              "\n",
              "    <script>\n",
              "      const buttonEl =\n",
              "        document.querySelector('#df-80119eb9-a766-4df0-bca8-31ad239be6f6 button.colab-df-convert');\n",
              "      buttonEl.style.display =\n",
              "        google.colab.kernel.accessAllowed ? 'block' : 'none';\n",
              "\n",
              "      async function convertToInteractive(key) {\n",
              "        const element = document.querySelector('#df-80119eb9-a766-4df0-bca8-31ad239be6f6');\n",
              "        const dataTable =\n",
              "          await google.colab.kernel.invokeFunction('convertToInteractive',\n",
              "                                                    [key], {});\n",
              "        if (!dataTable) return;\n",
              "\n",
              "        const docLinkHtml = 'Like what you see? Visit the ' +\n",
              "          '<a target=\"_blank\" href=https://colab.research.google.com/notebooks/data_table.ipynb>data table notebook</a>'\n",
              "          + ' to learn more about interactive tables.';\n",
              "        element.innerHTML = '';\n",
              "        dataTable['output_type'] = 'display_data';\n",
              "        await google.colab.output.renderOutput(dataTable, element);\n",
              "        const docLink = document.createElement('div');\n",
              "        docLink.innerHTML = docLinkHtml;\n",
              "        element.appendChild(docLink);\n",
              "      }\n",
              "    </script>\n",
              "  </div>\n",
              "\n",
              "\n",
              "<div id=\"df-73b3ac1e-2cb2-4be4-ba05-a9dde926696e\">\n",
              "  <button class=\"colab-df-quickchart\" onclick=\"quickchart('df-73b3ac1e-2cb2-4be4-ba05-a9dde926696e')\"\n",
              "            title=\"Suggest charts\"\n",
              "            style=\"display:none;\">\n",
              "\n",
              "<svg xmlns=\"http://www.w3.org/2000/svg\" height=\"24px\"viewBox=\"0 0 24 24\"\n",
              "     width=\"24px\">\n",
              "    <g>\n",
              "        <path d=\"M19 3H5c-1.1 0-2 .9-2 2v14c0 1.1.9 2 2 2h14c1.1 0 2-.9 2-2V5c0-1.1-.9-2-2-2zM9 17H7v-7h2v7zm4 0h-2V7h2v10zm4 0h-2v-4h2v4z\"/>\n",
              "    </g>\n",
              "</svg>\n",
              "  </button>\n",
              "\n",
              "<style>\n",
              "  .colab-df-quickchart {\n",
              "      --bg-color: #E8F0FE;\n",
              "      --fill-color: #1967D2;\n",
              "      --hover-bg-color: #E2EBFA;\n",
              "      --hover-fill-color: #174EA6;\n",
              "      --disabled-fill-color: #AAA;\n",
              "      --disabled-bg-color: #DDD;\n",
              "  }\n",
              "\n",
              "  [theme=dark] .colab-df-quickchart {\n",
              "      --bg-color: #3B4455;\n",
              "      --fill-color: #D2E3FC;\n",
              "      --hover-bg-color: #434B5C;\n",
              "      --hover-fill-color: #FFFFFF;\n",
              "      --disabled-bg-color: #3B4455;\n",
              "      --disabled-fill-color: #666;\n",
              "  }\n",
              "\n",
              "  .colab-df-quickchart {\n",
              "    background-color: var(--bg-color);\n",
              "    border: none;\n",
              "    border-radius: 50%;\n",
              "    cursor: pointer;\n",
              "    display: none;\n",
              "    fill: var(--fill-color);\n",
              "    height: 32px;\n",
              "    padding: 0;\n",
              "    width: 32px;\n",
              "  }\n",
              "\n",
              "  .colab-df-quickchart:hover {\n",
              "    background-color: var(--hover-bg-color);\n",
              "    box-shadow: 0 1px 2px rgba(60, 64, 67, 0.3), 0 1px 3px 1px rgba(60, 64, 67, 0.15);\n",
              "    fill: var(--button-hover-fill-color);\n",
              "  }\n",
              "\n",
              "  .colab-df-quickchart-complete:disabled,\n",
              "  .colab-df-quickchart-complete:disabled:hover {\n",
              "    background-color: var(--disabled-bg-color);\n",
              "    fill: var(--disabled-fill-color);\n",
              "    box-shadow: none;\n",
              "  }\n",
              "\n",
              "  .colab-df-spinner {\n",
              "    border: 2px solid var(--fill-color);\n",
              "    border-color: transparent;\n",
              "    border-bottom-color: var(--fill-color);\n",
              "    animation:\n",
              "      spin 1s steps(1) infinite;\n",
              "  }\n",
              "\n",
              "  @keyframes spin {\n",
              "    0% {\n",
              "      border-color: transparent;\n",
              "      border-bottom-color: var(--fill-color);\n",
              "      border-left-color: var(--fill-color);\n",
              "    }\n",
              "    20% {\n",
              "      border-color: transparent;\n",
              "      border-left-color: var(--fill-color);\n",
              "      border-top-color: var(--fill-color);\n",
              "    }\n",
              "    30% {\n",
              "      border-color: transparent;\n",
              "      border-left-color: var(--fill-color);\n",
              "      border-top-color: var(--fill-color);\n",
              "      border-right-color: var(--fill-color);\n",
              "    }\n",
              "    40% {\n",
              "      border-color: transparent;\n",
              "      border-right-color: var(--fill-color);\n",
              "      border-top-color: var(--fill-color);\n",
              "    }\n",
              "    60% {\n",
              "      border-color: transparent;\n",
              "      border-right-color: var(--fill-color);\n",
              "    }\n",
              "    80% {\n",
              "      border-color: transparent;\n",
              "      border-right-color: var(--fill-color);\n",
              "      border-bottom-color: var(--fill-color);\n",
              "    }\n",
              "    90% {\n",
              "      border-color: transparent;\n",
              "      border-bottom-color: var(--fill-color);\n",
              "    }\n",
              "  }\n",
              "</style>\n",
              "\n",
              "  <script>\n",
              "    async function quickchart(key) {\n",
              "      const quickchartButtonEl =\n",
              "        document.querySelector('#' + key + ' button');\n",
              "      quickchartButtonEl.disabled = true;  // To prevent multiple clicks.\n",
              "      quickchartButtonEl.classList.add('colab-df-spinner');\n",
              "      try {\n",
              "        const charts = await google.colab.kernel.invokeFunction(\n",
              "            'suggestCharts', [key], {});\n",
              "      } catch (error) {\n",
              "        console.error('Error during call to suggestCharts:', error);\n",
              "      }\n",
              "      quickchartButtonEl.classList.remove('colab-df-spinner');\n",
              "      quickchartButtonEl.classList.add('colab-df-quickchart-complete');\n",
              "    }\n",
              "    (() => {\n",
              "      let quickchartButtonEl =\n",
              "        document.querySelector('#df-73b3ac1e-2cb2-4be4-ba05-a9dde926696e button');\n",
              "      quickchartButtonEl.style.display =\n",
              "        google.colab.kernel.accessAllowed ? 'block' : 'none';\n",
              "    })();\n",
              "  </script>\n",
              "</div>\n",
              "\n",
              "    </div>\n",
              "  </div>\n"
            ],
            "application/vnd.google.colaboratory.intrinsic+json": {
              "type": "dataframe"
            }
          },
          "metadata": {},
          "execution_count": 64
        }
      ]
    },
    {
      "cell_type": "markdown",
      "metadata": {
        "id": "XxWuC1WxsiBz"
      },
      "source": [
        "If we want to order the numeric values according to a determined criterion, we can use the  `sort_values()`function. We need to take into account that we have to specify what values in which columns we want to order. With the \"`ascending`\" or \"`descending`\" parameter we can specify if we want to order them in ascending or descending order.\n",
        "\n",
        "This function, like any other, has additional parameters that we can change according to our taste or needs, e.g., the ascending parameter is  `ascending` is \"_True_\" by default. If we do not specify it, it will remain as \"_True_\", but if we need it, we could change it to \"_False_\".\n",
        "\n",
        "In this case we will order the values of the column “X” in ascending order:"
      ]
    },
    {
      "cell_type": "code",
      "metadata": {
        "id": "2IdZ109jsiJR",
        "colab": {
          "base_uri": "https://localhost:8080/"
        },
        "outputId": "6d45b036-87d9-4387-d9bd-b63e34f67df9"
      },
      "source": [
        "df.sort_values(by='x',ascending = True)"
      ],
      "execution_count": null,
      "outputs": [
        {
          "output_type": "execute_result",
          "data": {
            "text/plain": [
              "   dataset     x      y\n",
              "7        I   4.0   4.26\n",
              "18      II   4.0   3.10\n",
              "29     III   4.0   5.39\n",
              "10       I   5.0   5.68\n",
              "21      II   5.0   4.74\n",
              "32     III   5.0   5.73\n",
              "6        I   6.0   7.24\n",
              "17      II   6.0   6.13\n",
              "28     III   6.0   6.08\n",
              "31     III   7.0   6.42\n",
              "9        I   7.0   4.82\n",
              "20      II   7.0   7.26\n",
              "1        I   8.0   6.95\n",
              "12      II   8.0   8.14\n",
              "33      IV   8.0   6.58\n",
              "23     III   8.0   6.77\n",
              "39      IV   8.0   5.25\n",
              "38      IV   8.0   7.04\n",
              "37      IV   8.0   8.47\n",
              "36      IV   8.0   8.84\n",
              "35      IV   8.0   7.71\n",
              "43      IV   8.0   6.89\n",
              "42      IV   8.0   7.91\n",
              "41      IV   8.0   5.56\n",
              "34      IV   8.0   5.76\n",
              "25     III   9.0   7.11\n",
              "14      II   9.0   8.77\n",
              "3        I   9.0   8.81\n",
              "0        I  10.0   8.04\n",
              "22     III  10.0   7.46\n",
              "11      II  10.0   9.14\n",
              "15      II  11.0   9.26\n",
              "4        I  11.0   8.33\n",
              "26     III  11.0   7.81\n",
              "8        I  12.0  10.84\n",
              "30     III  12.0   8.15\n",
              "19      II  12.0   9.13\n",
              "2        I  13.0   7.58\n",
              "13      II  13.0   8.74\n",
              "24     III  13.0  12.74\n",
              "27     III  14.0   8.84\n",
              "16      II  14.0   8.10\n",
              "5        I  14.0   9.96\n",
              "40      IV  19.0  12.50"
            ],
            "text/html": [
              "\n",
              "  <div id=\"df-4825ffe1-911a-4426-89f0-2e620ce8f1ee\" class=\"colab-df-container\">\n",
              "    <div>\n",
              "<style scoped>\n",
              "    .dataframe tbody tr th:only-of-type {\n",
              "        vertical-align: middle;\n",
              "    }\n",
              "\n",
              "    .dataframe tbody tr th {\n",
              "        vertical-align: top;\n",
              "    }\n",
              "\n",
              "    .dataframe thead th {\n",
              "        text-align: right;\n",
              "    }\n",
              "</style>\n",
              "<table border=\"1\" class=\"dataframe\">\n",
              "  <thead>\n",
              "    <tr style=\"text-align: right;\">\n",
              "      <th></th>\n",
              "      <th>dataset</th>\n",
              "      <th>x</th>\n",
              "      <th>y</th>\n",
              "    </tr>\n",
              "  </thead>\n",
              "  <tbody>\n",
              "    <tr>\n",
              "      <th>7</th>\n",
              "      <td>I</td>\n",
              "      <td>4.0</td>\n",
              "      <td>4.26</td>\n",
              "    </tr>\n",
              "    <tr>\n",
              "      <th>18</th>\n",
              "      <td>II</td>\n",
              "      <td>4.0</td>\n",
              "      <td>3.10</td>\n",
              "    </tr>\n",
              "    <tr>\n",
              "      <th>29</th>\n",
              "      <td>III</td>\n",
              "      <td>4.0</td>\n",
              "      <td>5.39</td>\n",
              "    </tr>\n",
              "    <tr>\n",
              "      <th>10</th>\n",
              "      <td>I</td>\n",
              "      <td>5.0</td>\n",
              "      <td>5.68</td>\n",
              "    </tr>\n",
              "    <tr>\n",
              "      <th>21</th>\n",
              "      <td>II</td>\n",
              "      <td>5.0</td>\n",
              "      <td>4.74</td>\n",
              "    </tr>\n",
              "    <tr>\n",
              "      <th>32</th>\n",
              "      <td>III</td>\n",
              "      <td>5.0</td>\n",
              "      <td>5.73</td>\n",
              "    </tr>\n",
              "    <tr>\n",
              "      <th>6</th>\n",
              "      <td>I</td>\n",
              "      <td>6.0</td>\n",
              "      <td>7.24</td>\n",
              "    </tr>\n",
              "    <tr>\n",
              "      <th>17</th>\n",
              "      <td>II</td>\n",
              "      <td>6.0</td>\n",
              "      <td>6.13</td>\n",
              "    </tr>\n",
              "    <tr>\n",
              "      <th>28</th>\n",
              "      <td>III</td>\n",
              "      <td>6.0</td>\n",
              "      <td>6.08</td>\n",
              "    </tr>\n",
              "    <tr>\n",
              "      <th>31</th>\n",
              "      <td>III</td>\n",
              "      <td>7.0</td>\n",
              "      <td>6.42</td>\n",
              "    </tr>\n",
              "    <tr>\n",
              "      <th>9</th>\n",
              "      <td>I</td>\n",
              "      <td>7.0</td>\n",
              "      <td>4.82</td>\n",
              "    </tr>\n",
              "    <tr>\n",
              "      <th>20</th>\n",
              "      <td>II</td>\n",
              "      <td>7.0</td>\n",
              "      <td>7.26</td>\n",
              "    </tr>\n",
              "    <tr>\n",
              "      <th>1</th>\n",
              "      <td>I</td>\n",
              "      <td>8.0</td>\n",
              "      <td>6.95</td>\n",
              "    </tr>\n",
              "    <tr>\n",
              "      <th>12</th>\n",
              "      <td>II</td>\n",
              "      <td>8.0</td>\n",
              "      <td>8.14</td>\n",
              "    </tr>\n",
              "    <tr>\n",
              "      <th>33</th>\n",
              "      <td>IV</td>\n",
              "      <td>8.0</td>\n",
              "      <td>6.58</td>\n",
              "    </tr>\n",
              "    <tr>\n",
              "      <th>23</th>\n",
              "      <td>III</td>\n",
              "      <td>8.0</td>\n",
              "      <td>6.77</td>\n",
              "    </tr>\n",
              "    <tr>\n",
              "      <th>39</th>\n",
              "      <td>IV</td>\n",
              "      <td>8.0</td>\n",
              "      <td>5.25</td>\n",
              "    </tr>\n",
              "    <tr>\n",
              "      <th>38</th>\n",
              "      <td>IV</td>\n",
              "      <td>8.0</td>\n",
              "      <td>7.04</td>\n",
              "    </tr>\n",
              "    <tr>\n",
              "      <th>37</th>\n",
              "      <td>IV</td>\n",
              "      <td>8.0</td>\n",
              "      <td>8.47</td>\n",
              "    </tr>\n",
              "    <tr>\n",
              "      <th>36</th>\n",
              "      <td>IV</td>\n",
              "      <td>8.0</td>\n",
              "      <td>8.84</td>\n",
              "    </tr>\n",
              "    <tr>\n",
              "      <th>35</th>\n",
              "      <td>IV</td>\n",
              "      <td>8.0</td>\n",
              "      <td>7.71</td>\n",
              "    </tr>\n",
              "    <tr>\n",
              "      <th>43</th>\n",
              "      <td>IV</td>\n",
              "      <td>8.0</td>\n",
              "      <td>6.89</td>\n",
              "    </tr>\n",
              "    <tr>\n",
              "      <th>42</th>\n",
              "      <td>IV</td>\n",
              "      <td>8.0</td>\n",
              "      <td>7.91</td>\n",
              "    </tr>\n",
              "    <tr>\n",
              "      <th>41</th>\n",
              "      <td>IV</td>\n",
              "      <td>8.0</td>\n",
              "      <td>5.56</td>\n",
              "    </tr>\n",
              "    <tr>\n",
              "      <th>34</th>\n",
              "      <td>IV</td>\n",
              "      <td>8.0</td>\n",
              "      <td>5.76</td>\n",
              "    </tr>\n",
              "    <tr>\n",
              "      <th>25</th>\n",
              "      <td>III</td>\n",
              "      <td>9.0</td>\n",
              "      <td>7.11</td>\n",
              "    </tr>\n",
              "    <tr>\n",
              "      <th>14</th>\n",
              "      <td>II</td>\n",
              "      <td>9.0</td>\n",
              "      <td>8.77</td>\n",
              "    </tr>\n",
              "    <tr>\n",
              "      <th>3</th>\n",
              "      <td>I</td>\n",
              "      <td>9.0</td>\n",
              "      <td>8.81</td>\n",
              "    </tr>\n",
              "    <tr>\n",
              "      <th>0</th>\n",
              "      <td>I</td>\n",
              "      <td>10.0</td>\n",
              "      <td>8.04</td>\n",
              "    </tr>\n",
              "    <tr>\n",
              "      <th>22</th>\n",
              "      <td>III</td>\n",
              "      <td>10.0</td>\n",
              "      <td>7.46</td>\n",
              "    </tr>\n",
              "    <tr>\n",
              "      <th>11</th>\n",
              "      <td>II</td>\n",
              "      <td>10.0</td>\n",
              "      <td>9.14</td>\n",
              "    </tr>\n",
              "    <tr>\n",
              "      <th>15</th>\n",
              "      <td>II</td>\n",
              "      <td>11.0</td>\n",
              "      <td>9.26</td>\n",
              "    </tr>\n",
              "    <tr>\n",
              "      <th>4</th>\n",
              "      <td>I</td>\n",
              "      <td>11.0</td>\n",
              "      <td>8.33</td>\n",
              "    </tr>\n",
              "    <tr>\n",
              "      <th>26</th>\n",
              "      <td>III</td>\n",
              "      <td>11.0</td>\n",
              "      <td>7.81</td>\n",
              "    </tr>\n",
              "    <tr>\n",
              "      <th>8</th>\n",
              "      <td>I</td>\n",
              "      <td>12.0</td>\n",
              "      <td>10.84</td>\n",
              "    </tr>\n",
              "    <tr>\n",
              "      <th>30</th>\n",
              "      <td>III</td>\n",
              "      <td>12.0</td>\n",
              "      <td>8.15</td>\n",
              "    </tr>\n",
              "    <tr>\n",
              "      <th>19</th>\n",
              "      <td>II</td>\n",
              "      <td>12.0</td>\n",
              "      <td>9.13</td>\n",
              "    </tr>\n",
              "    <tr>\n",
              "      <th>2</th>\n",
              "      <td>I</td>\n",
              "      <td>13.0</td>\n",
              "      <td>7.58</td>\n",
              "    </tr>\n",
              "    <tr>\n",
              "      <th>13</th>\n",
              "      <td>II</td>\n",
              "      <td>13.0</td>\n",
              "      <td>8.74</td>\n",
              "    </tr>\n",
              "    <tr>\n",
              "      <th>24</th>\n",
              "      <td>III</td>\n",
              "      <td>13.0</td>\n",
              "      <td>12.74</td>\n",
              "    </tr>\n",
              "    <tr>\n",
              "      <th>27</th>\n",
              "      <td>III</td>\n",
              "      <td>14.0</td>\n",
              "      <td>8.84</td>\n",
              "    </tr>\n",
              "    <tr>\n",
              "      <th>16</th>\n",
              "      <td>II</td>\n",
              "      <td>14.0</td>\n",
              "      <td>8.10</td>\n",
              "    </tr>\n",
              "    <tr>\n",
              "      <th>5</th>\n",
              "      <td>I</td>\n",
              "      <td>14.0</td>\n",
              "      <td>9.96</td>\n",
              "    </tr>\n",
              "    <tr>\n",
              "      <th>40</th>\n",
              "      <td>IV</td>\n",
              "      <td>19.0</td>\n",
              "      <td>12.50</td>\n",
              "    </tr>\n",
              "  </tbody>\n",
              "</table>\n",
              "</div>\n",
              "    <div class=\"colab-df-buttons\">\n",
              "\n",
              "  <div class=\"colab-df-container\">\n",
              "    <button class=\"colab-df-convert\" onclick=\"convertToInteractive('df-4825ffe1-911a-4426-89f0-2e620ce8f1ee')\"\n",
              "            title=\"Convert this dataframe to an interactive table.\"\n",
              "            style=\"display:none;\">\n",
              "\n",
              "  <svg xmlns=\"http://www.w3.org/2000/svg\" height=\"24px\" viewBox=\"0 -960 960 960\">\n",
              "    <path d=\"M120-120v-720h720v720H120Zm60-500h600v-160H180v160Zm220 220h160v-160H400v160Zm0 220h160v-160H400v160ZM180-400h160v-160H180v160Zm440 0h160v-160H620v160ZM180-180h160v-160H180v160Zm440 0h160v-160H620v160Z\"/>\n",
              "  </svg>\n",
              "    </button>\n",
              "\n",
              "  <style>\n",
              "    .colab-df-container {\n",
              "      display:flex;\n",
              "      gap: 12px;\n",
              "    }\n",
              "\n",
              "    .colab-df-convert {\n",
              "      background-color: #E8F0FE;\n",
              "      border: none;\n",
              "      border-radius: 50%;\n",
              "      cursor: pointer;\n",
              "      display: none;\n",
              "      fill: #1967D2;\n",
              "      height: 32px;\n",
              "      padding: 0 0 0 0;\n",
              "      width: 32px;\n",
              "    }\n",
              "\n",
              "    .colab-df-convert:hover {\n",
              "      background-color: #E2EBFA;\n",
              "      box-shadow: 0px 1px 2px rgba(60, 64, 67, 0.3), 0px 1px 3px 1px rgba(60, 64, 67, 0.15);\n",
              "      fill: #174EA6;\n",
              "    }\n",
              "\n",
              "    .colab-df-buttons div {\n",
              "      margin-bottom: 4px;\n",
              "    }\n",
              "\n",
              "    [theme=dark] .colab-df-convert {\n",
              "      background-color: #3B4455;\n",
              "      fill: #D2E3FC;\n",
              "    }\n",
              "\n",
              "    [theme=dark] .colab-df-convert:hover {\n",
              "      background-color: #434B5C;\n",
              "      box-shadow: 0px 1px 3px 1px rgba(0, 0, 0, 0.15);\n",
              "      filter: drop-shadow(0px 1px 2px rgba(0, 0, 0, 0.3));\n",
              "      fill: #FFFFFF;\n",
              "    }\n",
              "  </style>\n",
              "\n",
              "    <script>\n",
              "      const buttonEl =\n",
              "        document.querySelector('#df-4825ffe1-911a-4426-89f0-2e620ce8f1ee button.colab-df-convert');\n",
              "      buttonEl.style.display =\n",
              "        google.colab.kernel.accessAllowed ? 'block' : 'none';\n",
              "\n",
              "      async function convertToInteractive(key) {\n",
              "        const element = document.querySelector('#df-4825ffe1-911a-4426-89f0-2e620ce8f1ee');\n",
              "        const dataTable =\n",
              "          await google.colab.kernel.invokeFunction('convertToInteractive',\n",
              "                                                    [key], {});\n",
              "        if (!dataTable) return;\n",
              "\n",
              "        const docLinkHtml = 'Like what you see? Visit the ' +\n",
              "          '<a target=\"_blank\" href=https://colab.research.google.com/notebooks/data_table.ipynb>data table notebook</a>'\n",
              "          + ' to learn more about interactive tables.';\n",
              "        element.innerHTML = '';\n",
              "        dataTable['output_type'] = 'display_data';\n",
              "        await google.colab.output.renderOutput(dataTable, element);\n",
              "        const docLink = document.createElement('div');\n",
              "        docLink.innerHTML = docLinkHtml;\n",
              "        element.appendChild(docLink);\n",
              "      }\n",
              "    </script>\n",
              "  </div>\n",
              "\n",
              "\n",
              "<div id=\"df-2dfb4e0e-d973-4e5f-8283-a9a9adfd4573\">\n",
              "  <button class=\"colab-df-quickchart\" onclick=\"quickchart('df-2dfb4e0e-d973-4e5f-8283-a9a9adfd4573')\"\n",
              "            title=\"Suggest charts\"\n",
              "            style=\"display:none;\">\n",
              "\n",
              "<svg xmlns=\"http://www.w3.org/2000/svg\" height=\"24px\"viewBox=\"0 0 24 24\"\n",
              "     width=\"24px\">\n",
              "    <g>\n",
              "        <path d=\"M19 3H5c-1.1 0-2 .9-2 2v14c0 1.1.9 2 2 2h14c1.1 0 2-.9 2-2V5c0-1.1-.9-2-2-2zM9 17H7v-7h2v7zm4 0h-2V7h2v10zm4 0h-2v-4h2v4z\"/>\n",
              "    </g>\n",
              "</svg>\n",
              "  </button>\n",
              "\n",
              "<style>\n",
              "  .colab-df-quickchart {\n",
              "      --bg-color: #E8F0FE;\n",
              "      --fill-color: #1967D2;\n",
              "      --hover-bg-color: #E2EBFA;\n",
              "      --hover-fill-color: #174EA6;\n",
              "      --disabled-fill-color: #AAA;\n",
              "      --disabled-bg-color: #DDD;\n",
              "  }\n",
              "\n",
              "  [theme=dark] .colab-df-quickchart {\n",
              "      --bg-color: #3B4455;\n",
              "      --fill-color: #D2E3FC;\n",
              "      --hover-bg-color: #434B5C;\n",
              "      --hover-fill-color: #FFFFFF;\n",
              "      --disabled-bg-color: #3B4455;\n",
              "      --disabled-fill-color: #666;\n",
              "  }\n",
              "\n",
              "  .colab-df-quickchart {\n",
              "    background-color: var(--bg-color);\n",
              "    border: none;\n",
              "    border-radius: 50%;\n",
              "    cursor: pointer;\n",
              "    display: none;\n",
              "    fill: var(--fill-color);\n",
              "    height: 32px;\n",
              "    padding: 0;\n",
              "    width: 32px;\n",
              "  }\n",
              "\n",
              "  .colab-df-quickchart:hover {\n",
              "    background-color: var(--hover-bg-color);\n",
              "    box-shadow: 0 1px 2px rgba(60, 64, 67, 0.3), 0 1px 3px 1px rgba(60, 64, 67, 0.15);\n",
              "    fill: var(--button-hover-fill-color);\n",
              "  }\n",
              "\n",
              "  .colab-df-quickchart-complete:disabled,\n",
              "  .colab-df-quickchart-complete:disabled:hover {\n",
              "    background-color: var(--disabled-bg-color);\n",
              "    fill: var(--disabled-fill-color);\n",
              "    box-shadow: none;\n",
              "  }\n",
              "\n",
              "  .colab-df-spinner {\n",
              "    border: 2px solid var(--fill-color);\n",
              "    border-color: transparent;\n",
              "    border-bottom-color: var(--fill-color);\n",
              "    animation:\n",
              "      spin 1s steps(1) infinite;\n",
              "  }\n",
              "\n",
              "  @keyframes spin {\n",
              "    0% {\n",
              "      border-color: transparent;\n",
              "      border-bottom-color: var(--fill-color);\n",
              "      border-left-color: var(--fill-color);\n",
              "    }\n",
              "    20% {\n",
              "      border-color: transparent;\n",
              "      border-left-color: var(--fill-color);\n",
              "      border-top-color: var(--fill-color);\n",
              "    }\n",
              "    30% {\n",
              "      border-color: transparent;\n",
              "      border-left-color: var(--fill-color);\n",
              "      border-top-color: var(--fill-color);\n",
              "      border-right-color: var(--fill-color);\n",
              "    }\n",
              "    40% {\n",
              "      border-color: transparent;\n",
              "      border-right-color: var(--fill-color);\n",
              "      border-top-color: var(--fill-color);\n",
              "    }\n",
              "    60% {\n",
              "      border-color: transparent;\n",
              "      border-right-color: var(--fill-color);\n",
              "    }\n",
              "    80% {\n",
              "      border-color: transparent;\n",
              "      border-right-color: var(--fill-color);\n",
              "      border-bottom-color: var(--fill-color);\n",
              "    }\n",
              "    90% {\n",
              "      border-color: transparent;\n",
              "      border-bottom-color: var(--fill-color);\n",
              "    }\n",
              "  }\n",
              "</style>\n",
              "\n",
              "  <script>\n",
              "    async function quickchart(key) {\n",
              "      const quickchartButtonEl =\n",
              "        document.querySelector('#' + key + ' button');\n",
              "      quickchartButtonEl.disabled = true;  // To prevent multiple clicks.\n",
              "      quickchartButtonEl.classList.add('colab-df-spinner');\n",
              "      try {\n",
              "        const charts = await google.colab.kernel.invokeFunction(\n",
              "            'suggestCharts', [key], {});\n",
              "      } catch (error) {\n",
              "        console.error('Error during call to suggestCharts:', error);\n",
              "      }\n",
              "      quickchartButtonEl.classList.remove('colab-df-spinner');\n",
              "      quickchartButtonEl.classList.add('colab-df-quickchart-complete');\n",
              "    }\n",
              "    (() => {\n",
              "      let quickchartButtonEl =\n",
              "        document.querySelector('#df-2dfb4e0e-d973-4e5f-8283-a9a9adfd4573 button');\n",
              "      quickchartButtonEl.style.display =\n",
              "        google.colab.kernel.accessAllowed ? 'block' : 'none';\n",
              "    })();\n",
              "  </script>\n",
              "</div>\n",
              "\n",
              "    </div>\n",
              "  </div>\n"
            ],
            "application/vnd.google.colaboratory.intrinsic+json": {
              "type": "dataframe",
              "summary": "{\n  \"name\": \"df\",\n  \"rows\": 44,\n  \"fields\": [\n    {\n      \"column\": \"dataset\",\n      \"properties\": {\n        \"dtype\": \"category\",\n        \"num_unique_values\": 4,\n        \"samples\": [\n          \"II\",\n          \"IV\",\n          \"I\"\n        ],\n        \"semantic_type\": \"\",\n        \"description\": \"\"\n      }\n    },\n    {\n      \"column\": \"x\",\n      \"properties\": {\n        \"dtype\": \"number\",\n        \"std\": 3.198836997962679,\n        \"min\": 4.0,\n        \"max\": 19.0,\n        \"num_unique_values\": 12,\n        \"samples\": [\n          14.0,\n          13.0,\n          4.0\n        ],\n        \"semantic_type\": \"\",\n        \"description\": \"\"\n      }\n    },\n    {\n      \"column\": \"y\",\n      \"properties\": {\n        \"dtype\": \"number\",\n        \"std\": 1.9589251890784192,\n        \"min\": 3.1,\n        \"max\": 12.74,\n        \"num_unique_values\": 43,\n        \"samples\": [\n          7.58,\n          5.76,\n          7.11\n        ],\n        \"semantic_type\": \"\",\n        \"description\": \"\"\n      }\n    }\n  ]\n}"
            }
          },
          "metadata": {},
          "execution_count": 65
        }
      ]
    },
    {
      "cell_type": "markdown",
      "metadata": {
        "id": "ZybtR09Gs17w"
      },
      "source": [
        "5.1 Selecting a singular column\n",
        "---\n",
        "We can also select a singular column and generate a table that only contains the *index* and the selected column. This type of table is called _\"Series\"_ ."
      ]
    },
    {
      "cell_type": "code",
      "metadata": {
        "id": "dm0M7o9ts2CH"
      },
      "source": [
        "df_X = df['x']"
      ],
      "execution_count": null,
      "outputs": []
    },
    {
      "cell_type": "code",
      "metadata": {
        "id": "P_ndg4TUx4rk",
        "colab": {
          "base_uri": "https://localhost:8080/"
        },
        "outputId": "cf979af2-c045-422c-b479-93e4da793e01"
      },
      "source": [
        "type(df_X)"
      ],
      "execution_count": null,
      "outputs": [
        {
          "output_type": "execute_result",
          "data": {
            "text/plain": [
              "pandas.core.series.Series"
            ],
            "text/html": [
              "<div style=\"max-width:800px; border: 1px solid var(--colab-border-color);\"><style>\n",
              "      pre.function-repr-contents {\n",
              "        overflow-x: auto;\n",
              "        padding: 8px 12px;\n",
              "        max-height: 500px;\n",
              "      }\n",
              "\n",
              "      pre.function-repr-contents.function-repr-contents-collapsed {\n",
              "        cursor: pointer;\n",
              "        max-height: 100px;\n",
              "      }\n",
              "    </style>\n",
              "    <pre style=\"white-space: initial; background:\n",
              "         var(--colab-secondary-surface-color); padding: 8px 12px;\n",
              "         border-bottom: 1px solid var(--colab-border-color);\"><b>pandas.core.series.Series</b><br/>def __init__(data=None, index=None, dtype: Dtype | None=None, name=None, copy: bool | None=None, fastpath: bool | lib.NoDefault=lib.no_default) -&gt; None</pre><pre class=\"function-repr-contents function-repr-contents-collapsed\" style=\"\"><a class=\"filepath\" style=\"display:none\" href=\"#\">/usr/local/lib/python3.11/dist-packages/pandas/core/series.py</a>One-dimensional ndarray with axis labels (including time series).\n",
              "\n",
              "Labels need not be unique but must be a hashable type. The object\n",
              "supports both integer- and label-based indexing and provides a host of\n",
              "methods for performing operations involving the index. Statistical\n",
              "methods from ndarray have been overridden to automatically exclude\n",
              "missing data (currently represented as NaN).\n",
              "\n",
              "Operations between Series (+, -, /, \\*, \\*\\*) align values based on their\n",
              "associated index values-- they need not be the same length. The result\n",
              "index will be the sorted union of the two indexes.\n",
              "\n",
              "Parameters\n",
              "----------\n",
              "data : array-like, Iterable, dict, or scalar value\n",
              "    Contains data stored in Series. If data is a dict, argument order is\n",
              "    maintained.\n",
              "index : array-like or Index (1d)\n",
              "    Values must be hashable and have the same length as `data`.\n",
              "    Non-unique index values are allowed. Will default to\n",
              "    RangeIndex (0, 1, 2, ..., n) if not provided. If data is dict-like\n",
              "    and index is None, then the keys in the data are used as the index. If the\n",
              "    index is not None, the resulting Series is reindexed with the index values.\n",
              "dtype : str, numpy.dtype, or ExtensionDtype, optional\n",
              "    Data type for the output Series. If not specified, this will be\n",
              "    inferred from `data`.\n",
              "    See the :ref:`user guide &lt;basics.dtypes&gt;` for more usages.\n",
              "name : Hashable, default None\n",
              "    The name to give to the Series.\n",
              "copy : bool, default False\n",
              "    Copy input data. Only affects Series or 1d ndarray input. See examples.\n",
              "\n",
              "Notes\n",
              "-----\n",
              "Please reference the :ref:`User Guide &lt;basics.series&gt;` for more information.\n",
              "\n",
              "Examples\n",
              "--------\n",
              "Constructing Series from a dictionary with an Index specified\n",
              "\n",
              "&gt;&gt;&gt; d = {&#x27;a&#x27;: 1, &#x27;b&#x27;: 2, &#x27;c&#x27;: 3}\n",
              "&gt;&gt;&gt; ser = pd.Series(data=d, index=[&#x27;a&#x27;, &#x27;b&#x27;, &#x27;c&#x27;])\n",
              "&gt;&gt;&gt; ser\n",
              "a   1\n",
              "b   2\n",
              "c   3\n",
              "dtype: int64\n",
              "\n",
              "The keys of the dictionary match with the Index values, hence the Index\n",
              "values have no effect.\n",
              "\n",
              "&gt;&gt;&gt; d = {&#x27;a&#x27;: 1, &#x27;b&#x27;: 2, &#x27;c&#x27;: 3}\n",
              "&gt;&gt;&gt; ser = pd.Series(data=d, index=[&#x27;x&#x27;, &#x27;y&#x27;, &#x27;z&#x27;])\n",
              "&gt;&gt;&gt; ser\n",
              "x   NaN\n",
              "y   NaN\n",
              "z   NaN\n",
              "dtype: float64\n",
              "\n",
              "Note that the Index is first build with the keys from the dictionary.\n",
              "After this the Series is reindexed with the given Index values, hence we\n",
              "get all NaN as a result.\n",
              "\n",
              "Constructing Series from a list with `copy=False`.\n",
              "\n",
              "&gt;&gt;&gt; r = [1, 2]\n",
              "&gt;&gt;&gt; ser = pd.Series(r, copy=False)\n",
              "&gt;&gt;&gt; ser.iloc[0] = 999\n",
              "&gt;&gt;&gt; r\n",
              "[1, 2]\n",
              "&gt;&gt;&gt; ser\n",
              "0    999\n",
              "1      2\n",
              "dtype: int64\n",
              "\n",
              "Due to input data type the Series has a `copy` of\n",
              "the original data even though `copy=False`, so\n",
              "the data is unchanged.\n",
              "\n",
              "Constructing Series from a 1d ndarray with `copy=False`.\n",
              "\n",
              "&gt;&gt;&gt; r = np.array([1, 2])\n",
              "&gt;&gt;&gt; ser = pd.Series(r, copy=False)\n",
              "&gt;&gt;&gt; ser.iloc[0] = 999\n",
              "&gt;&gt;&gt; r\n",
              "array([999,   2])\n",
              "&gt;&gt;&gt; ser\n",
              "0    999\n",
              "1      2\n",
              "dtype: int64\n",
              "\n",
              "Due to input data type the Series has a `view` on\n",
              "the original data, so\n",
              "the data is changed as well.</pre>\n",
              "      <script>\n",
              "      if (google.colab.kernel.accessAllowed && google.colab.files && google.colab.files.view) {\n",
              "        for (const element of document.querySelectorAll('.filepath')) {\n",
              "          element.style.display = 'block'\n",
              "          element.onclick = (event) => {\n",
              "            event.preventDefault();\n",
              "            event.stopPropagation();\n",
              "            google.colab.files.view(element.textContent, 263);\n",
              "          };\n",
              "        }\n",
              "      }\n",
              "      for (const element of document.querySelectorAll('.function-repr-contents')) {\n",
              "        element.onclick = (event) => {\n",
              "          event.preventDefault();\n",
              "          event.stopPropagation();\n",
              "          element.classList.toggle('function-repr-contents-collapsed');\n",
              "        };\n",
              "      }\n",
              "      </script>\n",
              "      </div>"
            ]
          },
          "metadata": {},
          "execution_count": 67
        }
      ]
    },
    {
      "cell_type": "code",
      "metadata": {
        "id": "1lCmbgPtlpzk",
        "colab": {
          "base_uri": "https://localhost:8080/"
        },
        "outputId": "4db20e11-f21a-4b56-8acc-68a6500b4bb5"
      },
      "source": [
        "df_X"
      ],
      "execution_count": null,
      "outputs": [
        {
          "output_type": "execute_result",
          "data": {
            "text/plain": [
              "0     10.0\n",
              "1      8.0\n",
              "2     13.0\n",
              "3      9.0\n",
              "4     11.0\n",
              "5     14.0\n",
              "6      6.0\n",
              "7      4.0\n",
              "8     12.0\n",
              "9      7.0\n",
              "10     5.0\n",
              "11    10.0\n",
              "12     8.0\n",
              "13    13.0\n",
              "14     9.0\n",
              "15    11.0\n",
              "16    14.0\n",
              "17     6.0\n",
              "18     4.0\n",
              "19    12.0\n",
              "20     7.0\n",
              "21     5.0\n",
              "22    10.0\n",
              "23     8.0\n",
              "24    13.0\n",
              "25     9.0\n",
              "26    11.0\n",
              "27    14.0\n",
              "28     6.0\n",
              "29     4.0\n",
              "30    12.0\n",
              "31     7.0\n",
              "32     5.0\n",
              "33     8.0\n",
              "34     8.0\n",
              "35     8.0\n",
              "36     8.0\n",
              "37     8.0\n",
              "38     8.0\n",
              "39     8.0\n",
              "40    19.0\n",
              "41     8.0\n",
              "42     8.0\n",
              "43     8.0\n",
              "Name: x, dtype: float64"
            ],
            "text/html": [
              "<div>\n",
              "<style scoped>\n",
              "    .dataframe tbody tr th:only-of-type {\n",
              "        vertical-align: middle;\n",
              "    }\n",
              "\n",
              "    .dataframe tbody tr th {\n",
              "        vertical-align: top;\n",
              "    }\n",
              "\n",
              "    .dataframe thead th {\n",
              "        text-align: right;\n",
              "    }\n",
              "</style>\n",
              "<table border=\"1\" class=\"dataframe\">\n",
              "  <thead>\n",
              "    <tr style=\"text-align: right;\">\n",
              "      <th></th>\n",
              "      <th>x</th>\n",
              "    </tr>\n",
              "  </thead>\n",
              "  <tbody>\n",
              "    <tr>\n",
              "      <th>0</th>\n",
              "      <td>10.0</td>\n",
              "    </tr>\n",
              "    <tr>\n",
              "      <th>1</th>\n",
              "      <td>8.0</td>\n",
              "    </tr>\n",
              "    <tr>\n",
              "      <th>2</th>\n",
              "      <td>13.0</td>\n",
              "    </tr>\n",
              "    <tr>\n",
              "      <th>3</th>\n",
              "      <td>9.0</td>\n",
              "    </tr>\n",
              "    <tr>\n",
              "      <th>4</th>\n",
              "      <td>11.0</td>\n",
              "    </tr>\n",
              "    <tr>\n",
              "      <th>5</th>\n",
              "      <td>14.0</td>\n",
              "    </tr>\n",
              "    <tr>\n",
              "      <th>6</th>\n",
              "      <td>6.0</td>\n",
              "    </tr>\n",
              "    <tr>\n",
              "      <th>7</th>\n",
              "      <td>4.0</td>\n",
              "    </tr>\n",
              "    <tr>\n",
              "      <th>8</th>\n",
              "      <td>12.0</td>\n",
              "    </tr>\n",
              "    <tr>\n",
              "      <th>9</th>\n",
              "      <td>7.0</td>\n",
              "    </tr>\n",
              "    <tr>\n",
              "      <th>10</th>\n",
              "      <td>5.0</td>\n",
              "    </tr>\n",
              "    <tr>\n",
              "      <th>11</th>\n",
              "      <td>10.0</td>\n",
              "    </tr>\n",
              "    <tr>\n",
              "      <th>12</th>\n",
              "      <td>8.0</td>\n",
              "    </tr>\n",
              "    <tr>\n",
              "      <th>13</th>\n",
              "      <td>13.0</td>\n",
              "    </tr>\n",
              "    <tr>\n",
              "      <th>14</th>\n",
              "      <td>9.0</td>\n",
              "    </tr>\n",
              "    <tr>\n",
              "      <th>15</th>\n",
              "      <td>11.0</td>\n",
              "    </tr>\n",
              "    <tr>\n",
              "      <th>16</th>\n",
              "      <td>14.0</td>\n",
              "    </tr>\n",
              "    <tr>\n",
              "      <th>17</th>\n",
              "      <td>6.0</td>\n",
              "    </tr>\n",
              "    <tr>\n",
              "      <th>18</th>\n",
              "      <td>4.0</td>\n",
              "    </tr>\n",
              "    <tr>\n",
              "      <th>19</th>\n",
              "      <td>12.0</td>\n",
              "    </tr>\n",
              "    <tr>\n",
              "      <th>20</th>\n",
              "      <td>7.0</td>\n",
              "    </tr>\n",
              "    <tr>\n",
              "      <th>21</th>\n",
              "      <td>5.0</td>\n",
              "    </tr>\n",
              "    <tr>\n",
              "      <th>22</th>\n",
              "      <td>10.0</td>\n",
              "    </tr>\n",
              "    <tr>\n",
              "      <th>23</th>\n",
              "      <td>8.0</td>\n",
              "    </tr>\n",
              "    <tr>\n",
              "      <th>24</th>\n",
              "      <td>13.0</td>\n",
              "    </tr>\n",
              "    <tr>\n",
              "      <th>25</th>\n",
              "      <td>9.0</td>\n",
              "    </tr>\n",
              "    <tr>\n",
              "      <th>26</th>\n",
              "      <td>11.0</td>\n",
              "    </tr>\n",
              "    <tr>\n",
              "      <th>27</th>\n",
              "      <td>14.0</td>\n",
              "    </tr>\n",
              "    <tr>\n",
              "      <th>28</th>\n",
              "      <td>6.0</td>\n",
              "    </tr>\n",
              "    <tr>\n",
              "      <th>29</th>\n",
              "      <td>4.0</td>\n",
              "    </tr>\n",
              "    <tr>\n",
              "      <th>30</th>\n",
              "      <td>12.0</td>\n",
              "    </tr>\n",
              "    <tr>\n",
              "      <th>31</th>\n",
              "      <td>7.0</td>\n",
              "    </tr>\n",
              "    <tr>\n",
              "      <th>32</th>\n",
              "      <td>5.0</td>\n",
              "    </tr>\n",
              "    <tr>\n",
              "      <th>33</th>\n",
              "      <td>8.0</td>\n",
              "    </tr>\n",
              "    <tr>\n",
              "      <th>34</th>\n",
              "      <td>8.0</td>\n",
              "    </tr>\n",
              "    <tr>\n",
              "      <th>35</th>\n",
              "      <td>8.0</td>\n",
              "    </tr>\n",
              "    <tr>\n",
              "      <th>36</th>\n",
              "      <td>8.0</td>\n",
              "    </tr>\n",
              "    <tr>\n",
              "      <th>37</th>\n",
              "      <td>8.0</td>\n",
              "    </tr>\n",
              "    <tr>\n",
              "      <th>38</th>\n",
              "      <td>8.0</td>\n",
              "    </tr>\n",
              "    <tr>\n",
              "      <th>39</th>\n",
              "      <td>8.0</td>\n",
              "    </tr>\n",
              "    <tr>\n",
              "      <th>40</th>\n",
              "      <td>19.0</td>\n",
              "    </tr>\n",
              "    <tr>\n",
              "      <th>41</th>\n",
              "      <td>8.0</td>\n",
              "    </tr>\n",
              "    <tr>\n",
              "      <th>42</th>\n",
              "      <td>8.0</td>\n",
              "    </tr>\n",
              "    <tr>\n",
              "      <th>43</th>\n",
              "      <td>8.0</td>\n",
              "    </tr>\n",
              "  </tbody>\n",
              "</table>\n",
              "</div><br><label><b>dtype:</b> float64</label>"
            ]
          },
          "metadata": {},
          "execution_count": 68
        }
      ]
    },
    {
      "cell_type": "markdown",
      "metadata": {
        "id": "FJ_QGQmStz4C"
      },
      "source": [
        "We can also select a range of rows according to its index."
      ]
    },
    {
      "cell_type": "code",
      "metadata": {
        "id": "q7j0TV9ot0AI",
        "colab": {
          "base_uri": "https://localhost:8080/"
        },
        "outputId": "735ebb08-7e02-414b-b8af-eee0b9723482"
      },
      "source": [
        "# Remember the index starts at 0\n",
        "df[0:3]"
      ],
      "execution_count": null,
      "outputs": [
        {
          "output_type": "execute_result",
          "data": {
            "text/plain": [
              "  dataset     x     y\n",
              "0       I  10.0  8.04\n",
              "1       I   8.0  6.95\n",
              "2       I  13.0  7.58"
            ],
            "text/html": [
              "\n",
              "  <div id=\"df-26a2e652-2702-41a1-b2a5-2f6241dbbe43\" class=\"colab-df-container\">\n",
              "    <div>\n",
              "<style scoped>\n",
              "    .dataframe tbody tr th:only-of-type {\n",
              "        vertical-align: middle;\n",
              "    }\n",
              "\n",
              "    .dataframe tbody tr th {\n",
              "        vertical-align: top;\n",
              "    }\n",
              "\n",
              "    .dataframe thead th {\n",
              "        text-align: right;\n",
              "    }\n",
              "</style>\n",
              "<table border=\"1\" class=\"dataframe\">\n",
              "  <thead>\n",
              "    <tr style=\"text-align: right;\">\n",
              "      <th></th>\n",
              "      <th>dataset</th>\n",
              "      <th>x</th>\n",
              "      <th>y</th>\n",
              "    </tr>\n",
              "  </thead>\n",
              "  <tbody>\n",
              "    <tr>\n",
              "      <th>0</th>\n",
              "      <td>I</td>\n",
              "      <td>10.0</td>\n",
              "      <td>8.04</td>\n",
              "    </tr>\n",
              "    <tr>\n",
              "      <th>1</th>\n",
              "      <td>I</td>\n",
              "      <td>8.0</td>\n",
              "      <td>6.95</td>\n",
              "    </tr>\n",
              "    <tr>\n",
              "      <th>2</th>\n",
              "      <td>I</td>\n",
              "      <td>13.0</td>\n",
              "      <td>7.58</td>\n",
              "    </tr>\n",
              "  </tbody>\n",
              "</table>\n",
              "</div>\n",
              "    <div class=\"colab-df-buttons\">\n",
              "\n",
              "  <div class=\"colab-df-container\">\n",
              "    <button class=\"colab-df-convert\" onclick=\"convertToInteractive('df-26a2e652-2702-41a1-b2a5-2f6241dbbe43')\"\n",
              "            title=\"Convert this dataframe to an interactive table.\"\n",
              "            style=\"display:none;\">\n",
              "\n",
              "  <svg xmlns=\"http://www.w3.org/2000/svg\" height=\"24px\" viewBox=\"0 -960 960 960\">\n",
              "    <path d=\"M120-120v-720h720v720H120Zm60-500h600v-160H180v160Zm220 220h160v-160H400v160Zm0 220h160v-160H400v160ZM180-400h160v-160H180v160Zm440 0h160v-160H620v160ZM180-180h160v-160H180v160Zm440 0h160v-160H620v160Z\"/>\n",
              "  </svg>\n",
              "    </button>\n",
              "\n",
              "  <style>\n",
              "    .colab-df-container {\n",
              "      display:flex;\n",
              "      gap: 12px;\n",
              "    }\n",
              "\n",
              "    .colab-df-convert {\n",
              "      background-color: #E8F0FE;\n",
              "      border: none;\n",
              "      border-radius: 50%;\n",
              "      cursor: pointer;\n",
              "      display: none;\n",
              "      fill: #1967D2;\n",
              "      height: 32px;\n",
              "      padding: 0 0 0 0;\n",
              "      width: 32px;\n",
              "    }\n",
              "\n",
              "    .colab-df-convert:hover {\n",
              "      background-color: #E2EBFA;\n",
              "      box-shadow: 0px 1px 2px rgba(60, 64, 67, 0.3), 0px 1px 3px 1px rgba(60, 64, 67, 0.15);\n",
              "      fill: #174EA6;\n",
              "    }\n",
              "\n",
              "    .colab-df-buttons div {\n",
              "      margin-bottom: 4px;\n",
              "    }\n",
              "\n",
              "    [theme=dark] .colab-df-convert {\n",
              "      background-color: #3B4455;\n",
              "      fill: #D2E3FC;\n",
              "    }\n",
              "\n",
              "    [theme=dark] .colab-df-convert:hover {\n",
              "      background-color: #434B5C;\n",
              "      box-shadow: 0px 1px 3px 1px rgba(0, 0, 0, 0.15);\n",
              "      filter: drop-shadow(0px 1px 2px rgba(0, 0, 0, 0.3));\n",
              "      fill: #FFFFFF;\n",
              "    }\n",
              "  </style>\n",
              "\n",
              "    <script>\n",
              "      const buttonEl =\n",
              "        document.querySelector('#df-26a2e652-2702-41a1-b2a5-2f6241dbbe43 button.colab-df-convert');\n",
              "      buttonEl.style.display =\n",
              "        google.colab.kernel.accessAllowed ? 'block' : 'none';\n",
              "\n",
              "      async function convertToInteractive(key) {\n",
              "        const element = document.querySelector('#df-26a2e652-2702-41a1-b2a5-2f6241dbbe43');\n",
              "        const dataTable =\n",
              "          await google.colab.kernel.invokeFunction('convertToInteractive',\n",
              "                                                    [key], {});\n",
              "        if (!dataTable) return;\n",
              "\n",
              "        const docLinkHtml = 'Like what you see? Visit the ' +\n",
              "          '<a target=\"_blank\" href=https://colab.research.google.com/notebooks/data_table.ipynb>data table notebook</a>'\n",
              "          + ' to learn more about interactive tables.';\n",
              "        element.innerHTML = '';\n",
              "        dataTable['output_type'] = 'display_data';\n",
              "        await google.colab.output.renderOutput(dataTable, element);\n",
              "        const docLink = document.createElement('div');\n",
              "        docLink.innerHTML = docLinkHtml;\n",
              "        element.appendChild(docLink);\n",
              "      }\n",
              "    </script>\n",
              "  </div>\n",
              "\n",
              "\n",
              "<div id=\"df-61e76198-4e30-4938-b323-2d48aa5f86de\">\n",
              "  <button class=\"colab-df-quickchart\" onclick=\"quickchart('df-61e76198-4e30-4938-b323-2d48aa5f86de')\"\n",
              "            title=\"Suggest charts\"\n",
              "            style=\"display:none;\">\n",
              "\n",
              "<svg xmlns=\"http://www.w3.org/2000/svg\" height=\"24px\"viewBox=\"0 0 24 24\"\n",
              "     width=\"24px\">\n",
              "    <g>\n",
              "        <path d=\"M19 3H5c-1.1 0-2 .9-2 2v14c0 1.1.9 2 2 2h14c1.1 0 2-.9 2-2V5c0-1.1-.9-2-2-2zM9 17H7v-7h2v7zm4 0h-2V7h2v10zm4 0h-2v-4h2v4z\"/>\n",
              "    </g>\n",
              "</svg>\n",
              "  </button>\n",
              "\n",
              "<style>\n",
              "  .colab-df-quickchart {\n",
              "      --bg-color: #E8F0FE;\n",
              "      --fill-color: #1967D2;\n",
              "      --hover-bg-color: #E2EBFA;\n",
              "      --hover-fill-color: #174EA6;\n",
              "      --disabled-fill-color: #AAA;\n",
              "      --disabled-bg-color: #DDD;\n",
              "  }\n",
              "\n",
              "  [theme=dark] .colab-df-quickchart {\n",
              "      --bg-color: #3B4455;\n",
              "      --fill-color: #D2E3FC;\n",
              "      --hover-bg-color: #434B5C;\n",
              "      --hover-fill-color: #FFFFFF;\n",
              "      --disabled-bg-color: #3B4455;\n",
              "      --disabled-fill-color: #666;\n",
              "  }\n",
              "\n",
              "  .colab-df-quickchart {\n",
              "    background-color: var(--bg-color);\n",
              "    border: none;\n",
              "    border-radius: 50%;\n",
              "    cursor: pointer;\n",
              "    display: none;\n",
              "    fill: var(--fill-color);\n",
              "    height: 32px;\n",
              "    padding: 0;\n",
              "    width: 32px;\n",
              "  }\n",
              "\n",
              "  .colab-df-quickchart:hover {\n",
              "    background-color: var(--hover-bg-color);\n",
              "    box-shadow: 0 1px 2px rgba(60, 64, 67, 0.3), 0 1px 3px 1px rgba(60, 64, 67, 0.15);\n",
              "    fill: var(--button-hover-fill-color);\n",
              "  }\n",
              "\n",
              "  .colab-df-quickchart-complete:disabled,\n",
              "  .colab-df-quickchart-complete:disabled:hover {\n",
              "    background-color: var(--disabled-bg-color);\n",
              "    fill: var(--disabled-fill-color);\n",
              "    box-shadow: none;\n",
              "  }\n",
              "\n",
              "  .colab-df-spinner {\n",
              "    border: 2px solid var(--fill-color);\n",
              "    border-color: transparent;\n",
              "    border-bottom-color: var(--fill-color);\n",
              "    animation:\n",
              "      spin 1s steps(1) infinite;\n",
              "  }\n",
              "\n",
              "  @keyframes spin {\n",
              "    0% {\n",
              "      border-color: transparent;\n",
              "      border-bottom-color: var(--fill-color);\n",
              "      border-left-color: var(--fill-color);\n",
              "    }\n",
              "    20% {\n",
              "      border-color: transparent;\n",
              "      border-left-color: var(--fill-color);\n",
              "      border-top-color: var(--fill-color);\n",
              "    }\n",
              "    30% {\n",
              "      border-color: transparent;\n",
              "      border-left-color: var(--fill-color);\n",
              "      border-top-color: var(--fill-color);\n",
              "      border-right-color: var(--fill-color);\n",
              "    }\n",
              "    40% {\n",
              "      border-color: transparent;\n",
              "      border-right-color: var(--fill-color);\n",
              "      border-top-color: var(--fill-color);\n",
              "    }\n",
              "    60% {\n",
              "      border-color: transparent;\n",
              "      border-right-color: var(--fill-color);\n",
              "    }\n",
              "    80% {\n",
              "      border-color: transparent;\n",
              "      border-right-color: var(--fill-color);\n",
              "      border-bottom-color: var(--fill-color);\n",
              "    }\n",
              "    90% {\n",
              "      border-color: transparent;\n",
              "      border-bottom-color: var(--fill-color);\n",
              "    }\n",
              "  }\n",
              "</style>\n",
              "\n",
              "  <script>\n",
              "    async function quickchart(key) {\n",
              "      const quickchartButtonEl =\n",
              "        document.querySelector('#' + key + ' button');\n",
              "      quickchartButtonEl.disabled = true;  // To prevent multiple clicks.\n",
              "      quickchartButtonEl.classList.add('colab-df-spinner');\n",
              "      try {\n",
              "        const charts = await google.colab.kernel.invokeFunction(\n",
              "            'suggestCharts', [key], {});\n",
              "      } catch (error) {\n",
              "        console.error('Error during call to suggestCharts:', error);\n",
              "      }\n",
              "      quickchartButtonEl.classList.remove('colab-df-spinner');\n",
              "      quickchartButtonEl.classList.add('colab-df-quickchart-complete');\n",
              "    }\n",
              "    (() => {\n",
              "      let quickchartButtonEl =\n",
              "        document.querySelector('#df-61e76198-4e30-4938-b323-2d48aa5f86de button');\n",
              "      quickchartButtonEl.style.display =\n",
              "        google.colab.kernel.accessAllowed ? 'block' : 'none';\n",
              "    })();\n",
              "  </script>\n",
              "</div>\n",
              "\n",
              "    </div>\n",
              "  </div>\n"
            ],
            "application/vnd.google.colaboratory.intrinsic+json": {
              "type": "dataframe",
              "summary": "{\n  \"name\": \"df[0:3]\",\n  \"rows\": 3,\n  \"fields\": [\n    {\n      \"column\": \"dataset\",\n      \"properties\": {\n        \"dtype\": \"category\",\n        \"num_unique_values\": 1,\n        \"samples\": [\n          \"I\"\n        ],\n        \"semantic_type\": \"\",\n        \"description\": \"\"\n      }\n    },\n    {\n      \"column\": \"x\",\n      \"properties\": {\n        \"dtype\": \"number\",\n        \"std\": 2.5166114784235836,\n        \"min\": 8.0,\n        \"max\": 13.0,\n        \"num_unique_values\": 3,\n        \"samples\": [\n          10.0\n        ],\n        \"semantic_type\": \"\",\n        \"description\": \"\"\n      }\n    },\n    {\n      \"column\": \"y\",\n      \"properties\": {\n        \"dtype\": \"number\",\n        \"std\": 0.5472050194701551,\n        \"min\": 6.95,\n        \"max\": 8.04,\n        \"num_unique_values\": 3,\n        \"samples\": [\n          8.04\n        ],\n        \"semantic_type\": \"\",\n        \"description\": \"\"\n      }\n    }\n  ]\n}"
            }
          },
          "metadata": {},
          "execution_count": 69
        }
      ]
    },
    {
      "cell_type": "markdown",
      "metadata": {
        "id": "2T_LBUzBvAds"
      },
      "source": [
        "And we can combine the previous actions and select a range of rows and specific columns."
      ]
    },
    {
      "cell_type": "code",
      "metadata": {
        "id": "Mq3fjfrfvAn8",
        "colab": {
          "base_uri": "https://localhost:8080/"
        },
        "outputId": "de00e91e-2a7f-4264-85e9-5efeea4b0c62"
      },
      "source": [
        "df.loc[5:9, ['x', 'y']]"
      ],
      "execution_count": null,
      "outputs": [
        {
          "output_type": "execute_result",
          "data": {
            "text/plain": [
              "      x      y\n",
              "5  14.0   9.96\n",
              "6   6.0   7.24\n",
              "7   4.0   4.26\n",
              "8  12.0  10.84\n",
              "9   7.0   4.82"
            ],
            "text/html": [
              "\n",
              "  <div id=\"df-6939df0c-f7e8-446f-bedc-4d5f21265544\" class=\"colab-df-container\">\n",
              "    <div>\n",
              "<style scoped>\n",
              "    .dataframe tbody tr th:only-of-type {\n",
              "        vertical-align: middle;\n",
              "    }\n",
              "\n",
              "    .dataframe tbody tr th {\n",
              "        vertical-align: top;\n",
              "    }\n",
              "\n",
              "    .dataframe thead th {\n",
              "        text-align: right;\n",
              "    }\n",
              "</style>\n",
              "<table border=\"1\" class=\"dataframe\">\n",
              "  <thead>\n",
              "    <tr style=\"text-align: right;\">\n",
              "      <th></th>\n",
              "      <th>x</th>\n",
              "      <th>y</th>\n",
              "    </tr>\n",
              "  </thead>\n",
              "  <tbody>\n",
              "    <tr>\n",
              "      <th>5</th>\n",
              "      <td>14.0</td>\n",
              "      <td>9.96</td>\n",
              "    </tr>\n",
              "    <tr>\n",
              "      <th>6</th>\n",
              "      <td>6.0</td>\n",
              "      <td>7.24</td>\n",
              "    </tr>\n",
              "    <tr>\n",
              "      <th>7</th>\n",
              "      <td>4.0</td>\n",
              "      <td>4.26</td>\n",
              "    </tr>\n",
              "    <tr>\n",
              "      <th>8</th>\n",
              "      <td>12.0</td>\n",
              "      <td>10.84</td>\n",
              "    </tr>\n",
              "    <tr>\n",
              "      <th>9</th>\n",
              "      <td>7.0</td>\n",
              "      <td>4.82</td>\n",
              "    </tr>\n",
              "  </tbody>\n",
              "</table>\n",
              "</div>\n",
              "    <div class=\"colab-df-buttons\">\n",
              "\n",
              "  <div class=\"colab-df-container\">\n",
              "    <button class=\"colab-df-convert\" onclick=\"convertToInteractive('df-6939df0c-f7e8-446f-bedc-4d5f21265544')\"\n",
              "            title=\"Convert this dataframe to an interactive table.\"\n",
              "            style=\"display:none;\">\n",
              "\n",
              "  <svg xmlns=\"http://www.w3.org/2000/svg\" height=\"24px\" viewBox=\"0 -960 960 960\">\n",
              "    <path d=\"M120-120v-720h720v720H120Zm60-500h600v-160H180v160Zm220 220h160v-160H400v160Zm0 220h160v-160H400v160ZM180-400h160v-160H180v160Zm440 0h160v-160H620v160ZM180-180h160v-160H180v160Zm440 0h160v-160H620v160Z\"/>\n",
              "  </svg>\n",
              "    </button>\n",
              "\n",
              "  <style>\n",
              "    .colab-df-container {\n",
              "      display:flex;\n",
              "      gap: 12px;\n",
              "    }\n",
              "\n",
              "    .colab-df-convert {\n",
              "      background-color: #E8F0FE;\n",
              "      border: none;\n",
              "      border-radius: 50%;\n",
              "      cursor: pointer;\n",
              "      display: none;\n",
              "      fill: #1967D2;\n",
              "      height: 32px;\n",
              "      padding: 0 0 0 0;\n",
              "      width: 32px;\n",
              "    }\n",
              "\n",
              "    .colab-df-convert:hover {\n",
              "      background-color: #E2EBFA;\n",
              "      box-shadow: 0px 1px 2px rgba(60, 64, 67, 0.3), 0px 1px 3px 1px rgba(60, 64, 67, 0.15);\n",
              "      fill: #174EA6;\n",
              "    }\n",
              "\n",
              "    .colab-df-buttons div {\n",
              "      margin-bottom: 4px;\n",
              "    }\n",
              "\n",
              "    [theme=dark] .colab-df-convert {\n",
              "      background-color: #3B4455;\n",
              "      fill: #D2E3FC;\n",
              "    }\n",
              "\n",
              "    [theme=dark] .colab-df-convert:hover {\n",
              "      background-color: #434B5C;\n",
              "      box-shadow: 0px 1px 3px 1px rgba(0, 0, 0, 0.15);\n",
              "      filter: drop-shadow(0px 1px 2px rgba(0, 0, 0, 0.3));\n",
              "      fill: #FFFFFF;\n",
              "    }\n",
              "  </style>\n",
              "\n",
              "    <script>\n",
              "      const buttonEl =\n",
              "        document.querySelector('#df-6939df0c-f7e8-446f-bedc-4d5f21265544 button.colab-df-convert');\n",
              "      buttonEl.style.display =\n",
              "        google.colab.kernel.accessAllowed ? 'block' : 'none';\n",
              "\n",
              "      async function convertToInteractive(key) {\n",
              "        const element = document.querySelector('#df-6939df0c-f7e8-446f-bedc-4d5f21265544');\n",
              "        const dataTable =\n",
              "          await google.colab.kernel.invokeFunction('convertToInteractive',\n",
              "                                                    [key], {});\n",
              "        if (!dataTable) return;\n",
              "\n",
              "        const docLinkHtml = 'Like what you see? Visit the ' +\n",
              "          '<a target=\"_blank\" href=https://colab.research.google.com/notebooks/data_table.ipynb>data table notebook</a>'\n",
              "          + ' to learn more about interactive tables.';\n",
              "        element.innerHTML = '';\n",
              "        dataTable['output_type'] = 'display_data';\n",
              "        await google.colab.output.renderOutput(dataTable, element);\n",
              "        const docLink = document.createElement('div');\n",
              "        docLink.innerHTML = docLinkHtml;\n",
              "        element.appendChild(docLink);\n",
              "      }\n",
              "    </script>\n",
              "  </div>\n",
              "\n",
              "\n",
              "<div id=\"df-14dc8133-9e1c-465a-8f92-5c8df0947b80\">\n",
              "  <button class=\"colab-df-quickchart\" onclick=\"quickchart('df-14dc8133-9e1c-465a-8f92-5c8df0947b80')\"\n",
              "            title=\"Suggest charts\"\n",
              "            style=\"display:none;\">\n",
              "\n",
              "<svg xmlns=\"http://www.w3.org/2000/svg\" height=\"24px\"viewBox=\"0 0 24 24\"\n",
              "     width=\"24px\">\n",
              "    <g>\n",
              "        <path d=\"M19 3H5c-1.1 0-2 .9-2 2v14c0 1.1.9 2 2 2h14c1.1 0 2-.9 2-2V5c0-1.1-.9-2-2-2zM9 17H7v-7h2v7zm4 0h-2V7h2v10zm4 0h-2v-4h2v4z\"/>\n",
              "    </g>\n",
              "</svg>\n",
              "  </button>\n",
              "\n",
              "<style>\n",
              "  .colab-df-quickchart {\n",
              "      --bg-color: #E8F0FE;\n",
              "      --fill-color: #1967D2;\n",
              "      --hover-bg-color: #E2EBFA;\n",
              "      --hover-fill-color: #174EA6;\n",
              "      --disabled-fill-color: #AAA;\n",
              "      --disabled-bg-color: #DDD;\n",
              "  }\n",
              "\n",
              "  [theme=dark] .colab-df-quickchart {\n",
              "      --bg-color: #3B4455;\n",
              "      --fill-color: #D2E3FC;\n",
              "      --hover-bg-color: #434B5C;\n",
              "      --hover-fill-color: #FFFFFF;\n",
              "      --disabled-bg-color: #3B4455;\n",
              "      --disabled-fill-color: #666;\n",
              "  }\n",
              "\n",
              "  .colab-df-quickchart {\n",
              "    background-color: var(--bg-color);\n",
              "    border: none;\n",
              "    border-radius: 50%;\n",
              "    cursor: pointer;\n",
              "    display: none;\n",
              "    fill: var(--fill-color);\n",
              "    height: 32px;\n",
              "    padding: 0;\n",
              "    width: 32px;\n",
              "  }\n",
              "\n",
              "  .colab-df-quickchart:hover {\n",
              "    background-color: var(--hover-bg-color);\n",
              "    box-shadow: 0 1px 2px rgba(60, 64, 67, 0.3), 0 1px 3px 1px rgba(60, 64, 67, 0.15);\n",
              "    fill: var(--button-hover-fill-color);\n",
              "  }\n",
              "\n",
              "  .colab-df-quickchart-complete:disabled,\n",
              "  .colab-df-quickchart-complete:disabled:hover {\n",
              "    background-color: var(--disabled-bg-color);\n",
              "    fill: var(--disabled-fill-color);\n",
              "    box-shadow: none;\n",
              "  }\n",
              "\n",
              "  .colab-df-spinner {\n",
              "    border: 2px solid var(--fill-color);\n",
              "    border-color: transparent;\n",
              "    border-bottom-color: var(--fill-color);\n",
              "    animation:\n",
              "      spin 1s steps(1) infinite;\n",
              "  }\n",
              "\n",
              "  @keyframes spin {\n",
              "    0% {\n",
              "      border-color: transparent;\n",
              "      border-bottom-color: var(--fill-color);\n",
              "      border-left-color: var(--fill-color);\n",
              "    }\n",
              "    20% {\n",
              "      border-color: transparent;\n",
              "      border-left-color: var(--fill-color);\n",
              "      border-top-color: var(--fill-color);\n",
              "    }\n",
              "    30% {\n",
              "      border-color: transparent;\n",
              "      border-left-color: var(--fill-color);\n",
              "      border-top-color: var(--fill-color);\n",
              "      border-right-color: var(--fill-color);\n",
              "    }\n",
              "    40% {\n",
              "      border-color: transparent;\n",
              "      border-right-color: var(--fill-color);\n",
              "      border-top-color: var(--fill-color);\n",
              "    }\n",
              "    60% {\n",
              "      border-color: transparent;\n",
              "      border-right-color: var(--fill-color);\n",
              "    }\n",
              "    80% {\n",
              "      border-color: transparent;\n",
              "      border-right-color: var(--fill-color);\n",
              "      border-bottom-color: var(--fill-color);\n",
              "    }\n",
              "    90% {\n",
              "      border-color: transparent;\n",
              "      border-bottom-color: var(--fill-color);\n",
              "    }\n",
              "  }\n",
              "</style>\n",
              "\n",
              "  <script>\n",
              "    async function quickchart(key) {\n",
              "      const quickchartButtonEl =\n",
              "        document.querySelector('#' + key + ' button');\n",
              "      quickchartButtonEl.disabled = true;  // To prevent multiple clicks.\n",
              "      quickchartButtonEl.classList.add('colab-df-spinner');\n",
              "      try {\n",
              "        const charts = await google.colab.kernel.invokeFunction(\n",
              "            'suggestCharts', [key], {});\n",
              "      } catch (error) {\n",
              "        console.error('Error during call to suggestCharts:', error);\n",
              "      }\n",
              "      quickchartButtonEl.classList.remove('colab-df-spinner');\n",
              "      quickchartButtonEl.classList.add('colab-df-quickchart-complete');\n",
              "    }\n",
              "    (() => {\n",
              "      let quickchartButtonEl =\n",
              "        document.querySelector('#df-14dc8133-9e1c-465a-8f92-5c8df0947b80 button');\n",
              "      quickchartButtonEl.style.display =\n",
              "        google.colab.kernel.accessAllowed ? 'block' : 'none';\n",
              "    })();\n",
              "  </script>\n",
              "</div>\n",
              "\n",
              "    </div>\n",
              "  </div>\n"
            ],
            "application/vnd.google.colaboratory.intrinsic+json": {
              "type": "dataframe",
              "summary": "{\n  \"name\": \"df\",\n  \"rows\": 5,\n  \"fields\": [\n    {\n      \"column\": \"x\",\n      \"properties\": {\n        \"dtype\": \"number\",\n        \"std\": 4.219004621945797,\n        \"min\": 4.0,\n        \"max\": 14.0,\n        \"num_unique_values\": 5,\n        \"samples\": [\n          6.0,\n          7.0,\n          4.0\n        ],\n        \"semantic_type\": \"\",\n        \"description\": \"\"\n      }\n    },\n    {\n      \"column\": \"y\",\n      \"properties\": {\n        \"dtype\": \"number\",\n        \"std\": 2.9549077819789913,\n        \"min\": 4.26,\n        \"max\": 10.84,\n        \"num_unique_values\": 5,\n        \"samples\": [\n          7.24,\n          4.82,\n          4.26\n        ],\n        \"semantic_type\": \"\",\n        \"description\": \"\"\n      }\n    }\n  ]\n}"
            }
          },
          "metadata": {},
          "execution_count": 70
        }
      ]
    },
    {
      "cell_type": "markdown",
      "metadata": {
        "id": "D51hA3Xo14oV"
      },
      "source": [
        "We can also use comparison or Boolean operators in the values of the columns. This code, e. g., creates a Series that shows which rows of column \"X\" have a value above 8."
      ]
    },
    {
      "cell_type": "code",
      "metadata": {
        "id": "dp-I5gZu14xS",
        "colab": {
          "base_uri": "https://localhost:8080/"
        },
        "outputId": "f4ad1831-c10f-4314-f514-59cec605b75c"
      },
      "source": [
        "df['x'] > 8"
      ],
      "execution_count": null,
      "outputs": [
        {
          "output_type": "execute_result",
          "data": {
            "text/plain": [
              "0      True\n",
              "1     False\n",
              "2      True\n",
              "3      True\n",
              "4      True\n",
              "5      True\n",
              "6     False\n",
              "7     False\n",
              "8      True\n",
              "9     False\n",
              "10    False\n",
              "11     True\n",
              "12    False\n",
              "13     True\n",
              "14     True\n",
              "15     True\n",
              "16     True\n",
              "17    False\n",
              "18    False\n",
              "19     True\n",
              "20    False\n",
              "21    False\n",
              "22     True\n",
              "23    False\n",
              "24     True\n",
              "25     True\n",
              "26     True\n",
              "27     True\n",
              "28    False\n",
              "29    False\n",
              "30     True\n",
              "31    False\n",
              "32    False\n",
              "33    False\n",
              "34    False\n",
              "35    False\n",
              "36    False\n",
              "37    False\n",
              "38    False\n",
              "39    False\n",
              "40     True\n",
              "41    False\n",
              "42    False\n",
              "43    False\n",
              "Name: x, dtype: bool"
            ],
            "text/html": [
              "<div>\n",
              "<style scoped>\n",
              "    .dataframe tbody tr th:only-of-type {\n",
              "        vertical-align: middle;\n",
              "    }\n",
              "\n",
              "    .dataframe tbody tr th {\n",
              "        vertical-align: top;\n",
              "    }\n",
              "\n",
              "    .dataframe thead th {\n",
              "        text-align: right;\n",
              "    }\n",
              "</style>\n",
              "<table border=\"1\" class=\"dataframe\">\n",
              "  <thead>\n",
              "    <tr style=\"text-align: right;\">\n",
              "      <th></th>\n",
              "      <th>x</th>\n",
              "    </tr>\n",
              "  </thead>\n",
              "  <tbody>\n",
              "    <tr>\n",
              "      <th>0</th>\n",
              "      <td>True</td>\n",
              "    </tr>\n",
              "    <tr>\n",
              "      <th>1</th>\n",
              "      <td>False</td>\n",
              "    </tr>\n",
              "    <tr>\n",
              "      <th>2</th>\n",
              "      <td>True</td>\n",
              "    </tr>\n",
              "    <tr>\n",
              "      <th>3</th>\n",
              "      <td>True</td>\n",
              "    </tr>\n",
              "    <tr>\n",
              "      <th>4</th>\n",
              "      <td>True</td>\n",
              "    </tr>\n",
              "    <tr>\n",
              "      <th>5</th>\n",
              "      <td>True</td>\n",
              "    </tr>\n",
              "    <tr>\n",
              "      <th>6</th>\n",
              "      <td>False</td>\n",
              "    </tr>\n",
              "    <tr>\n",
              "      <th>7</th>\n",
              "      <td>False</td>\n",
              "    </tr>\n",
              "    <tr>\n",
              "      <th>8</th>\n",
              "      <td>True</td>\n",
              "    </tr>\n",
              "    <tr>\n",
              "      <th>9</th>\n",
              "      <td>False</td>\n",
              "    </tr>\n",
              "    <tr>\n",
              "      <th>10</th>\n",
              "      <td>False</td>\n",
              "    </tr>\n",
              "    <tr>\n",
              "      <th>11</th>\n",
              "      <td>True</td>\n",
              "    </tr>\n",
              "    <tr>\n",
              "      <th>12</th>\n",
              "      <td>False</td>\n",
              "    </tr>\n",
              "    <tr>\n",
              "      <th>13</th>\n",
              "      <td>True</td>\n",
              "    </tr>\n",
              "    <tr>\n",
              "      <th>14</th>\n",
              "      <td>True</td>\n",
              "    </tr>\n",
              "    <tr>\n",
              "      <th>15</th>\n",
              "      <td>True</td>\n",
              "    </tr>\n",
              "    <tr>\n",
              "      <th>16</th>\n",
              "      <td>True</td>\n",
              "    </tr>\n",
              "    <tr>\n",
              "      <th>17</th>\n",
              "      <td>False</td>\n",
              "    </tr>\n",
              "    <tr>\n",
              "      <th>18</th>\n",
              "      <td>False</td>\n",
              "    </tr>\n",
              "    <tr>\n",
              "      <th>19</th>\n",
              "      <td>True</td>\n",
              "    </tr>\n",
              "    <tr>\n",
              "      <th>20</th>\n",
              "      <td>False</td>\n",
              "    </tr>\n",
              "    <tr>\n",
              "      <th>21</th>\n",
              "      <td>False</td>\n",
              "    </tr>\n",
              "    <tr>\n",
              "      <th>22</th>\n",
              "      <td>True</td>\n",
              "    </tr>\n",
              "    <tr>\n",
              "      <th>23</th>\n",
              "      <td>False</td>\n",
              "    </tr>\n",
              "    <tr>\n",
              "      <th>24</th>\n",
              "      <td>True</td>\n",
              "    </tr>\n",
              "    <tr>\n",
              "      <th>25</th>\n",
              "      <td>True</td>\n",
              "    </tr>\n",
              "    <tr>\n",
              "      <th>26</th>\n",
              "      <td>True</td>\n",
              "    </tr>\n",
              "    <tr>\n",
              "      <th>27</th>\n",
              "      <td>True</td>\n",
              "    </tr>\n",
              "    <tr>\n",
              "      <th>28</th>\n",
              "      <td>False</td>\n",
              "    </tr>\n",
              "    <tr>\n",
              "      <th>29</th>\n",
              "      <td>False</td>\n",
              "    </tr>\n",
              "    <tr>\n",
              "      <th>30</th>\n",
              "      <td>True</td>\n",
              "    </tr>\n",
              "    <tr>\n",
              "      <th>31</th>\n",
              "      <td>False</td>\n",
              "    </tr>\n",
              "    <tr>\n",
              "      <th>32</th>\n",
              "      <td>False</td>\n",
              "    </tr>\n",
              "    <tr>\n",
              "      <th>33</th>\n",
              "      <td>False</td>\n",
              "    </tr>\n",
              "    <tr>\n",
              "      <th>34</th>\n",
              "      <td>False</td>\n",
              "    </tr>\n",
              "    <tr>\n",
              "      <th>35</th>\n",
              "      <td>False</td>\n",
              "    </tr>\n",
              "    <tr>\n",
              "      <th>36</th>\n",
              "      <td>False</td>\n",
              "    </tr>\n",
              "    <tr>\n",
              "      <th>37</th>\n",
              "      <td>False</td>\n",
              "    </tr>\n",
              "    <tr>\n",
              "      <th>38</th>\n",
              "      <td>False</td>\n",
              "    </tr>\n",
              "    <tr>\n",
              "      <th>39</th>\n",
              "      <td>False</td>\n",
              "    </tr>\n",
              "    <tr>\n",
              "      <th>40</th>\n",
              "      <td>True</td>\n",
              "    </tr>\n",
              "    <tr>\n",
              "      <th>41</th>\n",
              "      <td>False</td>\n",
              "    </tr>\n",
              "    <tr>\n",
              "      <th>42</th>\n",
              "      <td>False</td>\n",
              "    </tr>\n",
              "    <tr>\n",
              "      <th>43</th>\n",
              "      <td>False</td>\n",
              "    </tr>\n",
              "  </tbody>\n",
              "</table>\n",
              "</div><br><label><b>dtype:</b> bool</label>"
            ]
          },
          "metadata": {},
          "execution_count": 71
        }
      ]
    },
    {
      "cell_type": "markdown",
      "metadata": {
        "id": "blClRnSI2Ko_"
      },
      "source": [
        "The *Series* previously created can be used as a filter of the original set of data. This code creates a *dataframe* that only contains those rows of the original *dataframe* that have a value above 8 in column \"X\".\n"
      ]
    },
    {
      "cell_type": "code",
      "metadata": {
        "id": "MnzZ83Y_2K2_",
        "colab": {
          "base_uri": "https://localhost:8080/"
        },
        "outputId": "97d3a1ad-15fb-4782-83ec-debe332e888a"
      },
      "source": [
        "df[df['x'] > 8]"
      ],
      "execution_count": null,
      "outputs": [
        {
          "output_type": "execute_result",
          "data": {
            "text/plain": [
              "   dataset     x      y\n",
              "0        I  10.0   8.04\n",
              "2        I  13.0   7.58\n",
              "3        I   9.0   8.81\n",
              "4        I  11.0   8.33\n",
              "5        I  14.0   9.96\n",
              "8        I  12.0  10.84\n",
              "11      II  10.0   9.14\n",
              "13      II  13.0   8.74\n",
              "14      II   9.0   8.77\n",
              "15      II  11.0   9.26\n",
              "16      II  14.0   8.10\n",
              "19      II  12.0   9.13\n",
              "22     III  10.0   7.46\n",
              "24     III  13.0  12.74\n",
              "25     III   9.0   7.11\n",
              "26     III  11.0   7.81\n",
              "27     III  14.0   8.84\n",
              "30     III  12.0   8.15\n",
              "40      IV  19.0  12.50"
            ],
            "text/html": [
              "\n",
              "  <div id=\"df-09c89181-7e37-4f6a-be97-5f21552744bc\" class=\"colab-df-container\">\n",
              "    <div>\n",
              "<style scoped>\n",
              "    .dataframe tbody tr th:only-of-type {\n",
              "        vertical-align: middle;\n",
              "    }\n",
              "\n",
              "    .dataframe tbody tr th {\n",
              "        vertical-align: top;\n",
              "    }\n",
              "\n",
              "    .dataframe thead th {\n",
              "        text-align: right;\n",
              "    }\n",
              "</style>\n",
              "<table border=\"1\" class=\"dataframe\">\n",
              "  <thead>\n",
              "    <tr style=\"text-align: right;\">\n",
              "      <th></th>\n",
              "      <th>dataset</th>\n",
              "      <th>x</th>\n",
              "      <th>y</th>\n",
              "    </tr>\n",
              "  </thead>\n",
              "  <tbody>\n",
              "    <tr>\n",
              "      <th>0</th>\n",
              "      <td>I</td>\n",
              "      <td>10.0</td>\n",
              "      <td>8.04</td>\n",
              "    </tr>\n",
              "    <tr>\n",
              "      <th>2</th>\n",
              "      <td>I</td>\n",
              "      <td>13.0</td>\n",
              "      <td>7.58</td>\n",
              "    </tr>\n",
              "    <tr>\n",
              "      <th>3</th>\n",
              "      <td>I</td>\n",
              "      <td>9.0</td>\n",
              "      <td>8.81</td>\n",
              "    </tr>\n",
              "    <tr>\n",
              "      <th>4</th>\n",
              "      <td>I</td>\n",
              "      <td>11.0</td>\n",
              "      <td>8.33</td>\n",
              "    </tr>\n",
              "    <tr>\n",
              "      <th>5</th>\n",
              "      <td>I</td>\n",
              "      <td>14.0</td>\n",
              "      <td>9.96</td>\n",
              "    </tr>\n",
              "    <tr>\n",
              "      <th>8</th>\n",
              "      <td>I</td>\n",
              "      <td>12.0</td>\n",
              "      <td>10.84</td>\n",
              "    </tr>\n",
              "    <tr>\n",
              "      <th>11</th>\n",
              "      <td>II</td>\n",
              "      <td>10.0</td>\n",
              "      <td>9.14</td>\n",
              "    </tr>\n",
              "    <tr>\n",
              "      <th>13</th>\n",
              "      <td>II</td>\n",
              "      <td>13.0</td>\n",
              "      <td>8.74</td>\n",
              "    </tr>\n",
              "    <tr>\n",
              "      <th>14</th>\n",
              "      <td>II</td>\n",
              "      <td>9.0</td>\n",
              "      <td>8.77</td>\n",
              "    </tr>\n",
              "    <tr>\n",
              "      <th>15</th>\n",
              "      <td>II</td>\n",
              "      <td>11.0</td>\n",
              "      <td>9.26</td>\n",
              "    </tr>\n",
              "    <tr>\n",
              "      <th>16</th>\n",
              "      <td>II</td>\n",
              "      <td>14.0</td>\n",
              "      <td>8.10</td>\n",
              "    </tr>\n",
              "    <tr>\n",
              "      <th>19</th>\n",
              "      <td>II</td>\n",
              "      <td>12.0</td>\n",
              "      <td>9.13</td>\n",
              "    </tr>\n",
              "    <tr>\n",
              "      <th>22</th>\n",
              "      <td>III</td>\n",
              "      <td>10.0</td>\n",
              "      <td>7.46</td>\n",
              "    </tr>\n",
              "    <tr>\n",
              "      <th>24</th>\n",
              "      <td>III</td>\n",
              "      <td>13.0</td>\n",
              "      <td>12.74</td>\n",
              "    </tr>\n",
              "    <tr>\n",
              "      <th>25</th>\n",
              "      <td>III</td>\n",
              "      <td>9.0</td>\n",
              "      <td>7.11</td>\n",
              "    </tr>\n",
              "    <tr>\n",
              "      <th>26</th>\n",
              "      <td>III</td>\n",
              "      <td>11.0</td>\n",
              "      <td>7.81</td>\n",
              "    </tr>\n",
              "    <tr>\n",
              "      <th>27</th>\n",
              "      <td>III</td>\n",
              "      <td>14.0</td>\n",
              "      <td>8.84</td>\n",
              "    </tr>\n",
              "    <tr>\n",
              "      <th>30</th>\n",
              "      <td>III</td>\n",
              "      <td>12.0</td>\n",
              "      <td>8.15</td>\n",
              "    </tr>\n",
              "    <tr>\n",
              "      <th>40</th>\n",
              "      <td>IV</td>\n",
              "      <td>19.0</td>\n",
              "      <td>12.50</td>\n",
              "    </tr>\n",
              "  </tbody>\n",
              "</table>\n",
              "</div>\n",
              "    <div class=\"colab-df-buttons\">\n",
              "\n",
              "  <div class=\"colab-df-container\">\n",
              "    <button class=\"colab-df-convert\" onclick=\"convertToInteractive('df-09c89181-7e37-4f6a-be97-5f21552744bc')\"\n",
              "            title=\"Convert this dataframe to an interactive table.\"\n",
              "            style=\"display:none;\">\n",
              "\n",
              "  <svg xmlns=\"http://www.w3.org/2000/svg\" height=\"24px\" viewBox=\"0 -960 960 960\">\n",
              "    <path d=\"M120-120v-720h720v720H120Zm60-500h600v-160H180v160Zm220 220h160v-160H400v160Zm0 220h160v-160H400v160ZM180-400h160v-160H180v160Zm440 0h160v-160H620v160ZM180-180h160v-160H180v160Zm440 0h160v-160H620v160Z\"/>\n",
              "  </svg>\n",
              "    </button>\n",
              "\n",
              "  <style>\n",
              "    .colab-df-container {\n",
              "      display:flex;\n",
              "      gap: 12px;\n",
              "    }\n",
              "\n",
              "    .colab-df-convert {\n",
              "      background-color: #E8F0FE;\n",
              "      border: none;\n",
              "      border-radius: 50%;\n",
              "      cursor: pointer;\n",
              "      display: none;\n",
              "      fill: #1967D2;\n",
              "      height: 32px;\n",
              "      padding: 0 0 0 0;\n",
              "      width: 32px;\n",
              "    }\n",
              "\n",
              "    .colab-df-convert:hover {\n",
              "      background-color: #E2EBFA;\n",
              "      box-shadow: 0px 1px 2px rgba(60, 64, 67, 0.3), 0px 1px 3px 1px rgba(60, 64, 67, 0.15);\n",
              "      fill: #174EA6;\n",
              "    }\n",
              "\n",
              "    .colab-df-buttons div {\n",
              "      margin-bottom: 4px;\n",
              "    }\n",
              "\n",
              "    [theme=dark] .colab-df-convert {\n",
              "      background-color: #3B4455;\n",
              "      fill: #D2E3FC;\n",
              "    }\n",
              "\n",
              "    [theme=dark] .colab-df-convert:hover {\n",
              "      background-color: #434B5C;\n",
              "      box-shadow: 0px 1px 3px 1px rgba(0, 0, 0, 0.15);\n",
              "      filter: drop-shadow(0px 1px 2px rgba(0, 0, 0, 0.3));\n",
              "      fill: #FFFFFF;\n",
              "    }\n",
              "  </style>\n",
              "\n",
              "    <script>\n",
              "      const buttonEl =\n",
              "        document.querySelector('#df-09c89181-7e37-4f6a-be97-5f21552744bc button.colab-df-convert');\n",
              "      buttonEl.style.display =\n",
              "        google.colab.kernel.accessAllowed ? 'block' : 'none';\n",
              "\n",
              "      async function convertToInteractive(key) {\n",
              "        const element = document.querySelector('#df-09c89181-7e37-4f6a-be97-5f21552744bc');\n",
              "        const dataTable =\n",
              "          await google.colab.kernel.invokeFunction('convertToInteractive',\n",
              "                                                    [key], {});\n",
              "        if (!dataTable) return;\n",
              "\n",
              "        const docLinkHtml = 'Like what you see? Visit the ' +\n",
              "          '<a target=\"_blank\" href=https://colab.research.google.com/notebooks/data_table.ipynb>data table notebook</a>'\n",
              "          + ' to learn more about interactive tables.';\n",
              "        element.innerHTML = '';\n",
              "        dataTable['output_type'] = 'display_data';\n",
              "        await google.colab.output.renderOutput(dataTable, element);\n",
              "        const docLink = document.createElement('div');\n",
              "        docLink.innerHTML = docLinkHtml;\n",
              "        element.appendChild(docLink);\n",
              "      }\n",
              "    </script>\n",
              "  </div>\n",
              "\n",
              "\n",
              "<div id=\"df-f24af000-9a0b-4acd-9d1c-051e0fde1260\">\n",
              "  <button class=\"colab-df-quickchart\" onclick=\"quickchart('df-f24af000-9a0b-4acd-9d1c-051e0fde1260')\"\n",
              "            title=\"Suggest charts\"\n",
              "            style=\"display:none;\">\n",
              "\n",
              "<svg xmlns=\"http://www.w3.org/2000/svg\" height=\"24px\"viewBox=\"0 0 24 24\"\n",
              "     width=\"24px\">\n",
              "    <g>\n",
              "        <path d=\"M19 3H5c-1.1 0-2 .9-2 2v14c0 1.1.9 2 2 2h14c1.1 0 2-.9 2-2V5c0-1.1-.9-2-2-2zM9 17H7v-7h2v7zm4 0h-2V7h2v10zm4 0h-2v-4h2v4z\"/>\n",
              "    </g>\n",
              "</svg>\n",
              "  </button>\n",
              "\n",
              "<style>\n",
              "  .colab-df-quickchart {\n",
              "      --bg-color: #E8F0FE;\n",
              "      --fill-color: #1967D2;\n",
              "      --hover-bg-color: #E2EBFA;\n",
              "      --hover-fill-color: #174EA6;\n",
              "      --disabled-fill-color: #AAA;\n",
              "      --disabled-bg-color: #DDD;\n",
              "  }\n",
              "\n",
              "  [theme=dark] .colab-df-quickchart {\n",
              "      --bg-color: #3B4455;\n",
              "      --fill-color: #D2E3FC;\n",
              "      --hover-bg-color: #434B5C;\n",
              "      --hover-fill-color: #FFFFFF;\n",
              "      --disabled-bg-color: #3B4455;\n",
              "      --disabled-fill-color: #666;\n",
              "  }\n",
              "\n",
              "  .colab-df-quickchart {\n",
              "    background-color: var(--bg-color);\n",
              "    border: none;\n",
              "    border-radius: 50%;\n",
              "    cursor: pointer;\n",
              "    display: none;\n",
              "    fill: var(--fill-color);\n",
              "    height: 32px;\n",
              "    padding: 0;\n",
              "    width: 32px;\n",
              "  }\n",
              "\n",
              "  .colab-df-quickchart:hover {\n",
              "    background-color: var(--hover-bg-color);\n",
              "    box-shadow: 0 1px 2px rgba(60, 64, 67, 0.3), 0 1px 3px 1px rgba(60, 64, 67, 0.15);\n",
              "    fill: var(--button-hover-fill-color);\n",
              "  }\n",
              "\n",
              "  .colab-df-quickchart-complete:disabled,\n",
              "  .colab-df-quickchart-complete:disabled:hover {\n",
              "    background-color: var(--disabled-bg-color);\n",
              "    fill: var(--disabled-fill-color);\n",
              "    box-shadow: none;\n",
              "  }\n",
              "\n",
              "  .colab-df-spinner {\n",
              "    border: 2px solid var(--fill-color);\n",
              "    border-color: transparent;\n",
              "    border-bottom-color: var(--fill-color);\n",
              "    animation:\n",
              "      spin 1s steps(1) infinite;\n",
              "  }\n",
              "\n",
              "  @keyframes spin {\n",
              "    0% {\n",
              "      border-color: transparent;\n",
              "      border-bottom-color: var(--fill-color);\n",
              "      border-left-color: var(--fill-color);\n",
              "    }\n",
              "    20% {\n",
              "      border-color: transparent;\n",
              "      border-left-color: var(--fill-color);\n",
              "      border-top-color: var(--fill-color);\n",
              "    }\n",
              "    30% {\n",
              "      border-color: transparent;\n",
              "      border-left-color: var(--fill-color);\n",
              "      border-top-color: var(--fill-color);\n",
              "      border-right-color: var(--fill-color);\n",
              "    }\n",
              "    40% {\n",
              "      border-color: transparent;\n",
              "      border-right-color: var(--fill-color);\n",
              "      border-top-color: var(--fill-color);\n",
              "    }\n",
              "    60% {\n",
              "      border-color: transparent;\n",
              "      border-right-color: var(--fill-color);\n",
              "    }\n",
              "    80% {\n",
              "      border-color: transparent;\n",
              "      border-right-color: var(--fill-color);\n",
              "      border-bottom-color: var(--fill-color);\n",
              "    }\n",
              "    90% {\n",
              "      border-color: transparent;\n",
              "      border-bottom-color: var(--fill-color);\n",
              "    }\n",
              "  }\n",
              "</style>\n",
              "\n",
              "  <script>\n",
              "    async function quickchart(key) {\n",
              "      const quickchartButtonEl =\n",
              "        document.querySelector('#' + key + ' button');\n",
              "      quickchartButtonEl.disabled = true;  // To prevent multiple clicks.\n",
              "      quickchartButtonEl.classList.add('colab-df-spinner');\n",
              "      try {\n",
              "        const charts = await google.colab.kernel.invokeFunction(\n",
              "            'suggestCharts', [key], {});\n",
              "      } catch (error) {\n",
              "        console.error('Error during call to suggestCharts:', error);\n",
              "      }\n",
              "      quickchartButtonEl.classList.remove('colab-df-spinner');\n",
              "      quickchartButtonEl.classList.add('colab-df-quickchart-complete');\n",
              "    }\n",
              "    (() => {\n",
              "      let quickchartButtonEl =\n",
              "        document.querySelector('#df-f24af000-9a0b-4acd-9d1c-051e0fde1260 button');\n",
              "      quickchartButtonEl.style.display =\n",
              "        google.colab.kernel.accessAllowed ? 'block' : 'none';\n",
              "    })();\n",
              "  </script>\n",
              "</div>\n",
              "\n",
              "    </div>\n",
              "  </div>\n"
            ],
            "application/vnd.google.colaboratory.intrinsic+json": {
              "type": "dataframe",
              "summary": "{\n  \"name\": \"df[df['x'] > 8]\",\n  \"rows\": 19,\n  \"fields\": [\n    {\n      \"column\": \"dataset\",\n      \"properties\": {\n        \"dtype\": \"category\",\n        \"num_unique_values\": 4,\n        \"samples\": [\n          \"II\",\n          \"IV\",\n          \"I\"\n        ],\n        \"semantic_type\": \"\",\n        \"description\": \"\"\n      }\n    },\n    {\n      \"column\": \"x\",\n      \"properties\": {\n        \"dtype\": \"number\",\n        \"std\": 2.424292264240461,\n        \"min\": 9.0,\n        \"max\": 19.0,\n        \"num_unique_values\": 7,\n        \"samples\": [\n          10.0,\n          13.0,\n          12.0\n        ],\n        \"semantic_type\": \"\",\n        \"description\": \"\"\n      }\n    },\n    {\n      \"column\": \"y\",\n      \"properties\": {\n        \"dtype\": \"number\",\n        \"std\": 1.5474933513636238,\n        \"min\": 7.11,\n        \"max\": 12.74,\n        \"num_unique_values\": 19,\n        \"samples\": [\n          8.04,\n          10.84,\n          9.13\n        ],\n        \"semantic_type\": \"\",\n        \"description\": \"\"\n      }\n    }\n  ]\n}"
            }
          },
          "metadata": {},
          "execution_count": 72
        }
      ]
    },
    {
      "cell_type": "markdown",
      "metadata": {
        "id": "CB0qr6203P7e"
      },
      "source": [
        "5.2 Example of a function\n",
        "---\n",
        "We can also filter non numerical values, e. g., the following code creates a *dataframe* that only contains the rows of the region defined as \"I\"."
      ]
    },
    {
      "cell_type": "code",
      "metadata": {
        "id": "ombnFT7R54mj",
        "colab": {
          "base_uri": "https://localhost:8080/"
        },
        "outputId": "b5cf7481-9f43-4b5e-a766-10b5ccdbf171"
      },
      "source": [
        "#It is convenient to filter data by its type (I, II, III y IV)\n",
        "#This filtering can be made with the pandas module, that allows us to filter data adding conditions\n",
        "# as index, in this case the condition is that the \"Dataset\" column has the value I , II, III or IV.\n",
        "df_I = df[df['dataset']=='I']\n",
        "df_II = df[df['dataset']=='II']\n",
        "df_III = df[df['dataset']=='III']\n",
        "df_IV = df[df['dataset']=='IV']\n",
        "\n",
        "df_I"
      ],
      "execution_count": null,
      "outputs": [
        {
          "output_type": "execute_result",
          "data": {
            "text/plain": [
              "   dataset     x      y\n",
              "0        I  10.0   8.04\n",
              "1        I   8.0   6.95\n",
              "2        I  13.0   7.58\n",
              "3        I   9.0   8.81\n",
              "4        I  11.0   8.33\n",
              "5        I  14.0   9.96\n",
              "6        I   6.0   7.24\n",
              "7        I   4.0   4.26\n",
              "8        I  12.0  10.84\n",
              "9        I   7.0   4.82\n",
              "10       I   5.0   5.68"
            ],
            "text/html": [
              "\n",
              "  <div id=\"df-7cb3da4b-bd58-4617-8ef9-aa134710050c\" class=\"colab-df-container\">\n",
              "    <div>\n",
              "<style scoped>\n",
              "    .dataframe tbody tr th:only-of-type {\n",
              "        vertical-align: middle;\n",
              "    }\n",
              "\n",
              "    .dataframe tbody tr th {\n",
              "        vertical-align: top;\n",
              "    }\n",
              "\n",
              "    .dataframe thead th {\n",
              "        text-align: right;\n",
              "    }\n",
              "</style>\n",
              "<table border=\"1\" class=\"dataframe\">\n",
              "  <thead>\n",
              "    <tr style=\"text-align: right;\">\n",
              "      <th></th>\n",
              "      <th>dataset</th>\n",
              "      <th>x</th>\n",
              "      <th>y</th>\n",
              "    </tr>\n",
              "  </thead>\n",
              "  <tbody>\n",
              "    <tr>\n",
              "      <th>0</th>\n",
              "      <td>I</td>\n",
              "      <td>10.0</td>\n",
              "      <td>8.04</td>\n",
              "    </tr>\n",
              "    <tr>\n",
              "      <th>1</th>\n",
              "      <td>I</td>\n",
              "      <td>8.0</td>\n",
              "      <td>6.95</td>\n",
              "    </tr>\n",
              "    <tr>\n",
              "      <th>2</th>\n",
              "      <td>I</td>\n",
              "      <td>13.0</td>\n",
              "      <td>7.58</td>\n",
              "    </tr>\n",
              "    <tr>\n",
              "      <th>3</th>\n",
              "      <td>I</td>\n",
              "      <td>9.0</td>\n",
              "      <td>8.81</td>\n",
              "    </tr>\n",
              "    <tr>\n",
              "      <th>4</th>\n",
              "      <td>I</td>\n",
              "      <td>11.0</td>\n",
              "      <td>8.33</td>\n",
              "    </tr>\n",
              "    <tr>\n",
              "      <th>5</th>\n",
              "      <td>I</td>\n",
              "      <td>14.0</td>\n",
              "      <td>9.96</td>\n",
              "    </tr>\n",
              "    <tr>\n",
              "      <th>6</th>\n",
              "      <td>I</td>\n",
              "      <td>6.0</td>\n",
              "      <td>7.24</td>\n",
              "    </tr>\n",
              "    <tr>\n",
              "      <th>7</th>\n",
              "      <td>I</td>\n",
              "      <td>4.0</td>\n",
              "      <td>4.26</td>\n",
              "    </tr>\n",
              "    <tr>\n",
              "      <th>8</th>\n",
              "      <td>I</td>\n",
              "      <td>12.0</td>\n",
              "      <td>10.84</td>\n",
              "    </tr>\n",
              "    <tr>\n",
              "      <th>9</th>\n",
              "      <td>I</td>\n",
              "      <td>7.0</td>\n",
              "      <td>4.82</td>\n",
              "    </tr>\n",
              "    <tr>\n",
              "      <th>10</th>\n",
              "      <td>I</td>\n",
              "      <td>5.0</td>\n",
              "      <td>5.68</td>\n",
              "    </tr>\n",
              "  </tbody>\n",
              "</table>\n",
              "</div>\n",
              "    <div class=\"colab-df-buttons\">\n",
              "\n",
              "  <div class=\"colab-df-container\">\n",
              "    <button class=\"colab-df-convert\" onclick=\"convertToInteractive('df-7cb3da4b-bd58-4617-8ef9-aa134710050c')\"\n",
              "            title=\"Convert this dataframe to an interactive table.\"\n",
              "            style=\"display:none;\">\n",
              "\n",
              "  <svg xmlns=\"http://www.w3.org/2000/svg\" height=\"24px\" viewBox=\"0 -960 960 960\">\n",
              "    <path d=\"M120-120v-720h720v720H120Zm60-500h600v-160H180v160Zm220 220h160v-160H400v160Zm0 220h160v-160H400v160ZM180-400h160v-160H180v160Zm440 0h160v-160H620v160ZM180-180h160v-160H180v160Zm440 0h160v-160H620v160Z\"/>\n",
              "  </svg>\n",
              "    </button>\n",
              "\n",
              "  <style>\n",
              "    .colab-df-container {\n",
              "      display:flex;\n",
              "      gap: 12px;\n",
              "    }\n",
              "\n",
              "    .colab-df-convert {\n",
              "      background-color: #E8F0FE;\n",
              "      border: none;\n",
              "      border-radius: 50%;\n",
              "      cursor: pointer;\n",
              "      display: none;\n",
              "      fill: #1967D2;\n",
              "      height: 32px;\n",
              "      padding: 0 0 0 0;\n",
              "      width: 32px;\n",
              "    }\n",
              "\n",
              "    .colab-df-convert:hover {\n",
              "      background-color: #E2EBFA;\n",
              "      box-shadow: 0px 1px 2px rgba(60, 64, 67, 0.3), 0px 1px 3px 1px rgba(60, 64, 67, 0.15);\n",
              "      fill: #174EA6;\n",
              "    }\n",
              "\n",
              "    .colab-df-buttons div {\n",
              "      margin-bottom: 4px;\n",
              "    }\n",
              "\n",
              "    [theme=dark] .colab-df-convert {\n",
              "      background-color: #3B4455;\n",
              "      fill: #D2E3FC;\n",
              "    }\n",
              "\n",
              "    [theme=dark] .colab-df-convert:hover {\n",
              "      background-color: #434B5C;\n",
              "      box-shadow: 0px 1px 3px 1px rgba(0, 0, 0, 0.15);\n",
              "      filter: drop-shadow(0px 1px 2px rgba(0, 0, 0, 0.3));\n",
              "      fill: #FFFFFF;\n",
              "    }\n",
              "  </style>\n",
              "\n",
              "    <script>\n",
              "      const buttonEl =\n",
              "        document.querySelector('#df-7cb3da4b-bd58-4617-8ef9-aa134710050c button.colab-df-convert');\n",
              "      buttonEl.style.display =\n",
              "        google.colab.kernel.accessAllowed ? 'block' : 'none';\n",
              "\n",
              "      async function convertToInteractive(key) {\n",
              "        const element = document.querySelector('#df-7cb3da4b-bd58-4617-8ef9-aa134710050c');\n",
              "        const dataTable =\n",
              "          await google.colab.kernel.invokeFunction('convertToInteractive',\n",
              "                                                    [key], {});\n",
              "        if (!dataTable) return;\n",
              "\n",
              "        const docLinkHtml = 'Like what you see? Visit the ' +\n",
              "          '<a target=\"_blank\" href=https://colab.research.google.com/notebooks/data_table.ipynb>data table notebook</a>'\n",
              "          + ' to learn more about interactive tables.';\n",
              "        element.innerHTML = '';\n",
              "        dataTable['output_type'] = 'display_data';\n",
              "        await google.colab.output.renderOutput(dataTable, element);\n",
              "        const docLink = document.createElement('div');\n",
              "        docLink.innerHTML = docLinkHtml;\n",
              "        element.appendChild(docLink);\n",
              "      }\n",
              "    </script>\n",
              "  </div>\n",
              "\n",
              "\n",
              "<div id=\"df-a3c510d3-8e77-4af3-a09d-971be74b5df6\">\n",
              "  <button class=\"colab-df-quickchart\" onclick=\"quickchart('df-a3c510d3-8e77-4af3-a09d-971be74b5df6')\"\n",
              "            title=\"Suggest charts\"\n",
              "            style=\"display:none;\">\n",
              "\n",
              "<svg xmlns=\"http://www.w3.org/2000/svg\" height=\"24px\"viewBox=\"0 0 24 24\"\n",
              "     width=\"24px\">\n",
              "    <g>\n",
              "        <path d=\"M19 3H5c-1.1 0-2 .9-2 2v14c0 1.1.9 2 2 2h14c1.1 0 2-.9 2-2V5c0-1.1-.9-2-2-2zM9 17H7v-7h2v7zm4 0h-2V7h2v10zm4 0h-2v-4h2v4z\"/>\n",
              "    </g>\n",
              "</svg>\n",
              "  </button>\n",
              "\n",
              "<style>\n",
              "  .colab-df-quickchart {\n",
              "      --bg-color: #E8F0FE;\n",
              "      --fill-color: #1967D2;\n",
              "      --hover-bg-color: #E2EBFA;\n",
              "      --hover-fill-color: #174EA6;\n",
              "      --disabled-fill-color: #AAA;\n",
              "      --disabled-bg-color: #DDD;\n",
              "  }\n",
              "\n",
              "  [theme=dark] .colab-df-quickchart {\n",
              "      --bg-color: #3B4455;\n",
              "      --fill-color: #D2E3FC;\n",
              "      --hover-bg-color: #434B5C;\n",
              "      --hover-fill-color: #FFFFFF;\n",
              "      --disabled-bg-color: #3B4455;\n",
              "      --disabled-fill-color: #666;\n",
              "  }\n",
              "\n",
              "  .colab-df-quickchart {\n",
              "    background-color: var(--bg-color);\n",
              "    border: none;\n",
              "    border-radius: 50%;\n",
              "    cursor: pointer;\n",
              "    display: none;\n",
              "    fill: var(--fill-color);\n",
              "    height: 32px;\n",
              "    padding: 0;\n",
              "    width: 32px;\n",
              "  }\n",
              "\n",
              "  .colab-df-quickchart:hover {\n",
              "    background-color: var(--hover-bg-color);\n",
              "    box-shadow: 0 1px 2px rgba(60, 64, 67, 0.3), 0 1px 3px 1px rgba(60, 64, 67, 0.15);\n",
              "    fill: var(--button-hover-fill-color);\n",
              "  }\n",
              "\n",
              "  .colab-df-quickchart-complete:disabled,\n",
              "  .colab-df-quickchart-complete:disabled:hover {\n",
              "    background-color: var(--disabled-bg-color);\n",
              "    fill: var(--disabled-fill-color);\n",
              "    box-shadow: none;\n",
              "  }\n",
              "\n",
              "  .colab-df-spinner {\n",
              "    border: 2px solid var(--fill-color);\n",
              "    border-color: transparent;\n",
              "    border-bottom-color: var(--fill-color);\n",
              "    animation:\n",
              "      spin 1s steps(1) infinite;\n",
              "  }\n",
              "\n",
              "  @keyframes spin {\n",
              "    0% {\n",
              "      border-color: transparent;\n",
              "      border-bottom-color: var(--fill-color);\n",
              "      border-left-color: var(--fill-color);\n",
              "    }\n",
              "    20% {\n",
              "      border-color: transparent;\n",
              "      border-left-color: var(--fill-color);\n",
              "      border-top-color: var(--fill-color);\n",
              "    }\n",
              "    30% {\n",
              "      border-color: transparent;\n",
              "      border-left-color: var(--fill-color);\n",
              "      border-top-color: var(--fill-color);\n",
              "      border-right-color: var(--fill-color);\n",
              "    }\n",
              "    40% {\n",
              "      border-color: transparent;\n",
              "      border-right-color: var(--fill-color);\n",
              "      border-top-color: var(--fill-color);\n",
              "    }\n",
              "    60% {\n",
              "      border-color: transparent;\n",
              "      border-right-color: var(--fill-color);\n",
              "    }\n",
              "    80% {\n",
              "      border-color: transparent;\n",
              "      border-right-color: var(--fill-color);\n",
              "      border-bottom-color: var(--fill-color);\n",
              "    }\n",
              "    90% {\n",
              "      border-color: transparent;\n",
              "      border-bottom-color: var(--fill-color);\n",
              "    }\n",
              "  }\n",
              "</style>\n",
              "\n",
              "  <script>\n",
              "    async function quickchart(key) {\n",
              "      const quickchartButtonEl =\n",
              "        document.querySelector('#' + key + ' button');\n",
              "      quickchartButtonEl.disabled = true;  // To prevent multiple clicks.\n",
              "      quickchartButtonEl.classList.add('colab-df-spinner');\n",
              "      try {\n",
              "        const charts = await google.colab.kernel.invokeFunction(\n",
              "            'suggestCharts', [key], {});\n",
              "      } catch (error) {\n",
              "        console.error('Error during call to suggestCharts:', error);\n",
              "      }\n",
              "      quickchartButtonEl.classList.remove('colab-df-spinner');\n",
              "      quickchartButtonEl.classList.add('colab-df-quickchart-complete');\n",
              "    }\n",
              "    (() => {\n",
              "      let quickchartButtonEl =\n",
              "        document.querySelector('#df-a3c510d3-8e77-4af3-a09d-971be74b5df6 button');\n",
              "      quickchartButtonEl.style.display =\n",
              "        google.colab.kernel.accessAllowed ? 'block' : 'none';\n",
              "    })();\n",
              "  </script>\n",
              "</div>\n",
              "\n",
              "  <div id=\"id_45cb568d-414a-412a-ade8-3f910136dcf4\">\n",
              "    <style>\n",
              "      .colab-df-generate {\n",
              "        background-color: #E8F0FE;\n",
              "        border: none;\n",
              "        border-radius: 50%;\n",
              "        cursor: pointer;\n",
              "        display: none;\n",
              "        fill: #1967D2;\n",
              "        height: 32px;\n",
              "        padding: 0 0 0 0;\n",
              "        width: 32px;\n",
              "      }\n",
              "\n",
              "      .colab-df-generate:hover {\n",
              "        background-color: #E2EBFA;\n",
              "        box-shadow: 0px 1px 2px rgba(60, 64, 67, 0.3), 0px 1px 3px 1px rgba(60, 64, 67, 0.15);\n",
              "        fill: #174EA6;\n",
              "      }\n",
              "\n",
              "      [theme=dark] .colab-df-generate {\n",
              "        background-color: #3B4455;\n",
              "        fill: #D2E3FC;\n",
              "      }\n",
              "\n",
              "      [theme=dark] .colab-df-generate:hover {\n",
              "        background-color: #434B5C;\n",
              "        box-shadow: 0px 1px 3px 1px rgba(0, 0, 0, 0.15);\n",
              "        filter: drop-shadow(0px 1px 2px rgba(0, 0, 0, 0.3));\n",
              "        fill: #FFFFFF;\n",
              "      }\n",
              "    </style>\n",
              "    <button class=\"colab-df-generate\" onclick=\"generateWithVariable('df_I')\"\n",
              "            title=\"Generate code using this dataframe.\"\n",
              "            style=\"display:none;\">\n",
              "\n",
              "  <svg xmlns=\"http://www.w3.org/2000/svg\" height=\"24px\"viewBox=\"0 0 24 24\"\n",
              "       width=\"24px\">\n",
              "    <path d=\"M7,19H8.4L18.45,9,17,7.55,7,17.6ZM5,21V16.75L18.45,3.32a2,2,0,0,1,2.83,0l1.4,1.43a1.91,1.91,0,0,1,.58,1.4,1.91,1.91,0,0,1-.58,1.4L9.25,21ZM18.45,9,17,7.55Zm-12,3A5.31,5.31,0,0,0,4.9,8.1,5.31,5.31,0,0,0,1,6.5,5.31,5.31,0,0,0,4.9,4.9,5.31,5.31,0,0,0,6.5,1,5.31,5.31,0,0,0,8.1,4.9,5.31,5.31,0,0,0,12,6.5,5.46,5.46,0,0,0,6.5,12Z\"/>\n",
              "  </svg>\n",
              "    </button>\n",
              "    <script>\n",
              "      (() => {\n",
              "      const buttonEl =\n",
              "        document.querySelector('#id_45cb568d-414a-412a-ade8-3f910136dcf4 button.colab-df-generate');\n",
              "      buttonEl.style.display =\n",
              "        google.colab.kernel.accessAllowed ? 'block' : 'none';\n",
              "\n",
              "      buttonEl.onclick = () => {\n",
              "        google.colab.notebook.generateWithVariable('df_I');\n",
              "      }\n",
              "      })();\n",
              "    </script>\n",
              "  </div>\n",
              "\n",
              "    </div>\n",
              "  </div>\n"
            ],
            "application/vnd.google.colaboratory.intrinsic+json": {
              "type": "dataframe",
              "variable_name": "df_I",
              "summary": "{\n  \"name\": \"df_I\",\n  \"rows\": 11,\n  \"fields\": [\n    {\n      \"column\": \"dataset\",\n      \"properties\": {\n        \"dtype\": \"category\",\n        \"num_unique_values\": 1,\n        \"samples\": [\n          \"I\"\n        ],\n        \"semantic_type\": \"\",\n        \"description\": \"\"\n      }\n    },\n    {\n      \"column\": \"x\",\n      \"properties\": {\n        \"dtype\": \"number\",\n        \"std\": 3.3166247903554,\n        \"min\": 4.0,\n        \"max\": 14.0,\n        \"num_unique_values\": 11,\n        \"samples\": [\n          14.0\n        ],\n        \"semantic_type\": \"\",\n        \"description\": \"\"\n      }\n    },\n    {\n      \"column\": \"y\",\n      \"properties\": {\n        \"dtype\": \"number\",\n        \"std\": 2.031568135925815,\n        \"min\": 4.26,\n        \"max\": 10.84,\n        \"num_unique_values\": 11,\n        \"samples\": [\n          9.96\n        ],\n        \"semantic_type\": \"\",\n        \"description\": \"\"\n      }\n    }\n  ]\n}"
            }
          },
          "metadata": {},
          "execution_count": 73
        }
      ]
    },
    {
      "cell_type": "markdown",
      "source": [
        "#*6. Upload data to Google Colab*\n",
        "---"
      ],
      "metadata": {
        "id": "if00xi5q_Afm"
      }
    },
    {
      "cell_type": "markdown",
      "source": [
        "Before working with a database in Python we need to upload it in the programming environment. To upload a database, we can use the Pandas library and the read_csv function (this depends on the type of file)"
      ],
      "metadata": {
        "id": "-dVO1ECt5Ahk"
      }
    },
    {
      "cell_type": "code",
      "source": [
        "#For example, if we have a csv file called \"data.csv\", we can uploaded it with:\n",
        "import pandas as pd\n",
        "data = pd.read_csv(\"/content/data.csv\")"
      ],
      "metadata": {
        "id": "3UCTpJkRT8Iw"
      },
      "execution_count": null,
      "outputs": []
    },
    {
      "cell_type": "markdown",
      "source": [
        "To upload a file, it is necessary to know its file path, which is detailed below."
      ],
      "metadata": {
        "id": "VGG4dNwvEVwB"
      }
    },
    {
      "cell_type": "markdown",
      "metadata": {
        "id": "SYk_rHtewAbv"
      },
      "source": [
        "\n",
        "##6.1 Upload a file from the PC to Google Colab\n",
        "\n",
        "\n",
        "\n",
        "\n",
        "1. Download the dataset from the URL to the PC.\n",
        "2. Go to the last symbol of the left side tab of the screen (\"Files\").\n",
        "\n",
        "![image.png](data:image/png;base64,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)\n",
        "\n",
        "3. We click th first symbol (paper sheet with a upward arrow) and select the previously downloaded file.\n",
        "\n",
        "4. We right click on the file and select \"copy path\".\n",
        "![Conversion of data types (1).png](data:image/png;base64,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)\n",
        "\n",
        "5. Paste the path in the `pd.read_csv()` argument, and add another parameter: `delimiter=\"\"` , where we add in the quotation marks, which is the character that limits the different columns of the files.\n",
        "\n",
        "\n",
        "Obs 1: Where it says \"winequality-red.csv\", winequality-red is the name of the file that will be used in this codebook. To use other files, use:  \"Filethatyouchoose.csv\"\n",
        "\n"
      ]
    },
    {
      "cell_type": "markdown",
      "source": [
        "## 6.2 Upload a file that is in Google Drive\n",
        "\n",
        "1.   Execute the  cell below.   \n",
        "2. Allow access to the *notebook* to the Google Drive files.\n",
        "3.   Choose the Gmail account and allow the access to Drive.\n",
        "Now you can see your Google Drive files in the left tab (files). Click in the file you want to import and select \"copy the file path\". Then import as usual in Pandas, and paste the copied file path."
      ],
      "metadata": {
        "id": "8PehLTtxO42j"
      }
    },
    {
      "cell_type": "code",
      "source": [
        "#Run this cell to activate Google Drive\n",
        "from google.colab import drive\n",
        "drive.mount('/content/drive')"
      ],
      "metadata": {
        "id": "JoU9Hku8FBgy"
      },
      "execution_count": null,
      "outputs": []
    },
    {
      "cell_type": "markdown",
      "source": [
        "---\n",
        "# For more information:\n",
        "\n",
        "* Joshi, J. (2021). Chapter 9 - Python, a reliable programming language for chemoinformatics and bioinformatics. In N. Sharma, H. Ojha, P. K. Raghav, & R. k. Goyal (Eds.), *Chemoinformatics and Bioinformatics in the Pharmaceutical Sciences* (pp. 279–304). Academic Press. DOI: https://doi.org/10.1016/B978-0-12-821748-1.00013-0.\n",
        "\n",
        "\n",
        "* Python Cheat Sheet. InterviewBit. Recovered August 2022, from https://www.interviewbit.com/python-cheat-sheet/\n",
        "\n",
        "* Programación con Python. Recovered October 2023, from https://aprendeconalf.es/docencia/python/"
      ],
      "metadata": {
        "id": "jycieF8orBA5"
      }
    }
  ]
}